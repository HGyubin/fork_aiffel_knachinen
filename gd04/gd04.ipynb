{
 "cells": [
  {
   "cell_type": "markdown",
   "id": "3d55dfba",
   "metadata": {},
   "source": [
    "# 평가문항 - 상세기준\n",
    "\n",
    "- 번역기 모델 학습에 필요한 텍스트 데이터 전처리가 한국어 포함하여 잘 이루어졌다.\n",
    "  - 구두점, 대소문자, 띄어쓰기, 한글 형태소분석 등 번역기 모델에 요구되는 전처리가 정상적으로 진행되었다.\n",
    "- Attentional Seq2seq 모델이 정상적으로 구동된다.\n",
    "  - seq2seq 모델 훈련 과정에서 training loss가 안정적으로 떨어지면서 학습이 진행됨이 확인되었다.\n",
    "- 테스트 결과 의미가 통하는 수준의 번역문이 생성되었다.\n",
    "  - 테스트용 디코더 모델이 정상적으로 만들어져서, 정답과 어느 정도 유사한 영어 번역이 진행됨을 확인하였다."
   ]
  },
  {
   "cell_type": "code",
   "execution_count": 3,
   "id": "a676e7c1",
   "metadata": {
    "execution": {
     "iopub.execute_input": "2023-08-24T08:47:06.701433Z",
     "iopub.status.busy": "2023-08-24T08:47:06.699168Z",
     "iopub.status.idle": "2023-08-24T08:47:07.061594Z",
     "shell.execute_reply": "2023-08-24T08:47:07.061211Z",
     "shell.execute_reply.started": "2023-08-24T08:47:06.701346Z"
    }
   },
   "outputs": [],
   "source": [
    "# 파일 저장 커스텀 모듈\n",
    "\n",
    "import sys\n",
    "sys.path.append(\"../custom\")\n",
    "\n",
    "from importlib import reload\n",
    "import custom_utils\n",
    "reload(custom_utils)\n",
    "\n",
    "from custom_utils import save_var, load_var\n"
   ]
  },
  {
   "cell_type": "code",
   "execution_count": 4,
   "id": "3eaafa59",
   "metadata": {
    "execution": {
     "iopub.execute_input": "2023-08-24T08:47:07.844927Z",
     "iopub.status.busy": "2023-08-24T08:47:07.844395Z",
     "iopub.status.idle": "2023-08-24T08:47:12.632996Z",
     "shell.execute_reply": "2023-08-24T08:47:12.632548Z",
     "shell.execute_reply.started": "2023-08-24T08:47:07.844845Z"
    }
   },
   "outputs": [],
   "source": [
    "import time\n",
    "import re\n",
    "import os\n",
    "import io\n",
    "import random\n",
    "\n",
    "from tqdm import tqdm\n",
    "\n",
    "import pandas as pd\n",
    "import numpy as np\n",
    "\n",
    "import matplotlib.ticker as ticker\n",
    "import matplotlib.pyplot as plt\n",
    "\n",
    "import tensorflow as tf\n",
    "import matplotlib\n",
    "\n"
   ]
  },
  {
   "cell_type": "code",
   "execution_count": 5,
   "id": "1c822d08",
   "metadata": {
    "execution": {
     "iopub.execute_input": "2023-08-24T08:47:12.634334Z",
     "iopub.status.busy": "2023-08-24T08:47:12.634083Z",
     "iopub.status.idle": "2023-08-24T08:47:12.639434Z",
     "shell.execute_reply": "2023-08-24T08:47:12.638740Z",
     "shell.execute_reply.started": "2023-08-24T08:47:12.634323Z"
    }
   },
   "outputs": [
    {
     "name": "stdout",
     "output_type": "stream",
     "text": [
      "2.0.3\n",
      "2.13.0\n",
      "3.7.2\n"
     ]
    }
   ],
   "source": [
    "print(pd.__version__)\n",
    "print(tf.__version__)\n",
    "print(matplotlib.__version__)"
   ]
  },
  {
   "cell_type": "code",
   "execution_count": 6,
   "id": "7c419fb3",
   "metadata": {
    "execution": {
     "iopub.execute_input": "2023-08-24T08:47:12.640778Z",
     "iopub.status.busy": "2023-08-24T08:47:12.640527Z",
     "iopub.status.idle": "2023-08-24T08:47:12.678461Z",
     "shell.execute_reply": "2023-08-24T08:47:12.676653Z",
     "shell.execute_reply.started": "2023-08-24T08:47:12.640757Z"
    }
   },
   "outputs": [],
   "source": [
    "import konlpy\n",
    "from konlpy import tag"
   ]
  },
  {
   "cell_type": "markdown",
   "id": "34a695bb",
   "metadata": {},
   "source": [
    "# Step 2. 데이터 정제"
   ]
  },
  {
   "cell_type": "markdown",
   "id": "3a65e176",
   "metadata": {},
   "source": [
    "1. set 데이터형이 중복을 허용하지 않는다는 것을 활용해 중복된 데이터를 제거하도록 합니다. 데이터의 병렬 쌍이 흐트러지지 않게 주의하세요! 중복을 제거한 데이터를 cleaned_corpus 에 저장합니다.\n",
    "\n",
    "2. 앞서 정의한 preprocessing() 함수는 한글에서는 동작하지 않습니다. 한글에 적용할 수 있는 정규식을 추가하여 함수를 재정의하세요!\n",
    "\n",
    "3. 타겟 언어인 영문엔 <start> 토큰과 <end> 토큰을 추가하고 split() 함수를 이용하여 토큰화합니다. 한글 토큰화는 KoNLPy의 mecab 클래스를 사용합니다.\n",
    "\n",
    "> 모든 데이터를 사용할 경우 학습에 굉장히 오랜 시간이 걸립니다. \n",
    "> cleaned_corpus로부터 토큰의 길이가 40 이하인 데이터를 선별하여 eng_corpus와 kor_corpus를 각각 구축하세요."
   ]
  },
  {
   "cell_type": "markdown",
   "id": "f537f764",
   "metadata": {},
   "source": [
    "## data load"
   ]
  },
  {
   "cell_type": "code",
   "execution_count": 5,
   "id": "87ce9a85",
   "metadata": {},
   "outputs": [],
   "source": [
    "def read_raw(path):\n",
    "    with open(path, \"r\") as f:\n",
    "        raw = f.read().splitlines()\n",
    "\n",
    "    print(\"Data Size:\", len(raw))\n",
    "    print(\"Example:\")\n",
    "\n",
    "    for sen in raw[0:100][::20]: print(\">>\", sen)\n",
    "        \n",
    "    return raw"
   ]
  },
  {
   "cell_type": "code",
   "execution_count": 8,
   "id": "485c0289",
   "metadata": {},
   "outputs": [],
   "source": [
    "path_ko = \"./data/korean-english-park.train.ko\"\n",
    "path_en = \"./data/korean-english-park.train.en\""
   ]
  },
  {
   "cell_type": "code",
   "execution_count": 11,
   "id": "711771f2",
   "metadata": {
    "collapsed": true,
    "jupyter": {
     "outputs_hidden": true
    }
   },
   "outputs": [
    {
     "name": "stdout",
     "output_type": "stream",
     "text": [
      "Data Size: 94123\n",
      "Example:\n",
      ">> 개인용 컴퓨터 사용의 상당 부분은 \"이것보다 뛰어날 수 있느냐?\"\n",
      ">> 북한의 핵무기 계획을 포기하도록 하려는 압력이 거세지고 있는 가운데, 일본과 북한의 외교관들이 외교 관계를 정상화하려는 회담을 재개했다.\n",
      ">> \"경호 로보트가 침입자나 화재를 탐지하기 위해서 개인적으로, 그리고 전문적으로 사용되고 있습니다.\"\n",
      ">> 수자원부 당국은 논란이 되고 있고, 막대한 비용이 드는 이 사업에 대해 내년에 건설을 시작할 계획이다.\n",
      ">> 또한 근력 운동은 활발하게 걷는 것이나 최소한 20분 동안 뛰는 것과 같은 유산소 활동에서 얻는 운동 효과를 심장과 폐에 주지 않기 때문에, 연구학자들은 근력 운동이 심장에 큰 영향을 미치는지 여부에 대해 논쟁을 해왔다.\n"
     ]
    }
   ],
   "source": [
    "raw_ko = read_raw(path_ko)"
   ]
  },
  {
   "cell_type": "code",
   "execution_count": 13,
   "id": "0fc69024",
   "metadata": {},
   "outputs": [],
   "source": [
    "save_var(raw_ko, \"raw_ko\")"
   ]
  },
  {
   "cell_type": "code",
   "execution_count": 12,
   "id": "fa35d6d9",
   "metadata": {
    "collapsed": true,
    "jupyter": {
     "outputs_hidden": true
    }
   },
   "outputs": [
    {
     "name": "stdout",
     "output_type": "stream",
     "text": [
      "Data Size: 94123\n",
      "Example:\n",
      ">> Much of personal computing is about \"can you top this?\"\n",
      ">> Amid mounting pressure on North Korea to abandon its nuclear weapons program Japanese and North Korean diplomats have resumed talks on normalizing diplomatic relations.\n",
      ">> “Guard robots are used privately and professionally to detect intruders or fire,” Karlsson said.\n",
      ">> Authorities from the Water Resources Ministry plan to begin construction next year on the controversial and hugely expensive project.\n",
      ">> Researchers also have debated whether weight-training has a big impact on the heart, since it does not give the heart and lungs the kind of workout they get from aerobic activities such as brisk walking or running for at least 20 minutes.\n"
     ]
    }
   ],
   "source": [
    "raw_en = read_raw(path_en)"
   ]
  },
  {
   "cell_type": "code",
   "execution_count": 14,
   "id": "ac1f2202",
   "metadata": {},
   "outputs": [],
   "source": [
    "save_var(raw_en, \"raw_en\")"
   ]
  },
  {
   "cell_type": "code",
   "execution_count": 7,
   "id": "ff0f6f16",
   "metadata": {
    "execution": {
     "iopub.execute_input": "2023-08-24T08:47:20.275787Z",
     "iopub.status.busy": "2023-08-24T08:47:20.274852Z",
     "iopub.status.idle": "2023-08-24T08:47:20.517027Z",
     "shell.execute_reply": "2023-08-24T08:47:20.516649Z",
     "shell.execute_reply.started": "2023-08-24T08:47:20.275753Z"
    }
   },
   "outputs": [],
   "source": [
    "raw_ko = load_var(\"raw_ko\")\n",
    "raw_en = load_var(\"raw_en\")"
   ]
  },
  {
   "cell_type": "markdown",
   "id": "418385aa",
   "metadata": {},
   "source": [
    "## preprocess"
   ]
  },
  {
   "cell_type": "code",
   "execution_count": 8,
   "id": "394fd28a",
   "metadata": {
    "execution": {
     "iopub.execute_input": "2023-08-24T08:47:25.300592Z",
     "iopub.status.busy": "2023-08-24T08:47:25.298817Z",
     "iopub.status.idle": "2023-08-24T08:47:25.308802Z",
     "shell.execute_reply": "2023-08-24T08:47:25.307889Z",
     "shell.execute_reply.started": "2023-08-24T08:47:25.300528Z"
    }
   },
   "outputs": [],
   "source": [
    "def clean_en(sentence):\n",
    "    sentence = sentence.lower().strip()\n",
    "    sentence = re.sub(r\"([?.!,])\", r\" \\1 \", sentence)\n",
    "    sentence = re.sub(r'[\" \"]+', \" \", sentence)\n",
    "    sentence = re.sub(r\"[^a-zA-Z?.!,]+\", \" \", sentence)\n",
    "    return sentence"
   ]
  },
  {
   "cell_type": "code",
   "execution_count": 9,
   "id": "8b0e308d",
   "metadata": {
    "execution": {
     "iopub.execute_input": "2023-08-24T08:47:25.992729Z",
     "iopub.status.busy": "2023-08-24T08:47:25.992459Z",
     "iopub.status.idle": "2023-08-24T08:47:26.018589Z",
     "shell.execute_reply": "2023-08-24T08:47:26.018054Z",
     "shell.execute_reply.started": "2023-08-24T08:47:25.992711Z"
    }
   },
   "outputs": [],
   "source": [
    "def clean_ko(text):\n",
    "    try:\n",
    "        pattern = '([a-zA-Z0-9_.+-]+@[a-zA-Z0-9-]+\\.[a-zA-Z0-9-.]+)' # E-mail제거\n",
    "        text = re.sub(pattern=pattern, repl='', string=text)\n",
    "        pattern = '(http|ftp|https)://(?:[-\\w.]|(?:%[\\da-fA-F]{2}))+' # URL제거\n",
    "        text = re.sub(pattern=pattern, repl='', string=text)\n",
    "        pattern = '([ㄱ-ㅎㅏ-ㅣ]+)'  # 한글 자음, 모음 제거\n",
    "        text = re.sub(pattern=pattern, repl='', string=text)\n",
    "        pattern = '<[^>]*>'         # HTML 태그 제거\n",
    "        text = re.sub(pattern=pattern, repl='', string=text)\n",
    "        pattern = '[^\\w\\s\\n]'         # 특수기호제거\n",
    "        text = re.sub(pattern=pattern, repl='', string=text)\n",
    "        text = re.sub('[-=+,#/\\?:^$.@*\\\"※~&%ㆍ!』\\\\‘|\\(\\)\\[\\]\\<\\>`\\'…》]','', string=text)\n",
    "        text = re.sub('\\n', '.', string=text)\n",
    "        return text \n",
    "    except TypeError:\n",
    "        print(\"Warning: Input to clean_ko was not a string or bytes-like object.\")\n",
    "        print(text)\n",
    "        return text  # or return '' if you want to return an empty string"
   ]
  },
  {
   "cell_type": "code",
   "execution_count": 10,
   "id": "3b3320ff",
   "metadata": {
    "execution": {
     "iopub.execute_input": "2023-08-24T08:47:26.846296Z",
     "iopub.status.busy": "2023-08-24T08:47:26.845659Z",
     "iopub.status.idle": "2023-08-24T08:47:26.853974Z",
     "shell.execute_reply": "2023-08-24T08:47:26.853000Z",
     "shell.execute_reply.started": "2023-08-24T08:47:26.846252Z"
    }
   },
   "outputs": [],
   "source": [
    "def preprocess_sentence(sentence, clean_func, s_token=False, e_token=False):\n",
    "\n",
    "    sentence = clean_func(sentence)\n",
    "    sentence = sentence.strip()\n",
    "\n",
    "    if s_token:\n",
    "        sentence = '<start> ' + sentence\n",
    "\n",
    "    if e_token:\n",
    "        sentence += ' <end>'\n",
    "    \n",
    "    return sentence"
   ]
  },
  {
   "cell_type": "code",
   "execution_count": 11,
   "id": "130078d9",
   "metadata": {
    "execution": {
     "iopub.execute_input": "2023-08-24T08:47:32.153554Z",
     "iopub.status.busy": "2023-08-24T08:47:32.151389Z",
     "iopub.status.idle": "2023-08-24T08:47:34.113798Z",
     "shell.execute_reply": "2023-08-24T08:47:34.112900Z",
     "shell.execute_reply.started": "2023-08-24T08:47:32.153464Z"
    }
   },
   "outputs": [
    {
     "name": "stdout",
     "output_type": "stream",
     "text": [
      "93988\n",
      "Korean: 1960만갤론 이상의 중유를 운반하던 손상된 유조선이 스페인 북서부 연안 130마일 해역에서 침몰하여 스페인 당국이 어업이 주요 산업인 이 지역에서 해안선 보호를 위해 황급히 서두르고 있다\n",
      "93988\n",
      "English: <start> carrying more than . million gallons of heavy fuel oil sank miles off spain s northwest coast , leaving spanish authorities scrambling to protect the coastline in the region where fishing is the primary industry . <end>\n"
     ]
    }
   ],
   "source": [
    "enc_corpus = []\n",
    "dec_corpus = []\n",
    "\n",
    "for ko, en in zip(raw_ko, raw_en):\n",
    "    if len(ko.split()) > 40: continue\n",
    "    enc_corpus.append(preprocess_sentence(ko, clean_ko))\n",
    "    dec_corpus.append(preprocess_sentence(en, clean_en, s_token=True, e_token=True))\n",
    "\n",
    "print(len(enc_corpus))\n",
    "print(\"Korean:\", enc_corpus[100])\n",
    "\n",
    "print(len(dec_corpus))\n",
    "print(\"English:\", dec_corpus[100])"
   ]
  },
  {
   "cell_type": "code",
   "execution_count": 204,
   "id": "0233603c",
   "metadata": {},
   "outputs": [
    {
     "data": {
      "text/plain": [
       "(24531, 24531)"
      ]
     },
     "execution_count": 204,
     "metadata": {},
     "output_type": "execute_result"
    }
   ],
   "source": [
    "len(enc_corpus), len(dec_corpus)"
   ]
  },
  {
   "cell_type": "code",
   "execution_count": 12,
   "id": "65566b5e",
   "metadata": {
    "execution": {
     "iopub.execute_input": "2023-08-24T08:47:50.629915Z",
     "iopub.status.busy": "2023-08-24T08:47:50.619115Z",
     "iopub.status.idle": "2023-08-24T08:47:50.639738Z",
     "shell.execute_reply": "2023-08-24T08:47:50.638550Z",
     "shell.execute_reply.started": "2023-08-24T08:47:50.629845Z"
    }
   },
   "outputs": [],
   "source": [
    "postfix = \"14_desktop\""
   ]
  },
  {
   "cell_type": "code",
   "execution_count": 13,
   "id": "17fb09ff",
   "metadata": {
    "execution": {
     "iopub.execute_input": "2023-08-24T08:47:53.881677Z",
     "iopub.status.busy": "2023-08-24T08:47:53.881186Z",
     "iopub.status.idle": "2023-08-24T08:47:54.327774Z",
     "shell.execute_reply": "2023-08-24T08:47:54.327421Z",
     "shell.execute_reply.started": "2023-08-24T08:47:53.881586Z"
    }
   },
   "outputs": [],
   "source": [
    "save_var(enc_corpus, f\"enc_corpus_{postfix}\")\n",
    "save_var(dec_corpus, f\"dec_corpus_{postfix}\")"
   ]
  },
  {
   "cell_type": "markdown",
   "id": "75e697f5",
   "metadata": {},
   "source": [
    "## sentence length"
   ]
  },
  {
   "cell_type": "code",
   "execution_count": 20,
   "id": "6947d463",
   "metadata": {
    "execution": {
     "iopub.execute_input": "2023-08-24T08:49:33.489928Z",
     "iopub.status.busy": "2023-08-24T08:49:33.488559Z",
     "iopub.status.idle": "2023-08-24T08:49:33.514227Z",
     "shell.execute_reply": "2023-08-24T08:49:33.513432Z",
     "shell.execute_reply.started": "2023-08-24T08:49:33.489879Z"
    }
   },
   "outputs": [],
   "source": [
    "def show_length(corpus, bins=40):\n",
    "    length = [len(sentence) for sentence in corpus]\n",
    "    plt.figure(figsize=(4,4))\n",
    "    plt.hist(length, bins=bins)\n",
    "    return length"
   ]
  },
  {
   "cell_type": "code",
   "execution_count": 15,
   "id": "b3bae734",
   "metadata": {
    "execution": {
     "iopub.execute_input": "2023-08-24T08:48:07.084729Z",
     "iopub.status.busy": "2023-08-24T08:48:07.083632Z",
     "iopub.status.idle": "2023-08-24T08:48:07.264725Z",
     "shell.execute_reply": "2023-08-24T08:48:07.264195Z",
     "shell.execute_reply.started": "2023-08-24T08:48:07.084686Z"
    }
   },
   "outputs": [],
   "source": [
    "enc_length = [len(sentence.split()) for sentence in enc_corpus]\n",
    "dec_length = [len(sentence.split()) for sentence in dec_corpus]"
   ]
  },
  {
   "cell_type": "code",
   "execution_count": 21,
   "id": "908e7538",
   "metadata": {
    "execution": {
     "iopub.execute_input": "2023-08-24T08:49:34.907946Z",
     "iopub.status.busy": "2023-08-24T08:49:34.907295Z",
     "iopub.status.idle": "2023-08-24T08:49:35.224086Z",
     "shell.execute_reply": "2023-08-24T08:49:35.223149Z",
     "shell.execute_reply.started": "2023-08-24T08:49:34.907903Z"
    }
   },
   "outputs": [
    {
     "data": {
      "image/png": "[encoded data removed]",
      "text/plain": [
       "<Figure size 400x400 with 1 Axes>"
      ]
     },
     "metadata": {},
     "output_type": "display_data"
    }
   ],
   "source": [
    "res = show_length(enc_corpus)"
   ]
  },
  {
   "cell_type": "code",
   "execution_count": 22,
   "id": "df541b36",
   "metadata": {
    "execution": {
     "iopub.execute_input": "2023-08-24T08:49:49.093835Z",
     "iopub.status.busy": "2023-08-24T08:49:49.092586Z",
     "iopub.status.idle": "2023-08-24T08:49:49.554703Z",
     "shell.execute_reply": "2023-08-24T08:49:49.554101Z",
     "shell.execute_reply.started": "2023-08-24T08:49:49.093791Z"
    }
   },
   "outputs": [
    {
     "data": {
      "image/png": "[encoded data removed]",
      "text/plain": [
       "<Figure size 400x400 with 1 Axes>"
      ]
     },
     "metadata": {},
     "output_type": "display_data"
    }
   ],
   "source": [
    "res = show_length(dec_corpus)"
   ]
  },
  {
   "cell_type": "code",
   "execution_count": 23,
   "id": "383954de",
   "metadata": {
    "execution": {
     "iopub.execute_input": "2023-08-24T08:50:07.551075Z",
     "iopub.status.busy": "2023-08-24T08:50:07.545876Z",
     "iopub.status.idle": "2023-08-24T08:50:07.695272Z",
     "shell.execute_reply": "2023-08-24T08:50:07.694908Z",
     "shell.execute_reply.started": "2023-08-24T08:50:07.551014Z"
    },
    "scrolled": true
   },
   "outputs": [
    {
     "name": "stdout",
     "output_type": "stream",
     "text": [
      "어휘, 어휘, 어휘, 낙태는 불법이다, 모르고 있습니다, 네 보이는군요, 디즈니사만이 아니다, 유럽에서도 마찬가지이다, 어휘, 이것이 사실일까요, 어휘, 오차범위는 없었다, 어휘, 어휘, 번역, 어휘, 번역, 어휘, 번역, 번역, 어휘, 번역, 어휘, 번역, 하루에 13번, 어휘, 외딴 곳, 어휘, 3월 안경, 번역, 번역, 번역, 어휘, 번역, 어휘, 어휘, 번역, 어휘, 번역, 어휘, 번역, 어휘, 번역, 어휘, 번역, 번역, 1, 2, 3, 4, 향년 71세였다, 4 소물리에, 7오탈자 미확인, 면접, 11지각, 면접 이후, 캐주얼 스타일, 남자들, 가족, 행복의 역설, 충분한 수면, 순간순간을 즐기기, 3 판매원, 4 구조대원, 음식, 햇빛, 보조식품, 계획을 세운다, 5어미니의 실수, 장소, 판매 제품, 판매 제품, 과일, 3 견과류, 양파, 코브, 코브, 산부인과, 심장질환, 유방암, 백일해 백신, 수두 백신, 바리백스Varivax, 대상포진, 조스타백스Zostavax, 홍역 이하선염, MMR, 여행자의 질병, B형간염, 노동의 붕괴, , Q, articlecnn_earticleaspcat_code22Total_ID3108483 1, 햇볕 쬐기, 3 자원봉사, 7 지압, 10 숙면, 첫인상, 세부사항, 웹사이트 wwwsolealbiscioneit, 첫인상, 세부사항, 첫인상, 세부사항, 웹사이트 wwwhoteltrasteverehouseit, 하나의 꿈, 비즈니스다, 향초를 피운다, 4, 6, 거울을 세운다, 친절하게 대화한다, 신생아, 생후 24개월까지, WASHINGTON CNN권성근JOINS, articlecnn_earticleaspcat_code22Total_ID3078112, 공기가 희박하다, 판결은 연기됐다, articlecnn_earticleaspcat_code22Total_ID3065258, 마우이Maui 하와이주, articlecnn_earticleaspcat_code22Total_ID3053480, MOSCOW CNN권성근JOINS, 그들은 배신자, 배신자, 자유, WASHINGTON CNN권성근JOINS, articlecnn_earticleaspcat_code22Total_ID3012803, 초박형 맥북MacBook, 신형 아이폰, DRM프리 음악, 버뮤다, 뉴욕 맨해튼, rockefellercentercom, 휘드비섬 워싱턴주, 환영한다 진행자들, 레스토랑, 쇼핑, 버스투어, 스페이스 오디세이원제, WASHINGTON CNN권성근JOINS, 보안검색 요령, 일찍 도착한다, 첫째날, 둘째날, 정말 크다, 1땅콩 버터, 2계란, 잘못된 생각, 3커피, 4아보카도, 5버섯, 떼뽀스떼코Tepozteco, 인명피해도 충격적이다, articlecnn_earticleaspcat_code22Total_ID2924244, articlecnn_earticleaspcat_code22Total_ID2913608, 정말 그렇다, 버스요금, 요가호텔 숙박비, 택시요금, 서핑스쿨, 맛있는 점심, 과일 음료, articlecnn_earticleaspcat_code22Total_ID2892016, 히어로스Heroes는 키워드다, 정말 파랗다, 고 졸랐다, 아이를 만드세요, 여론은 명확했다, 스피어스가 뚱뚱한가, 그밖의 인물, 퀴노네스Quinones, 크로그바Krogbar, 거의 마술같은, 교훈, 교훈, 나중에, 스칼렛 요한슨, 요한슨, 요한슨, 요한슨, 요한슨, 요한슨, , NEW YORKCNN권성근JOINS, 첫번째, 에어로의 통계치, 15명은 행방불명이다, WASHINGTONCNN권성근JOINS, CNN권성근JOINS, CNN권성근JOINS, 트랜스포머, 또한 트랜스포머, CNN articlecnn_earticleaspcat_code22Total_ID2803277, CNN articlecnn_earticleaspcat_code22Total_ID2793901, 대학탐방은 이렇다, 필자도 그랬다, articlecnn_earticleaspcat_code22Total_ID2785702, articlecnn_earticleaspcat_code22Total_ID2783781, CNN articlecnn_earticleaspcat_code22Total_ID2774687, CNN articlecnn_earticleaspcat_code22Total_ID2766785, ISLAMABAD PakistanCNN권성근JOINS, 정지나 기자, 마지막 곤돌라였다, 하산하는 길, 사와야, 사와야, 사와야, 사와야, 사와야, GENEVA SwitzerlandCNN권성근JOINS, articlecnn_earticleaspcat_code22Total_ID2736692, 턱시도는 잊어라, 아직 읽고있습니까, articlecnn_earticleaspcat_code22Total_ID2721163, LONDON EnglandCNN권성근JOINS, 친숙하게 들리나요, CNN권성근JOINS, 그밖의 인물, articlecnn_earticleaspcat_code22Total_ID2704801, 패션은 변했다, 그밖의 인물, 처음에는 장난이었다, articlecnn_earticleaspcat_code22Total_ID2666388, 아기가 질식한다면, 등을 두드려라, 나를 봐, 라고 덧붙였다, JERUSALEM AP김양희JOINS, 국제적 선호, 기타 수상자들, articlecnn_earticleaspcat_code22Total_ID2642160, WASHINGTON CNN김양희JOINS, 국민의 요구, 바뀌는 시대, 분열 조장, JERUSALEM AP송완영JOINS, ST, ST, ST, ST, ST, ST, ST, ST, ST, 경유 1200원대로, 원문기사보기, 틸트로터 헬기니, 경유 1200원대로, 경유 1200원대로, 경유 1200원대로, 경유 1200원대로, 경유 1200원대로, 경유 1200원대로, 경유 1200원대로, 경유 1200원대로, joinscom CNN한글뉴스, 경유 1200원대로, 경유 1200원대로, 경유 1200원대로, 경유 1200원대로, 경유 1200원대로, 경유 1200원대로, 경유 1200원대로, 경유 1200원대로, 경유 1200원대로, 경유 1200원대로, 경유 1200원대로, joinscom CNN한글뉴스, 기사공유, 경유 1200원대로, 경유 1200원대로, 원문기사보기, 경유 1200원대로, 경유 1200원대로, 경유 1200원대로, cnn 한글뉴스, 경유 1200원대로, 경유 1200원대로, cnn 한글뉴스, 원문기사보기, 원문기사보기, 원문기사, 스타벅스쿠폰 무료, 경유 1200원대로, 경유 1200원대로, 원문기사보기, 기사공유, 틸트로터 헬기니, 경유 1200원대로, 경유 1200원대로, 경유 1200원대로, 경유 1200원대로, 경유 1200원대로, 원문기사, 천원의 기적, 경유 1200원대로, 경유 1200원대로, 원문기사보기, 원문기사, 원문기사보기, 경유 1200원대로, 경유 1200원대로, 원문기사, 경유 1200원대로, 경유 1200원대로, 기사공유, 경유 1200원대로, joinscom CNN한글뉴스, 경유 1200원대로, 경유 1200원대로, 경유 1200원대로, 경유 1200원대로, 경유 1200원대로, 원문기사보기, 원문기사보기, 경유 1200원대로, 경유 1200원대로, 경유 1200원대로, 경유 1200원대로, 틸트로터 헬기니, 경유 1200원대로, 경유 1200원대로, 원문기사, 경유 1200원대로, 경유 1200원대로, 원문기사, 경유 1200원대로, 경유 1200원대로, CNN 한글뉴스, 경유 1200원대로, 경유 1200원대로, 경유 1200원대로, 경유 1200원대로, joinscom CNN한글뉴스, 경유 1200원대로, 경유 1200원대로, 경유 1200원대로, 경유 1200원대로, 경유 1200원대로, 경유 1200원대로, 경유 1200원대로, 경유 1200원대로, 경유 1200원대로, 경유 1200원대로, 경유 1200원대로, 경유 1200원대로, 경유 1200원대로, 경유 1200원대로, 경유 1200원대로, 경유 1200원대로, 원문기사보기, 경유 1200원대로, joinscom CNN한글뉴스, 경유 1200원대로, 경유 1200원대로, joinscom CNN한글뉴스, 경유 1200원대로, 경유 1200원대로, Newsweek 한글판, 원문기사보기, 원문기사보기, 경유 1200원대로, 경유 1200원대로, CNN  이수지JOINS, CNN  이수지JOINS, 경유 1200원대로, 경유 1200원대로, 경유 1200원대로, 경유 1200원대로, 원문기사보기, joinscom CNN한글뉴스, 원문기사보기, 경유 1200원대로, joinscom CNN한글뉴스, 경유 1200원대로, 경유 1200원대로, 경유 1200원대로, 경유 1200원대로, 경유 1200원대로, 경유 1200원대로, 경유 1200원대로, 경유 1200원대로, 원문기사보기, 경유 1200원대로, 경유 1200원대로, 원문기사보기, 경유 1200원대로, Newsweek 한글판, 경유 1200원대로, 경유 1200원대로, cnn 한글뉴스, 경유 1200원대로, 경유 1200원대로, CNN  이수지JOINS, CNN  이수지JOINS, 경유 1200원대로, 경유 1200원대로, 경유 1200원대로, 경유 1200원대로, 원문기사보기, 원문기사보기, 경유 1200원대로, 경유 1200원대로, 경유 1200원대로, 원문기사보기, 원문기사보기, 경유 1200원대로, 경유 1200원대로, 기사공유, 원문기사보기, 경유 1200원대로, 경유 1200원대로, 경유 1200원대로, 경유 1200원대로, 경유 1200원대로, 경유 1200원대로, 경유 1200원대로, 원문기사 원문기사보기, 경유 1200원대로, 경유 1200원대로, 경유 1200원대로, 경유 1200원대로, 경유 1200원대로, 경유 1200원대로, 원문기사보기, 원문기사보기, 경유 1200원대로, 경유 1200원대로, 경유 1200원대로, 경유 1200원대로, 경유 1200원대로, 경유 1200원대로, 경유 1200원대로, 경유 1200원대로, Newsweek 한글판, 원문기사보기, joinscom CNN한글뉴스, 경유 1200원대로, 경유 1200원대로, 경유 1200원대로, 경유 1200원대로, 경유 1200원대로, 경유 1200원대로, 경유 1200원대로, joinscom CNN한글뉴스, 경유 1200원대로, 경유 1200원대로, 경유 1200원대로, 경유 1200원대로, 경유 1200원대로, 경유 1200원대로, 원문기사, 천원의 기적, 경유 1200원대로, 경유 1200원대로, 경유 1200원대로, 경유 1200원대로, 경유 1200원대로, 경유 1200원대로, 경유 1200원대로, 경유 1200원대로, 경유 1200원대로, 경유 1200원대로, 경유 1200원대로, 원문기사보기, 원문기사보기, 틸트로터 헬기니, 틸트로터 헬기니, 경유 1200원대로, 경유 1200원대로, 경유 1200원대로, 경유 1200원대로, 경유 1200원대로, 경유 1200원대로, 경유 1200원대로, 경유 1200원대로, 경유 1200원대로, 경유 1200원대로, 경유 1200원대로, 경유 1200원대로, 경유 1200원대로, 원문기사보기, 원문기사보기, 경유 1200원대로, 경유 1200원대로, 경유 1200원대로, 경유 1200원대로, 경유 1200원대로, Newsweek 한글판, 경유 1200원대로, 경유 1200원대로, 경유 1200원대로, cnn 한글뉴스, 경유 1200원대로, 경유 1200원대로, 경유 1200원대로, 경유 1200원대로, 경유 1200원대로, 경유 1200원대로, 경유 1200원대로, 문화연예, CNN  이수지JOINS, 경유 1200원대로, 경유 1200원대로, 경유 1200원대로, 경유 1200원대로, 경유 1200원대로, 원문기사, 경유 1200원대로, 경유 1200원대로, 원문기사보기, joinscom CNN한글뉴스, 경유 1200원대로, cnn 한글뉴스, 경유 1200원대로, 경유 1200원대로, 경유 1200원대로, 원문기사보기, 원문기사보기, 경유 1200원대로, 경유 1200원대로, 경유 1200원대로, 경유 1200원대로, 경유 1200원대로, 경유 1200원대로, 원문기사보기, 경유 1200원대로, 경유 1200원대로, 경유 1200원대로, 경유 1200원대로, 경유 1200원대로, 경유 1200원대로, 경유 1200원대로, 경유 1200원대로, CNN  이수지JOINS, 원문기사보기, 경유 1200원대로, 경유 1200원대로, 경유 1200원대로, 경유 1200원대로, 경유 1200원대로, 경유 1200원대로, 경유 1200원대로, 경유 1200원대로, 원문기사보기, 경유 1200원대로, joinscom CNN한글뉴스, 경유 1200원대로, 경유 1200원대로, 원문기사 원문기사보기, 경유 1200원대로, 원문기사, 원문기사보기, 경유 1200원대로, 원문기사, 경유 1200원대로, 경유 1200원대로, 경유 1200원대로, 경유 1200원대로, 원문기사보기, 원문기사보기, 틸트로터 헬기니, 틸트로터 헬기니, 경유 1200원대로, 경유 1200원대로, 경유 1200원대로, 원문기사보기, 경유 1200원대로, 경유 1200원대로, 경유 1200원대로, 경유 1200원대로, 경유 1200원대로, 경유 1200원대로, 경유 1200원대로, 경유 1200원대로, 경유 1200원대로, 경유 1200원대로, 경유 1200원대로, 경유 1200원대로, 원문기사보기, 경유 1200원대로, 원문기사보기, 원문기사보기, 경유 1200원대로, 경유 1200원대로, joinscom CNN한글뉴스, 경유 1200원대로, 경유 1200원대로, 경유 1200원대로, 경유 1200원대로, 경유 1200원대로, 경유 1200원대로, 원문기사보기, CNN  이수지JOINS, 기사공유, 원문기사보기, 원문기사, 경유 1200원대로, 경유 1200원대로, 경유 1200원대로, 경유 1200원대로, 원문기사, 경유 1200원대로, 경유 1200원대로, 경유 1200원대로, cnn 한글뉴스, 경유 1200원대로, 경유 1200원대로, 경유 1200원대로, 경유 1200원대로, 원문기사, 원문기사보기, 경유 1200원대로, joinscom CNN한글뉴스, 경유 1200원대로, 경유 1200원대로, 원문기사보기, 원문기사보기, 경유 1200원대로, joinscom CNN한글뉴스, 경유 1200원대로, 경유 1200원대로, cnn 한글뉴스, 경유 1200원대로, joinscom CNN한글뉴스, 경유 1200원대로, 경유 1200원대로, Newsweek 한글판, 경유 1200원대로, 경유 1200원대로, 경유 1200원대로, 원문기사보기, 원문기사보기, 경유 1200원대로, 경유 1200원대로, 경유 1200원대로, 경유 1200원대로, 경유 1200원대로, 경유 1200원대로, 경유 1200원대로, 경유 1200원대로, 경유 1200원대로, 경유 1200원대로, 경유 1200원대로, 경유 1200원대로, 원문기사보기, 원문기사보기, 경유 1200원대로, 경유 1200원대로, 경유 1200원대로, 경유 1200원대로, 경유 1200원대로, 경유 1200원대로, 경유 1200원대로, 경유 1200원대로, Newsweek 한글판, 원문기사보기, 경유 1200원대로, 경유 1200원대로, 경유 1200원대로, 경유 1200원대로, 원문기사보기, 경유 1200원대로, 원문기사보기, 경유 1200원대로, CNN  이수지JOINS, 원문기사보기, 경유 1200원대로, 경유 1200원대로, 경유 1200원대로, 경유 1200원대로, 경유 1200원대로, 경유 1200원대로, 경유 1200원대로, Newsweek 한글판, 경유 1200원대로, Newsweek 한글판, 원문기사보기, 경유 1200원대로, 경유 1200원대로, 경유 1200원대로, 경유 1200원대로, 경유 1200원대로, 경유 1200원대로, CNN  이수지JOINS, 경유 1200원대로, 경유 1200원대로, 경유 1200원대로, 경유 1200원대로, CNN  이수지JOINS, CNN  이수지JOINS, 경유 1200원대로, 경유 1200원대로, 경유 1200원대로, 경유 1200원대로, 경유 1200원대로, 경유 1200원대로, 경유 1200원대로, 경유 1200원대로, cnn 한글뉴스, 원문기사보기, 원문기사보기, 경유 1200원대로, 경유 1200원대로, 경유 1200원대로, 경유 1200원대로, 경유 1200원대로, 경유 1200원대로, 경유 1200원대로, 경유 1200원대로, 경유 1200원대로, 경유 1200원대로, 경유 1200원대로, 경유 1200원대로, 경유 1200원대로, 경유 1200원대로, 경유 1200원대로, 이벤트, 경유 1200원대로, 경유 1200원대로, 경유 1200원대로, 경유 1200원대로, cnn 한글뉴스, 경유 1200원대로, 경유 1200원대로, 경유 1200원대로, 경유 1200원대로, 경유 1200원대로, 경유 1200원대로, 경유 1200원대로, 경유 1200원대로, 경유 1200원대로, 원문기사보기, 원문기사보기, 경유 1200원대로, 틸트로터 헬기니, 경유 1200원대로, 경유 1200원대로, 경유 1200원대로, 경유 1200원대로, 경유 1200원대로, 경유 1200원대로, 원문기사보기, CNN  이수지JOINS, 경유 1200원대로, cnn 한글뉴스, 원문기사 원문기사보기, 경유 1200원대로, 경유 1200원대로, Newsweek 한글판, 경유 1200원대로, 경유 1200원대로, 문화연예, 원문기사, 경유 1200원대로, 경유 1200원대로, 경유 1200원대로, 경유 1200원대로, 경유 1200원대로, 경유 1200원대로, 경유 1200원대로, 원문기사보기, joinscom CNN한글뉴스, 원문기사보기, 원문기사보기, 경유 1200원대로, Newsweek 한글판, 경유 1200원대로, 원문기사보기, 경유 1200원대로, 경유 1200원대로, 경유 1200원대로, 경유 1200원대로, joinscom CNN한글뉴스, 경유 1200원대로, CNN  이수지JOINS, 원문기사보기, 원문기사보기, 경유 1200원대로, 경유 1200원대로, 경유 1200원대로, 경유 1200원대로, 틸트로터 헬기니, 경유 1200원대로, 고프섬은 무인도다, 원문기사, 원문기사보기, 고프섬은 무인도다, 경유 1200원대로, 경유 1200원대로, CNN  이수지JOINS, 원문기사, 원문기사보기, 경유 1200원대로, 경유 1200원대로, 경유 1200원대로, cnn 한글뉴스, joinscom CNN한글뉴스, 원문기사보기, 경유 1200원대로, 개야라고 외쳤다, 개야라고 외쳤다, 경유 1200원대로, 경유 1200원대로, CNN  이수지JOINS, 원문기사보기, 경유 1200원대로, Newsweek 한글판, 경유 1200원대로, cnn 한글뉴스, 원문기사, 원문기사보기, joinscom CNN한글뉴스, 원문기사보기, 원문기사보기, 비행기니, 틸트로터 헬기니, 경유 1200원대로, 경유 1200원대로, 문화연예, 원문기사보기, 경유 1200원대로, 경유 1200원대로, 경유 1200원대로, 원문기사, 스타벅스쿠폰 무료, 경유 1200원대로, 원문기사, 원문기사보기, joinscom CNN한글뉴스, 원문기사보기, 경유 1200원대로, CNN  이수지JOINS, 경유 1200원대로, joinscom CNN한글뉴스, 경유 1200원대로, 경유 1200원대로, 경유 1200원대로, CNN  이수지JOINS, 원문기사, 원문기사보기, 프린트, 틸트로터 헬기니, 천원의 기적, 경유 1200원대로, joinscom CNN한글뉴스, 경유 1200원대로, 경유 1200원대로, 경유 1200원대로, 경유 1200원대로, 원문기사보기, 경유 1200원대로, 정국안정 약속, 정국안정 약속, 경유 1200원대로, 스타벅스쿠폰 무료, 경유 1200원대로, 크라이슬러 조업중단, 경유 1200원대로, 경유 1200원대로, 경유 1200원대로, 경유 1200원대로, CNN  이수지JOINS, joinscom CNN한글뉴스, 경유 1200원대로, 경유 1200원대로, 경유 1200원대로, 경유 1200원대로, cnn 한글뉴스, 경유 1200원대로, 경유 1200원대로, 경유 1200원대로, 경유 1200원대로, 경유 1200원대로, 4백신 접종, 4백신 접종, 경유 1200원대로, 경유 1200원대로, 경유 1200원대로, 경유 1200원대로, 원문기사, 원문기사보기, 경유 1200원대로, 원문기사보기, joinscom CNN한글뉴스, 천원의 기적, 경유 1200원대로, 원문기사보기, joinscom CNN한글뉴스, 경유 1200원대로, 경유 1200원대로, 경유 1200원대로, 경유 1200원대로, 경유 1200원대로, 경유 1200원대로, 경유 1200원대로, 경유 1200원대로, 경유 1200원대로, 경유 1200원대로, 경유 1200원대로, joinscom CNN한글뉴스, 원문기사보기, 경유 1200원대로, 경유 1200원대로, 경유 1200원대로, 경유 1200원대로, 경유 1200원대로, 경유 1200원대로, 경유 1200원대로, 경유 1200원대로, 원문기사보기, 경유 1200원대로, 경유 1200원대로, 경유 1200원대로, 원문기사보기, 경유 1200원대로, 경유 1200원대로, 경유 1200원대로, 경유 1200원대로, joinscom CNN한글뉴스, 경유 1200원대로, 경유 1200원대로, 경유 1200원대로, 경유 1200원대로, cnn 한글뉴스, 경유 1200원대로, 경유 1200원대로, 경유 1200원대로, joinscom CNN한글뉴스, 경유 1200원대로, 경유 1200원대로, 경유 1200원대로, 원문기사보기, 원문기사보기, 경유 1200원대로, 경유 1200원대로, 경유 1200원대로, 원문기사보기, 원문기사보기, 경유 1200원대로, 경유 1200원대로, CNN  이수지JOINS, 원문기사, CNN  이수지JOINS, 원문기사, 경유 1200원대로, 경유 1200원대로, 경유 1200원대로, cnn 한글뉴스, 경유 1200원대로, 경유 1200원대로, 원문기사 원문기사보기, joinscom CNN한글뉴스, 경유 1200원대로, 경유 1200원대로, 경유 1200원대로, 경유 1200원대로, 경유 1200원대로, 경유 1200원대로, joinscom CNN한글뉴스, 경유 1200원대로, joinscom CNN한글뉴스, 경유 1200원대로, 경유 1200원대로, 문화연예, 원문기사보기, 경유 1200원대로, 경유 1200원대로, joinscom CNN한글뉴스, 경유 1200원대로, 원문기사보기, 원문기사보기, 경유 1200원대로, joinscom CNN한글뉴스, 원문기사보기, 경유 1200원대로, 경유 1200원대로, joinscom CNN한글뉴스, 경유 1200원대로, 경유 1200원대로, joinscom CNN한글뉴스, 경유 1200원대로, 경유 1200원대로, 경유 1200원대로, 경유 1200원대로, 경유 1200원대로, 경유 1200원대로, 경유 1200원대로, 경유 1200원대로, CNN 이수지JOINS, 이벤트, 경유 1200원대로, 경유 1200원대로, 경유 1200원대로, 경유 1200원대로, 경유 1200원대로, 경유 1200원대로, 경유 1200원대로, 경유 1200원대로, 경유 1200원대로, joinscom CNN한글뉴스, 원문기사보기, 경유 1200원대로, 원제, CNN  이수지JOINS, 원문기사, 원제, 경유 1200원대로, 경유 1200원대로, 경유 1200원대로, 경유 1200원대로, 경유 1200원대로, 경유 1200원대로, Newsweek 한글판, 경유 1200원대로, 경유 1200원대로, joinscom CNN한글뉴스, 경유 1200원대로, 경유 1200원대로, 경유 1200원대로, 경유 1200원대로, Newsweek 한글판, 경유 1200원대로, Newsweek 한글판, joinscom CNN한글뉴스, 경유 1200원대로, 경유 1200원대로, 경유 1200원대로, CNN  이수지JOINS, 원문기사, 경유 1200원대로, 경유 1200원대로, 경유 1200원대로, 원문기사보기, 원문기사보기, 경유 1200원대로, joinscom CNN한글뉴스, 경유 1200원대로, 경유 1200원대로, 경유 1200원대로, 경유 1200원대로, 경유 1200원대로, 경유 1200원대로, 경유 1200원대로, 경유 1200원대로, 경유 1200원대로, 경유 1200원대로, 틸트로터 헬기니, 경유 1200원대로, 경유 1200원대로, 경유 1200원대로, 경유 1200원대로, 경유 1200원대로, Newsweek 한글판, joinscom CNN한글뉴스, 경유 1200원대로, 경유 1200원대로, 경유 1200원대로, 경유 1200원대로, joinscom CNN한글뉴스, 경유 1200원대로, TOEIC 독해, resign 사퇴하다, inhalation 흡입, 정권을 잡다장악하다, 로그인 Korea사전, conglomerate 재벌그룹, capitulate 항복하다, 국어사전, TOEIC 독해, predecessor 전임자, nomination 임명, selloff 주가, resolution 결의, Korea사전, greenback 달러지폐, pessimistic 비관적인, semifinal 준결승의, 비강 콧속, TOEIC 독해, 영어사전, release 발표하다, correspondent 특파원, Korea사전, rightwing 우파, overwhelmingly 압도적으로, complication 합병증, rout 참패, TOEIC 독해, prostitution 매춘, crisis 위기, 왕의 귀환입니다, 한자사전, retailer 소매상인, 한자사전, 격동의 시대, 검사 검찰관, shareholder 주주, 아메리칸은 최하위였습니다, consulate 영사관, concession 양보, Korea사전, 통합검색영어사전, capitalist 자본주의, meteorological 기상학상의, hearings 청문회, TOEIC 독해, inauguration 취임식, exploit 착취하다, mortar 박격포, standard 표준, 영어사전, 제2보병 사단, 영어사전, 국어사전, pledge 서약하다, 질문자 심문자, 영어사전, 연설 논설, 서식환경 서식지, threaten 위협하다, 한자사전, synagogue 예배당, TOEIC 독해, epic 서사시적인, 폴 하비입니다, unmistakable 명백한, 영어사전, AP 라디오뉴스입니다, Congress 의회, 국어사전, 스트레스에 시달리신다고요, 증언 고백, 암살 훼손, optimistic 낙관낙천적인, 통계청, 인수합병, indict 기소고발하다, incumbent 현직의, Salvadoran 엘살바도르의, TOEIC 독해, TOEIC 독해, arson 방화, 주권 통치권, execute 처형하다, 고맙습니다 리타, concession 양보, TOEIC 독해, 6살의 아이처럼, diplomatic 외교상의, 인권 침해, TOEIC 독해, investigate 조사하다, 숙청이 시작되었다, 영어사전, 광대극 웃음거리, explode 폭발하다, 외교통상부 이슬람교도, 약속진술 따위, respiratory 호흡의, TOEIC 독해, unemployment 실직, 한자사전, Korea사전, 영어사전, condemnation 유죄선고, 국어사전, 예방적인 예방책, 한자사전, polyethylene 폴리에틸렌, secretary 사무국장, 전체가 아닙니다, 국어사전, 한자사전, legislative 입법상의, 월가 소식입니다, 영어사전, 통합검색영어사전, 국어사전, 해양수산부, TOEIC 독해, peacekeeping 평화유지, 특히 회사, voluntary 자발적인, 용어사전, 월가의 종가입니다, 다국어 번역기, 백과사전 국어사전, 통합검색영어사전, 영어사전, logistics 세부계획, 사직서를 쓰다, chopper 헬리콥터syn, 한자사전, 영어사전, 한자사전, tribunal 법정, meantime 한편, battleground 격전지, 통합사전, protectionist 보호주의, 국어사전, unification 통일부, 영어사전, 국어사전, 영어사전, 유죄를 선고하다, 산업자원부, 해외 송금, ergonomic 인체공학적인, Korea사전, 영어사전, meteorologist 기상학자, 시위자들의 외침, 통합검색영어사전, 국어사전, precondition 전제조건, 통계청NSO, storm 폭풍우, bureaucrat 관료주의자, 한국 동물보호단체들은, 한나라당, 국어사전, selfsufficient 자급자족의, hearing 청문회, Korea사전, campaign 선거운동, 비관적인 염세주의의, 감사원, 영어사전, 영어사전, redhanded 현행범의, 그들은 신중했습니다, elementary 초등학교, pipeline보급선 경로, 도살장 수라장, 그렇죠, 영어사전, employer 고용주, 한국정보통신산업협회, agricultural 농업의, 기소 고발, 의견을 진술하다, 한국군 병사, AP 라디오뉴스입니다, checkin 탑승수속, Mediterranean 지중해, 철도청, homosexuality 동성애, 33포인트를 추가했습니다, entertainer 연예인, 서약 책임, withdraw 철수시키다, 다국어 번역기, symbolic 상징적인, hypochondria 우울증, peacekeeping 평화유지, 산업자원부, Korea사전, 존 벨몬트였습니다, 국제원자력기구, 국제원자력기구IAEA, 영어사전, hostage 인질, ultimatum 최후통첩, 통합검색영어사전, knowingly 고의적으로, 영어사전, 통합검색영어사전, stabilize 안정화시키다, 투기매매 추론, 끌어내다 철수시키다, 단어장, 일어사전, 한자사전, 월스트리트 소식입니다, TOEIC 독해, 백과사전 국어사전, paleontologist 고생물학자, 다국어 번역기, 영어사전, Korea사전, 일어사전, 국어사전, 국제원자력기구, TOEIC 독해, "
     ]
    }
   ],
   "source": [
    "enc_corpus_filtered = []\n",
    "dec_corpus_filtered = []\n",
    "\n",
    "for enc, dec in zip(enc_corpus, dec_corpus):\n",
    "    if len(enc.split()) < 3: print(enc, end=', '); continue\n",
    "    enc_corpus_filtered.append(enc)\n",
    "    dec_corpus_filtered.append(dec)"
   ]
  },
  {
   "cell_type": "markdown",
   "id": "04b4e9c2",
   "metadata": {},
   "source": [
    "> 한 단어로 이루어진 문장들이, 그것도 중복된 데이터들이 섞여있다.  \n",
    "> 제거!  "
   ]
  },
  {
   "cell_type": "code",
   "execution_count": 207,
   "id": "0fa32a80",
   "metadata": {},
   "outputs": [],
   "source": [
    "enc_corpus = enc_corpus_filtered\n",
    "dec_corpus = dec_corpus_filtered\n",
    "\n",
    "enc_corpus_filtered = []\n",
    "dec_corpus_filtered = []\n",
    "\n",
    "for enc, dec in zip(enc_corpus, dec_corpus):\n",
    "    if len(dec.split()) > 150: continue\n",
    "    enc_corpus_filtered.append(enc)\n",
    "    dec_corpus_filtered.append(dec)"
   ]
  },
  {
   "cell_type": "code",
   "execution_count": 208,
   "id": "e9e9ddc3",
   "metadata": {},
   "outputs": [
    {
     "data": {
      "text/plain": [
       "(23526, 23526)"
      ]
     },
     "execution_count": 208,
     "metadata": {},
     "output_type": "execute_result"
    }
   ],
   "source": [
    "len(enc_corpus_filtered), len(dec_corpus_filtered)"
   ]
  },
  {
   "cell_type": "code",
   "execution_count": 95,
   "id": "0ed74ef7",
   "metadata": {},
   "outputs": [],
   "source": [
    "postfix = \"07_rm_dot\""
   ]
  },
  {
   "cell_type": "code",
   "execution_count": 117,
   "id": "0787155c",
   "metadata": {},
   "outputs": [],
   "source": [
    "save_var(enc_corpus_filtered, f\"enc_corpus_{postfix}\")\n",
    "save_var(dec_corpus_filtered, f\"dec_corpus_{postfix}\")"
   ]
  },
  {
   "cell_type": "markdown",
   "id": "08b8d05f",
   "metadata": {},
   "source": [
    "# Step 3. 데이터 토큰화"
   ]
  },
  {
   "cell_type": "markdown",
   "id": "7a918629",
   "metadata": {},
   "source": [
    "> 앞서 정의한 tokenize() 함수를 사용해 데이터를 텐서로 변환하고 각각의 tokenizer를 얻으세요!    \n",
    "\n",
    "> 단어의 수는 실험을 통해 적당한 값을 맞춰주도록 합니다! (최소 10,000 이상!)    \n",
    "\n",
    "> ❗ 주의: 난이도에 비해 데이터가 많지 않아 훈련 데이터와 검증 데이터를 따로 나누지는 않습니다."
   ]
  },
  {
   "cell_type": "markdown",
   "id": "09da52e7",
   "metadata": {},
   "source": [
    "## mecab"
   ]
  },
  {
   "cell_type": "code",
   "execution_count": 9,
   "id": "9b1fb4a4",
   "metadata": {},
   "outputs": [],
   "source": [
    "def tokenize_ko_sentence(sentence, tokenizer, stopwords):\n",
    "    tokenized_sentence = tokenizer.morphs(sentence) # 토큰화\n",
    "    stopwords_removed_sentence = [word for word in tokenized_sentence if not word in stopwords] # 불용어 제거\n",
    "    return stopwords_removed_sentence"
   ]
  },
  {
   "cell_type": "code",
   "execution_count": 10,
   "id": "7a925399",
   "metadata": {},
   "outputs": [],
   "source": [
    "def get_stopwords_ko():\n",
    "    # 불용어 정의\n",
    "    stopwords = ['의','가','이','은','들','는','좀','잘','걍','과','도','를','으로','자','에','와','한','하다']\n",
    "    return stopwords"
   ]
  },
  {
   "cell_type": "code",
   "execution_count": 11,
   "id": "99e99a03",
   "metadata": {},
   "outputs": [],
   "source": [
    "def tokenize_ko(sentences, tokenizer):\n",
    "    stopwords = get_stopwords_ko()\n",
    "    tokenized_data = []\n",
    "    for sentence in tqdm(sentences):\n",
    "        tokenized_data.append(tokenize_ko_sentence(sentence, tokenizer, stopwords))\n",
    "    return tokenized_data"
   ]
  },
  {
   "cell_type": "code",
   "execution_count": 23,
   "id": "8c050eb9",
   "metadata": {},
   "outputs": [],
   "source": [
    "mecab = tag.Mecab()"
   ]
  },
  {
   "cell_type": "code",
   "execution_count": 100,
   "id": "41a734fa",
   "metadata": {},
   "outputs": [
    {
     "name": "stderr",
     "output_type": "stream",
     "text": [
      "100%|██████████| 23573/23573 [00:01<00:00, 18084.68it/s]\n"
     ]
    }
   ],
   "source": [
    "enc_corpus_tkn = tokenize_ko(sentences=enc_corpus_filtered, tokenizer=mecab)"
   ]
  },
  {
   "cell_type": "code",
   "execution_count": 101,
   "id": "0d1c2d14",
   "metadata": {},
   "outputs": [],
   "source": [
    "postfix = \"07_rm_dot\""
   ]
  },
  {
   "cell_type": "code",
   "execution_count": 102,
   "id": "56692dc9",
   "metadata": {},
   "outputs": [],
   "source": [
    "save_var(enc_corpus_tkn, f\"enc_corpus_{postfix}\")"
   ]
  },
  {
   "cell_type": "code",
   "execution_count": 103,
   "id": "e8c01c32",
   "metadata": {},
   "outputs": [],
   "source": [
    "enc_corpus_tkn = load_var(f\"enc_corpus_{postfix}\")"
   ]
  },
  {
   "cell_type": "code",
   "execution_count": 104,
   "id": "0f6ca44b",
   "metadata": {
    "scrolled": true
   },
   "outputs": [
    {
     "data": {
      "text/plain": [
       "(23573, 23573)"
      ]
     },
     "execution_count": 104,
     "metadata": {},
     "output_type": "execute_result"
    }
   ],
   "source": [
    "len(enc_corpus_tkn), len(dec_corpus_filtered)"
   ]
  },
  {
   "cell_type": "code",
   "execution_count": 119,
   "id": "1fae803d",
   "metadata": {
    "scrolled": true
   },
   "outputs": [
    {
     "name": "stdout",
     "output_type": "stream",
     "text": [
      "0: \t개인용 컴퓨터 사용의 상당 부분은 이것보다 뛰어날 수 있느냐 \n",
      "\t['개인', '용', '컴퓨터', '사용', '상당', '부분', '이것', '보다', '뛰어날', '수', '있', '느냐'] \n",
      "\t<start> much of personal computing is about can you top this ? <end>\n",
      "1: \t그러나 이것은 또한 책상도 필요로 하지 않는다 \n",
      "\t['그러나', '이것', '또한', '책상', '필요', '로', '하', '지', '않', '는다'] \n",
      "\t<start> like all optical mice , but it also doesn t need a desk <end>\n",
      "2: \t많은 인질들이 화학 가스의 영향으로 고통을 겪으며 병원으로 옮겨졌다 \n",
      "\t['많', '인질', '화학', '가스', '영향', '고통', '을', '겪', '으며', '병원', '옮겨졌', '다'] \n",
      "\t<start> many captives were taken to hospital suffering from the effects of the chemical <end>\n",
      "3: \t100여명의 사망자가 예상되는 베트남 빌딩 화재 \n",
      "\t['100', '여', '명', '사망자', '예상', '되', '베트남', '빌딩', '화재'] \n",
      "\t<start> at least people have been confirmed dead but that figure is expected to rise , possibly to over <end>\n",
      "4: \t그와 동시 에 노동 비용은 더욱 상승하고 있습니다 라고 말했다 \n",
      "\t['그', '동시', '노동', '비용', '더욱', '상승', '하', '고', '있', '습니다', '라고', '말', '했', '다'] \n",
      "\t<start> at the same time , labor costs are more and more <end>\n",
      "5: \t로보트 장치의 연간 판매액은 50억60억달러로 추산되고 있다 \n",
      "\t['로보트', '장치', '연간', '판매액', '50', '억', '60', '억', '달러', '로', '추산', '되', '고', '있', '다'] \n",
      "\t<start> annual sales of robot units are estimated at billion to billion <end>\n",
      "6: \t또 다른 60대의 로보트가 경비 일을 하고 있다 \n",
      "\t['또', '다른', '60', '대', '로보트', '경비', '일', '을', '하', '고', '있', '다'] \n",
      "\t<start> another robots work in surveillance <end>\n",
      "7: \t신랑 들러리가 포도주 잔을 들어 올린다 그리고는 술주정을 늘어놓는다 \n",
      "\t['신랑', '들러리', '포도주', '잔', '을', '어', '올린다', '그리고', '술주정', '을', '늘어놓', '는다'] \n",
      "\t<start> the best man raises his wine glass and out comes a drunken diatribe <end>\n",
      "8: \t다른 4명은 아직도 실종된 상태이다 \n",
      "\t['다른', '4', '명', '아직', '실종', '된', '상태', '다'] \n",
      "\t<start> four others are still missing <end>\n",
      "9: \t연구가 시작될 때에 참가자들의 나이는 40세에서 75세 사이였다 \n",
      "\t['연구', '시작', '될', '때', '참가자', '나이', '40', '세', '에서', '75', '세', '사이', '였', '다'] \n",
      "\t<start> participants were ages to at the outset <end>\n",
      "10: \t결과적으로 1700명의 참가자들에게서 심장 질환이 진단되었다 \n",
      "\t['결과', '적', '1700', '명', '참가자', '에게서', '심장', '질환', '진단', '되', '었', '다'] \n",
      "\t<start> heart disease was ultimately diagnosed in , participants <end>\n",
      "11: \t라고 미국 심장 협회 대변인인 제럴드 플레처 박사가 말했다 \n",
      "\t['라고', '미국', '심장', '협회', '대변인', '인', '제럴드', '플레처', '박사', '말', '했', '다'] \n",
      "\t<start> gerald fletcher , an american heart association spokesman <end>\n",
      "12: \t북한이 핵무기를 개발했다고 처음으로 밝혔다 \n",
      "\t['북한', '핵무기', '개발', '했', '다고', '처음', '밝혔', '다'] \n",
      "\t<start> it has developed a nuclear weapon <end>\n",
      "13: \t최인원은 배드민턴 게임을 완벽하게 하고 싶어한다 \n",
      "\t['최', '인원', '배드민턴', '게임', '을', '완벽', '하', '게', '하', '고', '싶', '어', '한다'] \n",
      "\t<start> choi in won wants to perfect his badminton game <end>\n",
      "14: \t김소현은 그저 잠을 많이 자려 한다 \n",
      "\t['김소현', '그저', '잠', '을', '많이', '자려', '한다'] \n",
      "\t<start> kim so hyon would just sleep a lot <end>\n",
      "15: \t그러나 한국인들은 생산성이 그들보다 각기 62 45나 더 낮다 \n",
      "\t['그러나', '한국인', '생산', '성', '그', '보다', '각기', '62', '45', '나', '더', '낮', '다'] \n",
      "\t<start> but they re also and less productive , respectively <end>\n",
      "16: \t미국은 상업 활동의 역사가 수백년이지만 한국은 얼마 되지 않습니다 \n",
      "\t['미국', '상업', '활동', '역사', '수백', '년', '지만', '한국', '얼마', '되', '지', '않', '습니다'] \n",
      "\t<start> the u s had hundreds of years of commercial activity , while korea s had only a few <end>\n",
      "17: \t선례가 하나 있다 \n",
      "\t['선례', '하나', '있', '다'] \n",
      "\t<start> there is a precedent <end>\n",
      "18: \t왜 이렇게 어려운 일을 서둘러 성취하려 하는가 \n",
      "\t['왜', '이렇게', '어려운', '일', '을', '서둘러', '성취', '하', '려', '하', '는가'] \n",
      "\t<start> why the hurry to accomplish such a herculean feat ? <end>\n",
      "19: \t정부는 이 조치가 한국이 선진국임을 내보이는 방법이라고 말한다 \n",
      "\t['정부', '조치', '한국', '선진국', '임', '을', '내보이', '방법', '라고', '말', '한다'] \n",
      "\t<start> the government says the move is a way to show that south korea is a developed nation <end>\n",
      "20: \t많은 어려운 문제 중에는 휴일 문제가 있다 \n",
      "\t['많', '어려운', '문제', '중', '휴일', '문제', '있', '다'] \n",
      "\t<start> among the many thorny issues is holidays <end>\n",
      "21: \t토목 기사인 최인웅은 우리는 나태해지거나 긴장을 풀 여유가 없습니다 \n",
      "\t['토목', '기사', '인', '최인', '웅', '우리', '나태', '해', '지', '거나', '긴장', '을', '풀', '여유', '없', '습니다'] \n",
      "\t<start> we just can t afford to be lazy or relaxed , said choi in woong , a civil engineer <end>\n"
     ]
    }
   ],
   "source": [
    "for index, (enc, enc_mecab, dec) in enumerate(zip(enc_corpus_filtered, enc_corpus_tkn, dec_corpus_filtered)):\n",
    "    print(f\"{index}: \\t{enc} \\n\\t{enc_mecab} \\n\\t{dec}\")\n",
    "    if index > 20: break"
   ]
  },
  {
   "cell_type": "markdown",
   "id": "23082e2c",
   "metadata": {},
   "source": [
    "## word2vec"
   ]
  },
  {
   "cell_type": "code",
   "execution_count": 25,
   "id": "b4ea6ba4",
   "metadata": {},
   "outputs": [],
   "source": [
    "from gensim.models import Word2Vec"
   ]
  },
  {
   "cell_type": "markdown",
   "id": "163f1301",
   "metadata": {},
   "source": [
    "### enc."
   ]
  },
  {
   "cell_type": "code",
   "execution_count": 131,
   "id": "41226874",
   "metadata": {},
   "outputs": [],
   "source": [
    "enc_w2v = Word2Vec(sentences = enc_corpus_tkn, \n",
    "               vector_size = 50, \n",
    "               window = 5, min_count = 5, workers = 4, sg = 0)"
   ]
  },
  {
   "cell_type": "code",
   "execution_count": 132,
   "id": "d1aa449b",
   "metadata": {},
   "outputs": [
    {
     "data": {
      "text/plain": [
       "'07_rm_dot'"
      ]
     },
     "execution_count": 132,
     "metadata": {},
     "output_type": "execute_result"
    }
   ],
   "source": [
    "postfix"
   ]
  },
  {
   "cell_type": "code",
   "execution_count": 133,
   "id": "54508167",
   "metadata": {},
   "outputs": [],
   "source": [
    "enc_w2v.save(f\"enc_corpus_{postfix}.w2v\")"
   ]
  },
  {
   "cell_type": "code",
   "execution_count": 94,
   "id": "daa09c9b",
   "metadata": {},
   "outputs": [
    {
     "data": {
      "text/plain": [
       "(4135, 50)"
      ]
     },
     "execution_count": 94,
     "metadata": {},
     "output_type": "execute_result"
    }
   ],
   "source": [
    "enc_w2v.wv.vectors.shape"
   ]
  },
  {
   "cell_type": "code",
   "execution_count": 134,
   "id": "f9b2d73b",
   "metadata": {},
   "outputs": [],
   "source": [
    "enc_w2v = Word2Vec.load(f\"enc_corpus_{postfix}.w2v\")"
   ]
  },
  {
   "cell_type": "code",
   "execution_count": 135,
   "id": "5318e551",
   "metadata": {},
   "outputs": [
    {
     "name": "stdout",
     "output_type": "stream",
     "text": [
      "[('시장', 0.9908114075660706), ('회사', 0.9851050972938538), ('장', 0.9849457740783691), ('과정', 0.983531653881073), ('시위', 0.9834348559379578), ('이미', 0.9826364517211914), ('관광객', 0.9825882911682129), ('로마', 0.9825136065483093), ('율', 0.9815678000450134), ('계', 0.9811376333236694)]\n"
     ]
    }
   ],
   "source": [
    "print(enc_w2v.wv.most_similar(\"도시\"))"
   ]
  },
  {
   "cell_type": "markdown",
   "id": "6c286e98",
   "metadata": {},
   "source": [
    "### dec."
   ]
  },
  {
   "cell_type": "code",
   "execution_count": 136,
   "id": "04a1143f",
   "metadata": {},
   "outputs": [],
   "source": [
    "dec_corpus_split = [sentence.split() for sentence in dec_corpus_filtered]"
   ]
  },
  {
   "cell_type": "code",
   "execution_count": 137,
   "id": "fca30d44",
   "metadata": {},
   "outputs": [],
   "source": [
    "dec_w2v = Word2Vec(sentences = dec_corpus_split, \n",
    "                   vector_size = 50, \n",
    "                   window = 5, min_count = 5, workers = 4, sg = 0)"
   ]
  },
  {
   "cell_type": "code",
   "execution_count": 138,
   "id": "b2e22d70",
   "metadata": {},
   "outputs": [],
   "source": [
    "dec_w2v.save(f\"dec_corpus_{postfix}.w2v\")"
   ]
  },
  {
   "cell_type": "code",
   "execution_count": 139,
   "id": "c33814b5",
   "metadata": {},
   "outputs": [],
   "source": [
    "dec_w2v = Word2Vec.load(f\"dec_corpus_{postfix}.w2v\")"
   ]
  },
  {
   "cell_type": "code",
   "execution_count": 141,
   "id": "ede7fb8d",
   "metadata": {},
   "outputs": [
    {
     "name": "stdout",
     "output_type": "stream",
     "text": [
      "[('body', 0.9772177934646606), ('son', 0.971909761428833), ('late', 0.9709904193878174), ('remains', 0.9650716781616211), ('head', 0.9634805917739868), ('web', 0.9630990028381348), ('team', 0.9624633193016052), ('stops', 0.9618635177612305), ('night', 0.9614982008934021), ('state', 0.9611568450927734)]\n"
     ]
    }
   ],
   "source": [
    "print(dec_w2v.wv.most_similar(\"top\"))"
   ]
  },
  {
   "cell_type": "markdown",
   "id": "ff189111",
   "metadata": {},
   "source": [
    "## tokenizer, embedding matrix"
   ]
  },
  {
   "cell_type": "code",
   "execution_count": 12,
   "id": "43d10a48",
   "metadata": {},
   "outputs": [],
   "source": [
    "def get_tokenizer(corpus):\n",
    "    print(len(corpus))\n",
    "    tokenizer = tf.keras.preprocessing.text.Tokenizer(filters='')\n",
    "    tokenizer.fit_on_texts(corpus)\n",
    "    return tokenizer"
   ]
  },
  {
   "cell_type": "code",
   "execution_count": 13,
   "id": "1e44cdf3",
   "metadata": {},
   "outputs": [],
   "source": [
    "def get_embedding_matrix(corpus, tokenizer, model_w2v, embedding_dim=300):\n",
    "    vocab_size = len(tokenizer.word_index) + 1\n",
    "    embedding_matrix = np.zeros((vocab_size, embedding_dim))\n",
    "    for word, i in tokenizer.word_index.items():\n",
    "        if word in model_w2v.wv:\n",
    "            embedding_matrix[i] = model_w2v.wv[word]\n",
    "    return embedding_matrix"
   ]
  },
  {
   "cell_type": "code",
   "execution_count": 210,
   "id": "784c304e",
   "metadata": {},
   "outputs": [
    {
     "name": "stdout",
     "output_type": "stream",
     "text": [
      "23526\n"
     ]
    }
   ],
   "source": [
    "enc_tokenizer = get_tokenizer(enc_corpus_filtered)"
   ]
  },
  {
   "cell_type": "code",
   "execution_count": 176,
   "id": "829ce7eb",
   "metadata": {},
   "outputs": [],
   "source": [
    "enc_embedding_matrix = get_embedding_matrix(enc_corpus_tkn, \n",
    "                                        tokenizer=enc_tokenizer, \n",
    "                                        model_w2v=enc_w2v, \n",
    "                                        embedding_dim=50)"
   ]
  },
  {
   "cell_type": "code",
   "execution_count": 211,
   "id": "8906703a",
   "metadata": {},
   "outputs": [
    {
     "name": "stdout",
     "output_type": "stream",
     "text": [
      "23526\n"
     ]
    }
   ],
   "source": [
    "dec_tokenizer = get_tokenizer(dec_corpus_filtered)"
   ]
  },
  {
   "cell_type": "code",
   "execution_count": 178,
   "id": "b80d4818",
   "metadata": {},
   "outputs": [],
   "source": [
    "dec_embedding_matrix = get_embedding_matrix(dec_corpus_filtered, \n",
    "                                        tokenizer=dec_tokenizer, \n",
    "                                        model_w2v=dec_w2v, \n",
    "                                        embedding_dim=50)"
   ]
  },
  {
   "cell_type": "markdown",
   "id": "5b7cbf7e",
   "metadata": {},
   "source": [
    "## encoder/decoder tensor"
   ]
  },
  {
   "cell_type": "code",
   "execution_count": 14,
   "id": "ffa49320",
   "metadata": {},
   "outputs": [],
   "source": [
    "def get_tensor(corpus, tokenizer):\n",
    "    tensor = tokenizer.texts_to_sequences(corpus)\n",
    "    tensor = tf.keras.preprocessing.sequence.pad_sequences(tensor, padding='post')\n",
    "    return tensor"
   ]
  },
  {
   "cell_type": "code",
   "execution_count": 212,
   "id": "01924279",
   "metadata": {
    "scrolled": true
   },
   "outputs": [],
   "source": [
    "enc_tensor = get_tensor(enc_corpus_filtered, enc_tokenizer)\n",
    "dec_tensor = get_tensor(dec_corpus_filtered, dec_tokenizer)"
   ]
  },
  {
   "cell_type": "code",
   "execution_count": 213,
   "id": "66e7c8d1",
   "metadata": {},
   "outputs": [
    {
     "data": {
      "text/plain": [
       "((23526, 12), (23526, 34))"
      ]
     },
     "execution_count": 213,
     "metadata": {},
     "output_type": "execute_result"
    }
   ],
   "source": [
    "enc_tensor.shape, dec_tensor.shape"
   ]
  },
  {
   "cell_type": "code",
   "execution_count": 146,
   "id": "98e629b7",
   "metadata": {},
   "outputs": [],
   "source": [
    "save_var(enc_tokenizer, f\"enc_tokenizer_{postfix}\")\n",
    "save_var(enc_tensor, f\"enc_tensor_{postfix}\")\n",
    "\n",
    "save_var(dec_tokenizer, f\"dec_tokenizer_{postfix}\")\n",
    "save_var(dec_tensor, f\"dec_tensor_{postfix}\")"
   ]
  },
  {
   "cell_type": "code",
   "execution_count": 172,
   "id": "0dec1f34",
   "metadata": {},
   "outputs": [
    {
     "data": {
      "text/plain": [
       "'08_rm_w2v_ep03'"
      ]
     },
     "execution_count": 172,
     "metadata": {},
     "output_type": "execute_result"
    }
   ],
   "source": [
    "postfix"
   ]
  },
  {
   "cell_type": "code",
   "execution_count": 173,
   "id": "54a376cd",
   "metadata": {},
   "outputs": [],
   "source": [
    "postfix = \"07_rm_dot\""
   ]
  },
  {
   "cell_type": "code",
   "execution_count": 174,
   "id": "90bdc7a3",
   "metadata": {},
   "outputs": [],
   "source": [
    "enc_tokenizer = load_var(f\"enc_tokenizer_{postfix}\")\n",
    "enc_tensor = load_var(f\"enc_tensor_{postfix}\")\n",
    "\n",
    "dec_tokenizer = load_var(f\"dec_tokenizer_{postfix}\")\n",
    "dec_tensor = load_var(f\"dec_tensor_{postfix}\")"
   ]
  },
  {
   "cell_type": "markdown",
   "id": "7c518ad2",
   "metadata": {},
   "source": [
    "# Step 4. 모델 설계"
   ]
  },
  {
   "cell_type": "markdown",
   "id": "8637ff52",
   "metadata": {},
   "source": [
    "> 한국어를 영어로 잘 번역해 줄 멋진 Attention 기반 Seq2seq 모델을 설계하세요! \n",
    "\n",
    "> 앞서 만든 모델에 Dropout 모듈을 추가하면 성능이 더 좋아집니다! \n",
    "\n",
    "> Embedding Size와 Hidden Size는 실험을 통해 적당한 값을 맞춰 주도록 합니다!"
   ]
  },
  {
   "cell_type": "markdown",
   "id": "db9df223",
   "metadata": {},
   "source": [
    "## attention, encoder, decoder"
   ]
  },
  {
   "cell_type": "code",
   "execution_count": 16,
   "id": "ebc05c74",
   "metadata": {},
   "outputs": [],
   "source": [
    "class BahdanauAttention(tf.keras.layers.Layer):\n",
    "    def __init__(self, units):\n",
    "        super(BahdanauAttention, self).__init__()\n",
    "        self.w_dec = tf.keras.layers.Dense(units)\n",
    "        self.w_enc = tf.keras.layers.Dense(units)\n",
    "        self.w_com = tf.keras.layers.Dense(1)\n",
    "    \n",
    "    def call(self, h_enc, h_dec):\n",
    "        # h_enc shape: [batch x length x units]\n",
    "        # h_dec shape: [batch x units]\n",
    "\n",
    "        h_enc = self.w_enc(h_enc)\n",
    "        h_dec = tf.expand_dims(h_dec, 1)\n",
    "        h_dec = self.w_dec(h_dec)\n",
    "\n",
    "        score = self.w_com(tf.nn.tanh(h_dec + h_enc))\n",
    "        \n",
    "        attn = tf.nn.softmax(score, axis=1)\n",
    "\n",
    "        context_vec = attn * h_enc\n",
    "        context_vec = tf.reduce_sum(context_vec, axis=1)\n",
    "\n",
    "        return context_vec, attn"
   ]
  },
  {
   "cell_type": "code",
   "execution_count": 64,
   "id": "56f11ea2",
   "metadata": {},
   "outputs": [],
   "source": [
    "class LuongAttention(tf.keras.layers.Layer):\n",
    "    def __init__(self, units):\n",
    "        super(LuongAttention, self).__init__()\n",
    "        self.W_combine = tf.keras.layers.Dense(units)\n",
    "\n",
    "    def call(self, H_encoder, H_decoder):\n",
    "        print(\"[ H_encoder ] Shape:\", H_encoder.shape)\n",
    "\n",
    "        WH = self.W_combine(H_encoder)\n",
    "        print(\"[ W_encoder X H_encoder ] Shape:\", WH.shape)\n",
    "\n",
    "        H_decoder = tf.expand_dims(H_decoder, 1)\n",
    "        alignment = tf.matmul(WH, tf.transpose(H_decoder, [0, 2, 1]))\n",
    "        print(\"[ Score_alignment ] Shape:\", alignment.shape)\n",
    "\n",
    "        attention_weights = tf.nn.softmax(alignment, axis=1)\n",
    "        print(\"\\n최종 Weight:\\n\", attention_weights.numpy())\n",
    "\n",
    "        attention_weights = tf.squeeze(attention_weights, axis=-1)\n",
    "        context_vector = tf.matmul(attention_weights, H_encoder)\n",
    "\n",
    "        return context_vector, attention_weights\n"
   ]
  },
  {
   "cell_type": "code",
   "execution_count": 217,
   "id": "85c15429",
   "metadata": {},
   "outputs": [],
   "source": [
    "class Encoder(tf.keras.Model):\n",
    "    def __init__(self, vocab_size, embedding_dim, enc_units, embedding_matrix=None):\n",
    "        super(Encoder, self).__init__()\n",
    "        \n",
    "        self.enc_units = enc_units\n",
    "        self.embedding = tf.keras.layers.Embedding(vocab_size, embedding_dim)\n",
    "#         self.embedding = tf.keras.layers.Embedding(\n",
    "#             input_dim=vocab_size,\n",
    "#             output_dim=embedding_dim,\n",
    "#             embeddings_initializer=tf.keras.initializers.Constant(embedding_matrix),\n",
    "#             trainable=True)\n",
    "        self.gru = tf.keras.layers.GRU(enc_units,\n",
    "                                       return_sequences=True)\n",
    "        \n",
    "    def call(self, x):\n",
    "        out = self.embedding(x)\n",
    "        out = self.gru(out)\n",
    "        \n",
    "        return out"
   ]
  },
  {
   "cell_type": "code",
   "execution_count": 218,
   "id": "5e92c2e6",
   "metadata": {},
   "outputs": [],
   "source": [
    "class Decoder(tf.keras.Model):\n",
    "    def __init__(self, vocab_size, embedding_dim, dec_units, embedding_matrix=None):\n",
    "        super(Decoder, self).__init__()\n",
    "        self.dec_units = dec_units\n",
    "        self.embedding = tf.keras.layers.Embedding(vocab_size, embedding_dim)\n",
    "#         self.embedding = tf.keras.layers.Embedding(\n",
    "#             input_dim=vocab_size,\n",
    "#             output_dim=embedding_dim,\n",
    "#             embeddings_initializer=tf.keras.initializers.Constant(embedding_matrix),\n",
    "#             trainable=True)\n",
    "        self.gru = tf.keras.layers.GRU(dec_units,\n",
    "                                       return_sequences=True,\n",
    "                                       return_state=True)\n",
    "        self.fc = tf.keras.layers.Dense(vocab_size)\n",
    "\n",
    "        self.attention = BahdanauAttention(self.dec_units)\n",
    "        #self.attention = LuongAttention(self.dec_units)\n",
    "\n",
    "    def call(self, x, h_dec, enc_out):\n",
    "        context_vec, attn = self.attention(enc_out, h_dec)\n",
    "\n",
    "        out = self.embedding(x)\n",
    "        out = tf.concat([tf.expand_dims(context_vec, 1), out], axis=-1)\n",
    "        \n",
    "        out, h_dec = self.gru(out)\n",
    "        out = tf.reshape(out, (-1, out.shape[2]))\n",
    "        out = self.fc(out)\n",
    "\n",
    "        return out, h_dec, attn"
   ]
  },
  {
   "cell_type": "markdown",
   "id": "62a7d5e6",
   "metadata": {},
   "source": [
    "## build model"
   ]
  },
  {
   "cell_type": "code",
   "execution_count": 219,
   "id": "fc1e4913",
   "metadata": {},
   "outputs": [
    {
     "name": "stdout",
     "output_type": "stream",
     "text": [
      "Encoder Output: (64, 50, 1024)\n",
      "Decoder Output: (64, 15496)\n",
      "Decoder Hidden State: (64, 1024)\n",
      "Attention: (64, 50, 1)\n"
     ]
    }
   ],
   "source": [
    "# 코드를 실행하세요.\n",
    "\n",
    "BATCH_SIZE     = 64\n",
    "SRC_VOCAB_SIZE = len(enc_tokenizer.index_word) + 1\n",
    "TGT_VOCAB_SIZE = len(dec_tokenizer.index_word) + 1\n",
    "\n",
    "units         = 1024\n",
    "embedding_dim = 512\n",
    "# embedding_dim = 50\n",
    "\n",
    "encoder = Encoder(SRC_VOCAB_SIZE, embedding_dim, units)\n",
    "decoder = Decoder(TGT_VOCAB_SIZE, embedding_dim, units)\n",
    "# encoder = Encoder(SRC_VOCAB_SIZE, embedding_dim, units, enc_embedding_matrix)\n",
    "# decoder = Decoder(TGT_VOCAB_SIZE, embedding_dim, units, dec_embedding_matrix)\n",
    "\n",
    "# sample input\n",
    "# sequence_len = 30\n",
    "sequence_len = 50\n",
    "\n",
    "sample_enc = tf.random.uniform((BATCH_SIZE, sequence_len))\n",
    "sample_output = encoder(sample_enc)\n",
    "\n",
    "print ('Encoder Output:', sample_output.shape)\n",
    "\n",
    "sample_state = tf.random.uniform((BATCH_SIZE, units))\n",
    "\n",
    "sample_logits, h_dec, attn = decoder(tf.random.uniform((BATCH_SIZE, 1)),\n",
    "                                     sample_state, sample_output)\n",
    "\n",
    "print ('Decoder Output:', sample_logits.shape)\n",
    "print ('Decoder Hidden State:', h_dec.shape)\n",
    "print ('Attention:', attn.shape)"
   ]
  },
  {
   "cell_type": "markdown",
   "id": "516f67b7",
   "metadata": {},
   "source": [
    "## optimizer, loss"
   ]
  },
  {
   "cell_type": "code",
   "execution_count": 220,
   "id": "914ff0fc",
   "metadata": {},
   "outputs": [],
   "source": [
    "optimizer = tf.keras.optimizers.Adam()\n",
    "loss_object = tf.keras.losses.SparseCategoricalCrossentropy(\n",
    "    from_logits=True, reduction='none')\n",
    "\n",
    "def loss_function(real, pred):\n",
    "    mask = tf.math.logical_not(tf.math.equal(real, 0))\n",
    "    loss = loss_object(real, pred)\n",
    "    \n",
    "    mask = tf.cast(mask, dtype=loss.dtype)\n",
    "    loss *= mask\n",
    "    \n",
    "    return tf.reduce_mean(loss)\n"
   ]
  },
  {
   "cell_type": "markdown",
   "id": "c7486b31",
   "metadata": {},
   "source": [
    "## train_step"
   ]
  },
  {
   "cell_type": "code",
   "execution_count": 221,
   "id": "6a699512",
   "metadata": {},
   "outputs": [],
   "source": [
    "@tf.function\n",
    "def train_step(src, tgt, encoder, decoder, optimizer, dec_tok):\n",
    "    bsz = src.shape[0]\n",
    "    loss = 0\n",
    "\n",
    "    with tf.GradientTape() as tape:\n",
    "        enc_out = encoder(src)\n",
    "        h_dec = enc_out[:, -1]\n",
    "        \n",
    "        dec_src = tf.expand_dims([dec_tok.word_index['<start>']] * bsz, 1)\n",
    "\n",
    "        for t in range(1, tgt.shape[1]):\n",
    "            pred, h_dec, _ = decoder(dec_src, h_dec, enc_out)\n",
    "\n",
    "            loss += loss_function(tgt[:, t], pred)\n",
    "            dec_src = tf.expand_dims(tgt[:, t], 1)\n",
    "        \n",
    "    batch_loss = (loss / int(tgt.shape[1]))\n",
    "\n",
    "    variables = encoder.trainable_variables + decoder.trainable_variables\n",
    "    gradients = tape.gradient(loss, variables)\n",
    "    optimizer.apply_gradients(zip(gradients, variables))\n",
    "    \n",
    "    return batch_loss"
   ]
  },
  {
   "cell_type": "markdown",
   "id": "a8e1acdb",
   "metadata": {},
   "source": [
    "# Step 5. 훈련하기"
   ]
  },
  {
   "cell_type": "markdown",
   "id": "9ef909f9",
   "metadata": {},
   "source": [
    "> 훈련엔 위에서 사용한 코드를 그대로 사용하되, eval_step() 부분이 없음에 유의합니다! \n",
    "\n",
    "> 매 스텝 아래의 예문에 대한 번역을 생성하여 본인이 생각하기에 가장 멋지게 번역한 Case를 제출하세요!   \n",
    "> (Attention Map을 시각화해보는 것도 재밌을 거예요!)\n",
    "\n",
    "> ❕ 참고: 데이터의 난이도가 높은 편이므로 생각만큼 결과가 잘 안나올 수 있습니다."
   ]
  },
  {
   "cell_type": "markdown",
   "id": "b857b611",
   "metadata": {},
   "source": [
    "## 예문 ##\n",
    "K1) 오바마는 대통령이다.  \n",
    "K2) 시민들은 도시 속에 산다.  \n",
    "K3) 커피는 필요 없다.  \n",
    "K4) 일곱 명의 사망자가 발생했다.  \n",
    "\n",
    "## 제출 ##\n",
    "E1) obama is the president . <end>  \n",
    "E2) people are victims of the city . <end>  \n",
    "E2) the price is not enough . <end>  \n",
    "E2) seven people have died . <end>  "
   ]
  },
  {
   "cell_type": "markdown",
   "id": "c5120a93",
   "metadata": {},
   "source": [
    "## train"
   ]
  },
  {
   "cell_type": "code",
   "execution_count": 186,
   "id": "81831383",
   "metadata": {},
   "outputs": [],
   "source": [
    "def train_epoch(epochs, enc_tensor, dec_tensor, encoder, decoder, \n",
    "                optimizer, dec_tokenizer, batch_size):\n",
    "\n",
    "    history = []\n",
    "\n",
    "    for epoch in range(epochs):\n",
    "        total_loss = 0\n",
    "\n",
    "        idx_list = list(range(0, enc_tensor.shape[0], batch_size))\n",
    "        random.shuffle(idx_list)\n",
    "        t = tqdm(idx_list, desc=f\"Epoch {epoch+1}\", position=0, leave=True)\n",
    "\n",
    "        for (batch, idx) in enumerate(t):\n",
    "            batch_loss = train_step(enc_tensor[idx:idx+batch_size],\n",
    "                                    dec_tensor[idx:idx+batch_size],\n",
    "                                    encoder,\n",
    "                                    decoder,\n",
    "                                    optimizer,\n",
    "                                    dec_tokenizer)\n",
    "\n",
    "            total_loss += batch_loss\n",
    "            t.set_postfix_str(f\"Loss: {total_loss.numpy() / (batch + 1):.4f}\")\n",
    "\n",
    "        history.append(total_loss)\n",
    "\n",
    "    return history"
   ]
  },
  {
   "cell_type": "code",
   "execution_count": 222,
   "id": "0a555cf9",
   "metadata": {},
   "outputs": [
    {
     "name": "stderr",
     "output_type": "stream",
     "text": [
      "Epoch 1: 100%|██████████| 46/46 [01:47<00:00,  2.33s/it, Loss: 2.4483]\n",
      "Epoch 2: 100%|██████████| 46/46 [00:55<00:00,  1.20s/it, Loss: 2.2633]\n",
      "Epoch 3: 100%|██████████| 46/46 [00:55<00:00,  1.21s/it, Loss: 2.1573]\n",
      "Epoch 4: 100%|██████████| 46/46 [00:56<00:00,  1.22s/it, Loss: 1.9304]\n",
      "Epoch 5: 100%|██████████| 46/46 [00:56<00:00,  1.22s/it, Loss: 1.7805]\n",
      "Epoch 6: 100%|██████████| 46/46 [00:56<00:00,  1.23s/it, Loss: 1.6920]\n",
      "Epoch 7: 100%|██████████| 46/46 [00:56<00:00,  1.22s/it, Loss: 1.6184]\n",
      "Epoch 8: 100%|██████████| 46/46 [00:56<00:00,  1.22s/it, Loss: 1.5369]\n",
      "Epoch 9: 100%|██████████| 46/46 [00:56<00:00,  1.23s/it, Loss: 1.4839]\n",
      "Epoch 10: 100%|██████████| 46/46 [00:56<00:00,  1.22s/it, Loss: 1.4395]\n"
     ]
    }
   ],
   "source": [
    "BATCH_SIZE = 512\n",
    "EPOCHS = 10\n",
    "history = train_epoch(EPOCHS, \n",
    "                      enc_tensor, dec_tensor, \n",
    "                      encoder, decoder, \n",
    "                      optimizer, \n",
    "                      dec_tokenizer, \n",
    "                      BATCH_SIZE)"
   ]
  },
  {
   "cell_type": "code",
   "execution_count": 223,
   "id": "d025cb81",
   "metadata": {},
   "outputs": [],
   "source": [
    "postfix = \"08_no-w2v_ep10\""
   ]
  },
  {
   "cell_type": "code",
   "execution_count": null,
   "id": "2de47e57",
   "metadata": {},
   "outputs": [],
   "source": [
    "encoder.save(f\"encoder_{postfix}\", save_format=\"tf\")\n",
    "decoder.save(f\"decoder_{postfix}\", save_format=\"tf\")"
   ]
  },
  {
   "cell_type": "code",
   "execution_count": 224,
   "id": "0dc4d1e9",
   "metadata": {},
   "outputs": [],
   "source": [
    "encoder.save_weights(f\"encoder_{postfix}.ckpt\")\n",
    "decoder.save_weights(f\"decoder_{postfix}.ckpt\")"
   ]
  },
  {
   "cell_type": "code",
   "execution_count": 43,
   "id": "29fddbe7",
   "metadata": {},
   "outputs": [],
   "source": [
    "histories = {}"
   ]
  },
  {
   "cell_type": "code",
   "execution_count": 225,
   "id": "28736d4a",
   "metadata": {},
   "outputs": [],
   "source": [
    "histories[postfix] = history"
   ]
  },
  {
   "cell_type": "code",
   "execution_count": 226,
   "id": "87f5d820",
   "metadata": {},
   "outputs": [],
   "source": [
    "save_var(histories, \"histories\")"
   ]
  },
  {
   "cell_type": "markdown",
   "id": "d44e6cf3",
   "metadata": {},
   "source": [
    "## evaluate"
   ]
  },
  {
   "cell_type": "code",
   "execution_count": 48,
   "id": "b6a44fa0",
   "metadata": {},
   "outputs": [],
   "source": [
    "def evaluate_preprocess_tkn(sentence):\n",
    "    sentence = preprocess_sentence(sentence, clean_ko)\n",
    "    print(sentence)\n",
    "    sentence = tokenize_ko_sentence(sentence, mecab, get_stopwords_ko())\n",
    "    print(sentence)\n",
    "    inputs = enc_tokenizer.texts_to_sequences([sentence])\n",
    "    print(inputs)\n",
    "    inputs = tf.keras.preprocessing.sequence.pad_sequences(inputs,\n",
    "                                                           maxlen=enc_tensor.shape[-1],\n",
    "                                                           padding='post')\n",
    "    print(inputs.shape, inputs)\n",
    "    return inputs"
   ]
  },
  {
   "cell_type": "code",
   "execution_count": 49,
   "id": "757e820f",
   "metadata": {},
   "outputs": [],
   "source": [
    "def evaluate_preprocess(sentence):\n",
    "    sentence = preprocess_sentence(sentence, clean_ko)\n",
    "    print(sentence)\n",
    "    inputs = enc_tokenizer.texts_to_sequences([sentence.split()])\n",
    "    print(inputs)\n",
    "    inputs = tf.keras.preprocessing.sequence.pad_sequences(inputs,\n",
    "                                                           maxlen=enc_tensor.shape[-1],\n",
    "                                                           padding='post')\n",
    "    print(inputs.shape, inputs)\n",
    "    return inputs"
   ]
  },
  {
   "cell_type": "code",
   "execution_count": 50,
   "id": "d93ee2cd",
   "metadata": {},
   "outputs": [],
   "source": [
    "def evaluate(sentence, encoder, decoder, preprocess_func):\n",
    "    attention = np.zeros((dec_tensor.shape[-1], enc_tensor.shape[-1]))\n",
    "    \n",
    "    inputs = preprocess_func(sentence)\n",
    "\n",
    "    result = ''\n",
    "\n",
    "    enc_out = encoder(inputs)\n",
    "\n",
    "    dec_hidden = enc_out[:, -1]\n",
    "    dec_input = tf.expand_dims([dec_tokenizer.word_index['<start>']], 0)\n",
    "\n",
    "    for t in range(dec_tensor.shape[-1]):\n",
    "        predictions, dec_hidden, attention_weights = decoder(dec_input,\n",
    "                                                             dec_hidden,\n",
    "                                                             enc_out)\n",
    "\n",
    "        attention_weights = tf.reshape(attention_weights, (-1, ))\n",
    "        attention[t] = attention_weights.numpy()\n",
    "\n",
    "        predicted_id = tf.argmax(tf.math.softmax(predictions, axis=-1)[0]).numpy()\n",
    "\n",
    "        result += dec_tokenizer.index_word[predicted_id] + ' '\n",
    "\n",
    "        if dec_tokenizer.index_word[predicted_id] == '<end>':\n",
    "            return result, sentence, attention\n",
    "\n",
    "        dec_input = tf.expand_dims([predicted_id], 0)\n",
    "\n",
    "    return result, sentence, attention"
   ]
  },
  {
   "cell_type": "code",
   "execution_count": 51,
   "id": "b0fd43cd",
   "metadata": {},
   "outputs": [],
   "source": [
    "def plot_attention(attention, sentence, predicted_sentence):\n",
    "    fig = plt.figure(figsize=(4,4))\n",
    "    ax = fig.add_subplot(1, 1, 1)\n",
    "    ax.matshow(attention, cmap='viridis')\n",
    "\n",
    "    plt.rc('font', family='NanumGothic')\n",
    "    fontdict = {'fontsize': 14}\n",
    "\n",
    "    ax.set_xticklabels([''] + sentence, fontdict=fontdict, rotation=90)\n",
    "    ax.set_yticklabels([''] + predicted_sentence, fontdict=fontdict)\n",
    "\n",
    "    ax.xaxis.set_major_locator(ticker.MultipleLocator(1))\n",
    "    ax.yaxis.set_major_locator(ticker.MultipleLocator(1))\n",
    "\n",
    "    plt.show()"
   ]
  },
  {
   "cell_type": "code",
   "execution_count": 52,
   "id": "dca8a871",
   "metadata": {},
   "outputs": [],
   "source": [
    "def translate(sentence, encoder, decoder, preprocess_func):\n",
    "    result, sentence, attention = evaluate(sentence, encoder, decoder, preprocess_func)\n",
    "\n",
    "    print('Input: %s' % (sentence))\n",
    "    print('Predicted translation: {}'.format(result))\n",
    "    \n",
    "    attention = attention[:len(result.split()), :len(sentence.split())]\n",
    "    plot_attention(attention, sentence.split(), result.split(' '))"
   ]
  },
  {
   "cell_type": "code",
   "execution_count": 53,
   "id": "b8f345be",
   "metadata": {},
   "outputs": [],
   "source": [
    "def translate_tkn(sentence, encoder, decoder, preprocess_func):\n",
    "    result, sentence, attention = evaluate(sentence, encoder, decoder, preprocess_func)\n",
    "\n",
    "    print('Input: %s' % (sentence))\n",
    "    print('Predicted translation: {}'.format(result))\n",
    "    \n",
    "    attention = attention[:len(result.split()), :len(sentence.split())]\n",
    "    plot_attention(attention, sentence.split(), result.split(' '))"
   ]
  },
  {
   "cell_type": "code",
   "execution_count": 54,
   "id": "5aa87466",
   "metadata": {},
   "outputs": [],
   "source": [
    "def test_translate(sentences):\n",
    "    for sentence in sentences:\n",
    "        translate(sentence, encoder, decoder, evaluate_preprocess)"
   ]
  },
  {
   "cell_type": "code",
   "execution_count": 55,
   "id": "d4242f04",
   "metadata": {},
   "outputs": [],
   "source": [
    "def test_translate_tkn(sentences):\n",
    "    for sentence in sentences:\n",
    "        translate_tkn(sentence, encoder, decoder, evaluate_preprocess_tkn)"
   ]
  },
  {
   "cell_type": "code",
   "execution_count": 56,
   "id": "cfd3a8f8",
   "metadata": {},
   "outputs": [],
   "source": [
    "test_sentences = [\n",
    "    \"오바마는 대통령이다.\",\n",
    "    \"시민들은 도시 속에 산다.\",\n",
    "    \"커피는 필요 없다.\",\n",
    "    \"일곱 명의 사망자가 발생했다.\",\n",
    "]"
   ]
  },
  {
   "cell_type": "markdown",
   "id": "be21e4e3",
   "metadata": {},
   "source": [
    "## 시각화 - Loss"
   ]
  },
  {
   "cell_type": "code",
   "execution_count": 253,
   "id": "0a1cab40",
   "metadata": {},
   "outputs": [],
   "source": [
    "loss = []\n",
    "for item in histories[postfix]:\n",
    "    loss.append(item.numpy())"
   ]
  },
  {
   "cell_type": "code",
   "execution_count": 256,
   "id": "84c9cab3",
   "metadata": {},
   "outputs": [],
   "source": [
    "loss_value = np.array(loss)"
   ]
  },
  {
   "cell_type": "code",
   "execution_count": 269,
   "id": "f131ef23",
   "metadata": {},
   "outputs": [],
   "source": [
    "res = loss_value / round(enc_tensor.shape[0] / BATCH_SIZE)"
   ]
  },
  {
   "cell_type": "code",
   "execution_count": 272,
   "id": "43db399f",
   "metadata": {},
   "outputs": [
    {
     "data": {
      "image/png": "[encoded data removed]",
      "text/plain": [
       "<Figure size 432x288 with 1 Axes>"
      ]
     },
     "metadata": {
      "needs_background": "light"
     },
     "output_type": "display_data"
    }
   ],
   "source": [
    "plt.plot(res)\n",
    "plt.xlabel(\"Epoch\")\n",
    "plt.ylabel(\"Loss\")\n",
    "plt.show()"
   ]
  },
  {
   "cell_type": "markdown",
   "id": "ed7ef335",
   "metadata": {},
   "source": [
    "## 번역 테스트"
   ]
  },
  {
   "cell_type": "markdown",
   "id": "e851f70a",
   "metadata": {},
   "source": [
    "### 첫번째 시도 - 기본 구성"
   ]
  },
  {
   "cell_type": "code",
   "execution_count": 110,
   "id": "3d7ba07d",
   "metadata": {
    "scrolled": true
   },
   "outputs": [
    {
     "name": "stdout",
     "output_type": "stream",
     "text": [
      "Input: 오바마는 대통령이다\n",
      "Predicted translation: korea to lopez , too . <end> \n"
     ]
    },
    {
     "name": "stderr",
     "output_type": "stream",
     "text": [
      "/tmp/ipykernel_37/3492739089.py:9: UserWarning: FixedFormatter should only be used together with FixedLocator\n",
      "  ax.set_xticklabels([''] + sentence, fontdict=fontdict, rotation=90)\n",
      "/tmp/ipykernel_37/3492739089.py:10: UserWarning: FixedFormatter should only be used together with FixedLocator\n",
      "  ax.set_yticklabels([''] + predicted_sentence, fontdict=fontdict)\n"
     ]
    },
    {
     "data": {
      "image/png": "[encoded data removed]",
      "text/plain": [
       "<Figure size 288x288 with 1 Axes>"
      ]
     },
     "metadata": {
      "needs_background": "light"
     },
     "output_type": "display_data"
    },
    {
     "name": "stdout",
     "output_type": "stream",
     "text": [
      "Input: 시민들은 도시 속에 산다\n",
      "Predicted translation: they could be reduced <end> \n"
     ]
    },
    {
     "data": {
      "image/png": "[encoded data removed]",
      "text/plain": [
       "<Figure size 288x288 with 1 Axes>"
      ]
     },
     "metadata": {
      "needs_background": "light"
     },
     "output_type": "display_data"
    },
    {
     "name": "stdout",
     "output_type": "stream",
     "text": [
      "Input: 커피는 필요 없다\n",
      "Predicted translation: living in a cage in hong kong <end> \n"
     ]
    },
    {
     "data": {
      "image/png": "[encoded data removed]",
      "text/plain": [
       "<Figure size 288x288 with 1 Axes>"
      ]
     },
     "metadata": {
      "needs_background": "light"
     },
     "output_type": "display_data"
    },
    {
     "name": "stdout",
     "output_type": "stream",
     "text": [
      "Input: 일곱 명의 사망자가 발생했다\n",
      "Predicted translation: it s a lot of american classic . <end> \n"
     ]
    },
    {
     "data": {
      "image/png": "[encoded data removed]",
      "text/plain": [
       "<Figure size 288x288 with 1 Axes>"
      ]
     },
     "metadata": {
      "needs_background": "light"
     },
     "output_type": "display_data"
    }
   ],
   "source": [
    "test_translate(test_sentences)"
   ]
  },
  {
   "cell_type": "markdown",
   "id": "79278c2d",
   "metadata": {},
   "source": [
    "> 첫번째 시도, 기본 구성  \n",
    "> 전혀... 말도 안되는 번역이다."
   ]
  },
  {
   "cell_type": "markdown",
   "id": "c5f8d112",
   "metadata": {},
   "source": [
    "### 두번째 시도 - mecab 으로 한글 토큰화"
   ]
  },
  {
   "cell_type": "code",
   "execution_count": 206,
   "id": "6ed0d55b",
   "metadata": {
    "scrolled": true
   },
   "outputs": [
    {
     "name": "stdout",
     "output_type": "stream",
     "text": [
      "오바마는 대통령이다\n",
      "['오바마', '대통령', '다']\n",
      "[[301, 81, 1]]\n",
      "(1, 12) [[301  81   1   0   0   0   0   0   0   0   0   0]]\n",
      "Input: 오바마는 대통령이다.\n",
      "Predicted translation: the flu ? <end> \n"
     ]
    },
    {
     "name": "stderr",
     "output_type": "stream",
     "text": [
      "/tmp/ipykernel_37/3492739089.py:9: UserWarning: FixedFormatter should only be used together with FixedLocator\n",
      "  ax.set_xticklabels([''] + sentence, fontdict=fontdict, rotation=90)\n",
      "/tmp/ipykernel_37/3492739089.py:10: UserWarning: FixedFormatter should only be used together with FixedLocator\n",
      "  ax.set_yticklabels([''] + predicted_sentence, fontdict=fontdict)\n"
     ]
    },
    {
     "data": {
      "image/png": "[encoded data removed]",
      "text/plain": [
       "<Figure size 288x288 with 1 Axes>"
      ]
     },
     "metadata": {
      "needs_background": "light"
     },
     "output_type": "display_data"
    },
    {
     "name": "stdout",
     "output_type": "stream",
     "text": [
      "시민들은 도시 속에 산다\n",
      "['시민', '도시', '속', '산다']\n",
      "[[1123, 323, 420]]\n",
      "(1, 12) [[1123  323  420    0    0    0    0    0    0    0    0    0]]\n",
      "Input: 시민들은 도시 속에 산다.\n",
      "Predicted translation: the flu ? . . . . . . . . . . . . \n"
     ]
    },
    {
     "data": {
      "image/png": "[encoded data removed]",
      "text/plain": [
       "<Figure size 288x288 with 1 Axes>"
      ]
     },
     "metadata": {
      "needs_background": "light"
     },
     "output_type": "display_data"
    },
    {
     "name": "stdout",
     "output_type": "stream",
     "text": [
      "커피는 필요 없다\n",
      "['커피', '필요', '없', '다']\n",
      "[[1296, 219, 32, 1]]\n",
      "(1, 12) [[1296  219   32    1    0    0    0    0    0    0    0    0]]\n",
      "Input: 커피는 필요 없다.\n",
      "Predicted translation: the flu ? . . . . . . . . . . . . \n"
     ]
    },
    {
     "data": {
      "image/png": "[encoded data removed]",
      "text/plain": [
       "<Figure size 288x288 with 1 Axes>"
      ]
     },
     "metadata": {
      "needs_background": "light"
     },
     "output_type": "display_data"
    },
    {
     "name": "stdout",
     "output_type": "stream",
     "text": [
      "일곱 명의 사망자가 발생했다\n",
      "['일곱', '명', '사망자', '발생', '했', '다']\n",
      "[[6995, 15, 360, 122, 3, 1]]\n",
      "(1, 12) [[6995   15  360  122    3    1    0    0    0    0    0    0]]\n",
      "Input: 일곱 명의 사망자가 발생했다.\n",
      "Predicted translation: the flu ? <end> \n"
     ]
    },
    {
     "data": {
      "image/png": "[encoded data removed]",
      "text/plain": [
       "<Figure size 288x288 with 1 Axes>"
      ]
     },
     "metadata": {
      "needs_background": "light"
     },
     "output_type": "display_data"
    }
   ],
   "source": [
    "test_translate_tkn(test_sentences)"
   ]
  },
  {
   "cell_type": "markdown",
   "id": "d27de5ff",
   "metadata": {},
   "source": [
    "> mecab 으로 토큰화.  \n",
    "> 기본 구성보다 더 엉망이다."
   ]
  },
  {
   "cell_type": "markdown",
   "id": "6df7cc0c",
   "metadata": {},
   "source": [
    "### 세번째 시도 - 길이 조정"
   ]
  },
  {
   "cell_type": "code",
   "execution_count": 244,
   "id": "55fdd632",
   "metadata": {
    "scrolled": true
   },
   "outputs": [
    {
     "name": "stdout",
     "output_type": "stream",
     "text": [
      "오바마는 대통령이다\n",
      "['오바마', '대통령', '다']\n",
      "[[301, 81, 1]]\n",
      "(1, 12) [[301  81   1   0   0   0   0   0   0   0   0   0]]\n",
      "Input: 오바마는 대통령이다.\n",
      "Predicted translation: songdo to host g prep meetin . . . <end> \n"
     ]
    },
    {
     "name": "stderr",
     "output_type": "stream",
     "text": [
      "/tmp/ipykernel_37/3492739089.py:9: UserWarning: FixedFormatter should only be used together with FixedLocator\n",
      "  ax.set_xticklabels([''] + sentence, fontdict=fontdict, rotation=90)\n",
      "/tmp/ipykernel_37/3492739089.py:10: UserWarning: FixedFormatter should only be used together with FixedLocator\n",
      "  ax.set_yticklabels([''] + predicted_sentence, fontdict=fontdict)\n"
     ]
    },
    {
     "data": {
      "image/png": "[encoded data removed]",
      "text/plain": [
       "<Figure size 288x288 with 1 Axes>"
      ]
     },
     "metadata": {
      "needs_background": "light"
     },
     "output_type": "display_data"
    },
    {
     "name": "stdout",
     "output_type": "stream",
     "text": [
      "시민들은 도시 속에 산다\n",
      "['시민', '도시', '속', '산다']\n",
      "[[1120, 323, 420]]\n",
      "(1, 12) [[1120  323  420    0    0    0    0    0    0    0    0    0]]\n",
      "Input: 시민들은 도시 속에 산다.\n",
      "Predicted translation: the dow is not sold to go . <end> \n"
     ]
    },
    {
     "data": {
      "image/png": "[encoded data removed]",
      "text/plain": [
       "<Figure size 288x288 with 1 Axes>"
      ]
     },
     "metadata": {
      "needs_background": "light"
     },
     "output_type": "display_data"
    },
    {
     "name": "stdout",
     "output_type": "stream",
     "text": [
      "커피는 필요 없다\n",
      "['커피', '필요', '없', '다']\n",
      "[[1294, 219, 32, 1]]\n",
      "(1, 12) [[1294  219   32    1    0    0    0    0    0    0    0    0]]\n",
      "Input: 커피는 필요 없다.\n",
      "Predicted translation: flakey forecasters promise cash . . . <end> \n"
     ]
    },
    {
     "data": {
      "image/png": "[encoded data removed]",
      "text/plain": [
       "<Figure size 288x288 with 1 Axes>"
      ]
     },
     "metadata": {
      "needs_background": "light"
     },
     "output_type": "display_data"
    },
    {
     "name": "stdout",
     "output_type": "stream",
     "text": [
      "일곱 명의 사망자가 발생했다\n",
      "['일곱', '명', '사망자', '발생', '했', '다']\n",
      "[[6992, 15, 360, 122, 3, 1]]\n",
      "(1, 12) [[6992   15  360  122    3    1    0    0    0    0    0    0]]\n",
      "Input: 일곱 명의 사망자가 발생했다.\n",
      "Predicted translation: ban will thwart civil servants . . . <end> \n"
     ]
    },
    {
     "data": {
      "image/png": "[encoded data removed]",
      "text/plain": [
       "<Figure size 288x288 with 1 Axes>"
      ]
     },
     "metadata": {
      "needs_background": "light"
     },
     "output_type": "display_data"
    }
   ],
   "source": [
    "test_translate_tkn(test_sentences)"
   ]
  },
  {
   "cell_type": "markdown",
   "id": "1ccb2084",
   "metadata": {},
   "source": [
    "> mecab 토큰화  \n",
    "> 길이 1 미만 토큰 제거: 하나의 단어로 이루어진 문장들이, 그것도 중복된 데이터들이 많았다. 제거.  \n",
    "> 번역은 여전히 형편없지만, 두번째 시도처럼 이상한 결과는 보이지 않는다.  "
   ]
  },
  {
   "cell_type": "markdown",
   "id": "c528c761",
   "metadata": {},
   "source": [
    "### 네번째 시도 - 잘못된 전처리 수정"
   ]
  },
  {
   "cell_type": "code",
   "execution_count": 49,
   "id": "a963f69c",
   "metadata": {
    "scrolled": true
   },
   "outputs": [
    {
     "name": "stdout",
     "output_type": "stream",
     "text": [
      "오바마는 대통령이다\n",
      "['오바마', '대통령', '다']\n",
      "[[157, 110, 1]]\n",
      "(1, 21) [[157 110   1   0   0   0   0   0   0   0   0   0   0   0   0   0   0   0\n",
      "    0   0   0]]\n",
      "Input: 오바마는 대통령이다.\n",
      "Predicted translation: the government of the first house . <end> \n"
     ]
    },
    {
     "name": "stderr",
     "output_type": "stream",
     "text": [
      "/tmp/ipykernel_37/3492739089.py:9: UserWarning: FixedFormatter should only be used together with FixedLocator\n",
      "  ax.set_xticklabels([''] + sentence, fontdict=fontdict, rotation=90)\n",
      "/tmp/ipykernel_37/3492739089.py:10: UserWarning: FixedFormatter should only be used together with FixedLocator\n",
      "  ax.set_yticklabels([''] + predicted_sentence, fontdict=fontdict)\n"
     ]
    },
    {
     "data": {
      "image/png": "[encoded data removed]",
      "text/plain": [
       "<Figure size 288x288 with 1 Axes>"
      ]
     },
     "metadata": {
      "needs_background": "light"
     },
     "output_type": "display_data"
    },
    {
     "name": "stdout",
     "output_type": "stream",
     "text": [
      "시민들은 도시 속에 산다\n",
      "['시민', '도시', '속', '산다']\n",
      "[[1174, 330, 612]]\n",
      "(1, 21) [[1174  330  612    0    0    0    0    0    0    0    0    0    0    0\n",
      "     0    0    0    0    0    0    0]]\n",
      "Input: 시민들은 도시 속에 산다.\n",
      "Predicted translation: the ap s been been been been been been been been been been been been been been been been been been been been been been been been been been been been been been been \n"
     ]
    },
    {
     "data": {
      "image/png": "[encoded data removed]",
      "text/plain": [
       "<Figure size 288x288 with 1 Axes>"
      ]
     },
     "metadata": {
      "needs_background": "light"
     },
     "output_type": "display_data"
    },
    {
     "name": "stdout",
     "output_type": "stream",
     "text": [
      "커피는 필요 없다\n",
      "['커피', '필요', '없', '다']\n",
      "[[1482, 300, 93, 1]]\n",
      "(1, 21) [[1482  300   93    1    0    0    0    0    0    0    0    0    0    0\n",
      "     0    0    0    0    0    0    0]]\n",
      "Input: 커피는 필요 없다.\n",
      "Predicted translation: but the united states . <end> \n"
     ]
    },
    {
     "data": {
      "image/png": "[encoded data removed]",
      "text/plain": [
       "<Figure size 288x288 with 1 Axes>"
      ]
     },
     "metadata": {
      "needs_background": "light"
     },
     "output_type": "display_data"
    },
    {
     "name": "stdout",
     "output_type": "stream",
     "text": [
      "일곱 명의 사망자가 발생했다\n",
      "['일곱', '명', '사망자', '발생', '했', '다']\n",
      "[[6559, 18, 414, 189, 4, 1]]\n",
      "(1, 21) [[6559   18  414  189    4    1    0    0    0    0    0    0    0    0\n",
      "     0    0    0    0    0    0    0]]\n",
      "Input: 일곱 명의 사망자가 발생했다.\n",
      "Predicted translation: the two states . <end> \n"
     ]
    },
    {
     "data": {
      "image/png": "[encoded data removed]",
      "text/plain": [
       "<Figure size 288x288 with 1 Axes>"
      ]
     },
     "metadata": {
      "needs_background": "light"
     },
     "output_type": "display_data"
    }
   ],
   "source": [
    "test_translate_tkn(test_sentences)"
   ]
  },
  {
   "cell_type": "markdown",
   "id": "9815d8c7",
   "metadata": {},
   "source": [
    "> 잘못된 전처리 수정  \n",
    "> 더 나은 결과를 기대했으나, 형편없는 결과가 나온다.  "
   ]
  },
  {
   "cell_type": "markdown",
   "id": "7cb893a6",
   "metadata": {},
   "source": [
    "### 다섯번째 시도 - 추가 학습"
   ]
  },
  {
   "cell_type": "code",
   "execution_count": 66,
   "id": "c6c8241d",
   "metadata": {
    "scrolled": true
   },
   "outputs": [
    {
     "name": "stdout",
     "output_type": "stream",
     "text": [
      "오바마는 대통령이다\n",
      "['오바마', '대통령', '다']\n",
      "[[157, 110, 1]]\n",
      "(1, 21) [[157 110   1   0   0   0   0   0   0   0   0   0   0   0   0   0   0   0\n",
      "    0   0   0]]\n",
      "Input: 오바마는 대통령이다.\n",
      "Predicted translation: obama s . <end> \n"
     ]
    },
    {
     "name": "stderr",
     "output_type": "stream",
     "text": [
      "/tmp/ipykernel_37/3492739089.py:9: UserWarning: FixedFormatter should only be used together with FixedLocator\n",
      "  ax.set_xticklabels([''] + sentence, fontdict=fontdict, rotation=90)\n",
      "/tmp/ipykernel_37/3492739089.py:10: UserWarning: FixedFormatter should only be used together with FixedLocator\n",
      "  ax.set_yticklabels([''] + predicted_sentence, fontdict=fontdict)\n"
     ]
    },
    {
     "data": {
      "image/png": "[encoded data removed]",
      "text/plain": [
       "<Figure size 288x288 with 1 Axes>"
      ]
     },
     "metadata": {
      "needs_background": "light"
     },
     "output_type": "display_data"
    },
    {
     "name": "stdout",
     "output_type": "stream",
     "text": [
      "시민들은 도시 속에 산다\n",
      "['시민', '도시', '속', '산다']\n",
      "[[1174, 330, 612]]\n",
      "(1, 21) [[1174  330  612    0    0    0    0    0    0    0    0    0    0    0\n",
      "     0    0    0    0    0    0    0]]\n",
      "Input: 시민들은 도시 속에 산다.\n",
      "Predicted translation: the unemployment of the ventilator in the ventilator in the ventilator in the ventilator in the ventilator in the ventilator in the ventilator in the ventilator in the ventilator in the ventilator in the \n"
     ]
    },
    {
     "data": {
      "image/png": "[encoded data removed]",
      "text/plain": [
       "<Figure size 288x288 with 1 Axes>"
      ]
     },
     "metadata": {
      "needs_background": "light"
     },
     "output_type": "display_data"
    },
    {
     "name": "stdout",
     "output_type": "stream",
     "text": [
      "커피는 필요 없다\n",
      "['커피', '필요', '없', '다']\n",
      "[[1482, 300, 93, 1]]\n",
      "(1, 21) [[1482  300   93    1    0    0    0    0    0    0    0    0    0    0\n",
      "     0    0    0    0    0    0    0]]\n",
      "Input: 커피는 필요 없다.\n",
      "Predicted translation: but the coffee is a lot of the coffee is a lot of the coffee is a lot of the coffee is a lot of the coffee is a lot of the coffee is \n"
     ]
    },
    {
     "data": {
      "image/png": "[encoded data removed]",
      "text/plain": [
       "<Figure size 288x288 with 1 Axes>"
      ]
     },
     "metadata": {
      "needs_background": "light"
     },
     "output_type": "display_data"
    },
    {
     "name": "stdout",
     "output_type": "stream",
     "text": [
      "일곱 명의 사망자가 발생했다\n",
      "['일곱', '명', '사망자', '발생', '했', '다']\n",
      "[[6559, 18, 414, 189, 4, 1]]\n",
      "(1, 21) [[6559   18  414  189    4    1    0    0    0    0    0    0    0    0\n",
      "     0    0    0    0    0    0    0]]\n",
      "Input: 일곱 명의 사망자가 발생했다.\n",
      "Predicted translation: the ministry said . <end> \n"
     ]
    },
    {
     "data": {
      "image/png": "[encoded data removed]",
      "text/plain": [
       "<Figure size 288x288 with 1 Axes>"
      ]
     },
     "metadata": {
      "needs_background": "light"
     },
     "output_type": "display_data"
    }
   ],
   "source": [
    "test_translate_tkn(test_sentences)"
   ]
  },
  {
   "cell_type": "markdown",
   "id": "800fd920",
   "metadata": {},
   "source": [
    "> 10 epoch 더 학습  \n",
    "> 아.... 왜 이러는걸까...   "
   ]
  },
  {
   "cell_type": "markdown",
   "id": "794f6719",
   "metadata": {},
   "source": [
    "### 여섯번째 시도 - word2vec embedding"
   ]
  },
  {
   "cell_type": "code",
   "execution_count": 188,
   "id": "cf6472b6",
   "metadata": {
    "scrolled": true
   },
   "outputs": [
    {
     "name": "stdout",
     "output_type": "stream",
     "text": [
      "오바마는 대통령이다\n",
      "['오바마', '대통령', '다']\n",
      "[[157, 110, 1]]\n",
      "(1, 21) [[157 110   1   0   0   0   0   0   0   0   0   0   0   0   0   0   0   0\n",
      "    0   0   0]]\n",
      "Input: 오바마는 대통령이다.\n",
      "Predicted translation: the president roh moo hyun s a president bush s a president bush s a president bush s a president bush s a president bush s a president bush s a president bush s \n"
     ]
    },
    {
     "name": "stderr",
     "output_type": "stream",
     "text": [
      "/tmp/ipykernel_37/3492739089.py:9: UserWarning: FixedFormatter should only be used together with FixedLocator\n",
      "  ax.set_xticklabels([''] + sentence, fontdict=fontdict, rotation=90)\n",
      "/tmp/ipykernel_37/3492739089.py:10: UserWarning: FixedFormatter should only be used together with FixedLocator\n",
      "  ax.set_yticklabels([''] + predicted_sentence, fontdict=fontdict)\n"
     ]
    },
    {
     "data": {
      "image/png": "[encoded data removed]",
      "text/plain": [
       "<Figure size 288x288 with 1 Axes>"
      ]
     },
     "metadata": {
      "needs_background": "light"
     },
     "output_type": "display_data"
    },
    {
     "name": "stdout",
     "output_type": "stream",
     "text": [
      "시민들은 도시 속에 산다\n",
      "['시민', '도시', '속', '산다']\n",
      "[[1174, 330, 612]]\n",
      "(1, 21) [[1174  330  612    0    0    0    0    0    0    0    0    0    0    0\n",
      "     0    0    0    0    0    0    0]]\n",
      "Input: 시민들은 도시 속에 산다.\n",
      "Predicted translation: the couple of the way . <end> \n"
     ]
    },
    {
     "data": {
      "image/png": "[encoded data removed]",
      "text/plain": [
       "<Figure size 288x288 with 1 Axes>"
      ]
     },
     "metadata": {
      "needs_background": "light"
     },
     "output_type": "display_data"
    },
    {
     "name": "stdout",
     "output_type": "stream",
     "text": [
      "커피는 필요 없다\n",
      "['커피', '필요', '없', '다']\n",
      "[[1482, 300, 93, 1]]\n",
      "(1, 21) [[1482  300   93    1    0    0    0    0    0    0    0    0    0    0\n",
      "     0    0    0    0    0    0    0]]\n",
      "Input: 커피는 필요 없다.\n",
      "Predicted translation: the baby is a little thing . <end> \n"
     ]
    },
    {
     "data": {
      "image/png": "[encoded data removed]",
      "text/plain": [
       "<Figure size 288x288 with 1 Axes>"
      ]
     },
     "metadata": {
      "needs_background": "light"
     },
     "output_type": "display_data"
    },
    {
     "name": "stdout",
     "output_type": "stream",
     "text": [
      "일곱 명의 사망자가 발생했다\n",
      "['일곱', '명', '사망자', '발생', '했', '다']\n",
      "[[6559, 18, 414, 189, 4, 1]]\n",
      "(1, 21) [[6559   18  414  189    4    1    0    0    0    0    0    0    0    0\n",
      "     0    0    0    0    0    0    0]]\n",
      "Input: 일곱 명의 사망자가 발생했다.\n",
      "Predicted translation: the police said . <end> \n"
     ]
    },
    {
     "data": {
      "image/png": "[encoded data removed]",
      "text/plain": [
       "<Figure size 288x288 with 1 Axes>"
      ]
     },
     "metadata": {
      "needs_background": "light"
     },
     "output_type": "display_data"
    }
   ],
   "source": [
    "test_translate_tkn(test_sentences)"
   ]
  },
  {
   "cell_type": "markdown",
   "id": "264b699a",
   "metadata": {},
   "source": [
    "> 이것 역시 결과 형편없긴 한데, 웃기다.  \n",
    "> '대통령'이 나왔다고, the president roh moo hyun s a president bush  \n",
    "> 나머지 번역들은 엉뚱하다."
   ]
  },
  {
   "cell_type": "markdown",
   "id": "90d2f8af",
   "metadata": {},
   "source": [
    "> "
   ]
  }
 ],
 "metadata": {
  "kernelspec": {
   "display_name": "Python 3 (ipykernel)",
   "language": "python",
   "name": "python3"
  },
  "language_info": {
   "codemirror_mode": {
    "name": "ipython",
    "version": 3
   },
   "file_extension": ".py",
   "mimetype": "text/x-python",
   "name": "python",
   "nbconvert_exporter": "python",
   "pygments_lexer": "ipython3",
   "version": "3.11.0"
  }
 },
 "nbformat": 4,
 "nbformat_minor": 5
}
