{
 "cells": [
  {
   "cell_type": "markdown",
   "id": "3d55dfba",
   "metadata": {},
   "source": [
    "# 평가문항 - 상세기준\n",
    "\n",
    "- 번역기 모델 학습에 필요한 텍스트 데이터 전처리가 한국어 포함하여 잘 이루어졌다.\n",
    "  - 구두점, 대소문자, 띄어쓰기, 한글 형태소분석 등 번역기 모델에 요구되는 전처리가 정상적으로 진행되었다.\n",
    "- Attentional Seq2seq 모델이 정상적으로 구동된다.\n",
    "  - seq2seq 모델 훈련 과정에서 training loss가 안정적으로 떨어지면서 학습이 진행됨이 확인되었다.\n",
    "- 테스트 결과 의미가 통하는 수준의 번역문이 생성되었다.\n",
    "  - 테스트용 디코더 모델이 정상적으로 만들어져서, 정답과 어느 정도 유사한 영어 번역이 진행됨을 확인하였다."
   ]
  },
  {
   "cell_type": "code",
   "execution_count": 3,
   "id": "a676e7c1",
   "metadata": {
    "execution": {
     "iopub.execute_input": "2023-08-24T08:47:06.701433Z",
     "iopub.status.busy": "2023-08-24T08:47:06.699168Z",
     "iopub.status.idle": "2023-08-24T08:47:07.061594Z",
     "shell.execute_reply": "2023-08-24T08:47:07.061211Z",
     "shell.execute_reply.started": "2023-08-24T08:47:06.701346Z"
    }
   },
   "outputs": [],
   "source": [
    "# 파일 저장 커스텀 모듈\n",
    "\n",
    "import sys\n",
    "sys.path.append(\"../custom\")\n",
    "\n",
    "from importlib import reload\n",
    "import custom_utils\n",
    "reload(custom_utils)\n",
    "\n",
    "from custom_utils import save_var, load_var\n"
   ]
  },
  {
   "cell_type": "code",
   "execution_count": 4,
   "id": "3eaafa59",
   "metadata": {
    "execution": {
     "iopub.execute_input": "2023-08-24T08:47:07.844927Z",
     "iopub.status.busy": "2023-08-24T08:47:07.844395Z",
     "iopub.status.idle": "2023-08-24T08:47:12.632996Z",
     "shell.execute_reply": "2023-08-24T08:47:12.632548Z",
     "shell.execute_reply.started": "2023-08-24T08:47:07.844845Z"
    }
   },
   "outputs": [],
   "source": [
    "import time\n",
    "import re\n",
    "import os\n",
    "import io\n",
    "import random\n",
    "\n",
    "from tqdm import tqdm\n",
    "\n",
    "import pandas as pd\n",
    "import numpy as np\n",
    "\n",
    "import matplotlib.ticker as ticker\n",
    "import matplotlib.pyplot as plt\n",
    "\n",
    "import tensorflow as tf\n",
    "import matplotlib\n",
    "\n"
   ]
  },
  {
   "cell_type": "code",
   "execution_count": 5,
   "id": "1c822d08",
   "metadata": {
    "execution": {
     "iopub.execute_input": "2023-08-24T08:47:12.634334Z",
     "iopub.status.busy": "2023-08-24T08:47:12.634083Z",
     "iopub.status.idle": "2023-08-24T08:47:12.639434Z",
     "shell.execute_reply": "2023-08-24T08:47:12.638740Z",
     "shell.execute_reply.started": "2023-08-24T08:47:12.634323Z"
    }
   },
   "outputs": [
    {
     "name": "stdout",
     "output_type": "stream",
     "text": [
      "2.0.3\n",
      "2.13.0\n",
      "3.7.2\n"
     ]
    }
   ],
   "source": [
    "print(pd.__version__)\n",
    "print(tf.__version__)\n",
    "print(matplotlib.__version__)"
   ]
  },
  {
   "cell_type": "code",
   "execution_count": 6,
   "id": "7c419fb3",
   "metadata": {
    "execution": {
     "iopub.execute_input": "2023-08-24T08:47:12.640778Z",
     "iopub.status.busy": "2023-08-24T08:47:12.640527Z",
     "iopub.status.idle": "2023-08-24T08:47:12.678461Z",
     "shell.execute_reply": "2023-08-24T08:47:12.676653Z",
     "shell.execute_reply.started": "2023-08-24T08:47:12.640757Z"
    }
   },
   "outputs": [],
   "source": [
    "import konlpy\n",
    "from konlpy import tag"
   ]
  },
  {
   "cell_type": "markdown",
   "id": "34a695bb",
   "metadata": {},
   "source": [
    "# Step 2. 데이터 정제"
   ]
  },
  {
   "cell_type": "markdown",
   "id": "3a65e176",
   "metadata": {},
   "source": [
    "1. set 데이터형이 중복을 허용하지 않는다는 것을 활용해 중복된 데이터를 제거하도록 합니다. 데이터의 병렬 쌍이 흐트러지지 않게 주의하세요! 중복을 제거한 데이터를 cleaned_corpus 에 저장합니다.\n",
    "\n",
    "2. 앞서 정의한 preprocessing() 함수는 한글에서는 동작하지 않습니다. 한글에 적용할 수 있는 정규식을 추가하여 함수를 재정의하세요!\n",
    "\n",
    "3. 타겟 언어인 영문엔 <start> 토큰과 <end> 토큰을 추가하고 split() 함수를 이용하여 토큰화합니다. 한글 토큰화는 KoNLPy의 mecab 클래스를 사용합니다.\n",
    "\n",
    "> 모든 데이터를 사용할 경우 학습에 굉장히 오랜 시간이 걸립니다. \n",
    "> cleaned_corpus로부터 토큰의 길이가 40 이하인 데이터를 선별하여 eng_corpus와 kor_corpus를 각각 구축하세요."
   ]
  },
  {
   "cell_type": "markdown",
   "id": "f537f764",
   "metadata": {},
   "source": [
    "## data load"
   ]
  },
  {
   "cell_type": "code",
   "execution_count": 5,
   "id": "87ce9a85",
   "metadata": {},
   "outputs": [],
   "source": [
    "def read_raw(path):\n",
    "    with open(path, \"r\") as f:\n",
    "        raw = f.read().splitlines()\n",
    "\n",
    "    print(\"Data Size:\", len(raw))\n",
    "    print(\"Example:\")\n",
    "\n",
    "    for sen in raw[0:100][::20]: print(\">>\", sen)\n",
    "        \n",
    "    return raw"
   ]
  },
  {
   "cell_type": "code",
   "execution_count": 8,
   "id": "485c0289",
   "metadata": {},
   "outputs": [],
   "source": [
    "path_ko = \"./data/korean-english-park.train.ko\"\n",
    "path_en = \"./data/korean-english-park.train.en\""
   ]
  },
  {
   "cell_type": "code",
   "execution_count": 11,
   "id": "711771f2",
   "metadata": {
    "collapsed": true,
    "jupyter": {
     "outputs_hidden": true
    }
   },
   "outputs": [
    {
     "name": "stdout",
     "output_type": "stream",
     "text": [
      "Data Size: 94123\n",
      "Example:\n",
      ">> 개인용 컴퓨터 사용의 상당 부분은 \"이것보다 뛰어날 수 있느냐?\"\n",
      ">> 북한의 핵무기 계획을 포기하도록 하려는 압력이 거세지고 있는 가운데, 일본과 북한의 외교관들이 외교 관계를 정상화하려는 회담을 재개했다.\n",
      ">> \"경호 로보트가 침입자나 화재를 탐지하기 위해서 개인적으로, 그리고 전문적으로 사용되고 있습니다.\"\n",
      ">> 수자원부 당국은 논란이 되고 있고, 막대한 비용이 드는 이 사업에 대해 내년에 건설을 시작할 계획이다.\n",
      ">> 또한 근력 운동은 활발하게 걷는 것이나 최소한 20분 동안 뛰는 것과 같은 유산소 활동에서 얻는 운동 효과를 심장과 폐에 주지 않기 때문에, 연구학자들은 근력 운동이 심장에 큰 영향을 미치는지 여부에 대해 논쟁을 해왔다.\n"
     ]
    }
   ],
   "source": [
    "raw_ko = read_raw(path_ko)"
   ]
  },
  {
   "cell_type": "code",
   "execution_count": 13,
   "id": "0fc69024",
   "metadata": {},
   "outputs": [],
   "source": [
    "save_var(raw_ko, \"raw_ko\")"
   ]
  },
  {
   "cell_type": "code",
   "execution_count": 12,
   "id": "fa35d6d9",
   "metadata": {
    "collapsed": true,
    "jupyter": {
     "outputs_hidden": true
    }
   },
   "outputs": [
    {
     "name": "stdout",
     "output_type": "stream",
     "text": [
      "Data Size: 94123\n",
      "Example:\n",
      ">> Much of personal computing is about \"can you top this?\"\n",
      ">> Amid mounting pressure on North Korea to abandon its nuclear weapons program Japanese and North Korean diplomats have resumed talks on normalizing diplomatic relations.\n",
      ">> “Guard robots are used privately and professionally to detect intruders or fire,” Karlsson said.\n",
      ">> Authorities from the Water Resources Ministry plan to begin construction next year on the controversial and hugely expensive project.\n",
      ">> Researchers also have debated whether weight-training has a big impact on the heart, since it does not give the heart and lungs the kind of workout they get from aerobic activities such as brisk walking or running for at least 20 minutes.\n"
     ]
    }
   ],
   "source": [
    "raw_en = read_raw(path_en)"
   ]
  },
  {
   "cell_type": "code",
   "execution_count": 14,
   "id": "ac1f2202",
   "metadata": {},
   "outputs": [],
   "source": [
    "save_var(raw_en, \"raw_en\")"
   ]
  },
  {
   "cell_type": "code",
   "execution_count": 7,
   "id": "ff0f6f16",
   "metadata": {
    "execution": {
     "iopub.execute_input": "2023-08-24T08:47:20.275787Z",
     "iopub.status.busy": "2023-08-24T08:47:20.274852Z",
     "iopub.status.idle": "2023-08-24T08:47:20.517027Z",
     "shell.execute_reply": "2023-08-24T08:47:20.516649Z",
     "shell.execute_reply.started": "2023-08-24T08:47:20.275753Z"
    }
   },
   "outputs": [],
   "source": [
    "raw_ko = load_var(\"raw_ko\")\n",
    "raw_en = load_var(\"raw_en\")"
   ]
  },
  {
   "cell_type": "markdown",
   "id": "418385aa",
   "metadata": {},
   "source": [
    "## preprocess"
   ]
  },
  {
   "cell_type": "code",
   "execution_count": 8,
   "id": "394fd28a",
   "metadata": {
    "execution": {
     "iopub.execute_input": "2023-08-24T08:47:25.300592Z",
     "iopub.status.busy": "2023-08-24T08:47:25.298817Z",
     "iopub.status.idle": "2023-08-24T08:47:25.308802Z",
     "shell.execute_reply": "2023-08-24T08:47:25.307889Z",
     "shell.execute_reply.started": "2023-08-24T08:47:25.300528Z"
    }
   },
   "outputs": [],
   "source": [
    "def clean_en(sentence):\n",
    "    sentence = sentence.lower().strip()\n",
    "    sentence = re.sub(r\"([?.!,])\", r\" \\1 \", sentence)\n",
    "    sentence = re.sub(r'[\" \"]+', \" \", sentence)\n",
    "    sentence = re.sub(r\"[^a-zA-Z?.!,]+\", \" \", sentence)\n",
    "    return sentence"
   ]
  },
  {
   "cell_type": "code",
   "execution_count": 9,
   "id": "8b0e308d",
   "metadata": {
    "execution": {
     "iopub.execute_input": "2023-08-24T08:47:25.992729Z",
     "iopub.status.busy": "2023-08-24T08:47:25.992459Z",
     "iopub.status.idle": "2023-08-24T08:47:26.018589Z",
     "shell.execute_reply": "2023-08-24T08:47:26.018054Z",
     "shell.execute_reply.started": "2023-08-24T08:47:25.992711Z"
    }
   },
   "outputs": [],
   "source": [
    "def clean_ko(text):\n",
    "    try:\n",
    "        pattern = '([a-zA-Z0-9_.+-]+@[a-zA-Z0-9-]+\\.[a-zA-Z0-9-.]+)' # E-mail제거\n",
    "        text = re.sub(pattern=pattern, repl='', string=text)\n",
    "        pattern = '(http|ftp|https)://(?:[-\\w.]|(?:%[\\da-fA-F]{2}))+' # URL제거\n",
    "        text = re.sub(pattern=pattern, repl='', string=text)\n",
    "        pattern = '([ㄱ-ㅎㅏ-ㅣ]+)'  # 한글 자음, 모음 제거\n",
    "        text = re.sub(pattern=pattern, repl='', string=text)\n",
    "        pattern = '<[^>]*>'         # HTML 태그 제거\n",
    "        text = re.sub(pattern=pattern, repl='', string=text)\n",
    "        pattern = '[^\\w\\s\\n]'         # 특수기호제거\n",
    "        text = re.sub(pattern=pattern, repl='', string=text)\n",
    "        text = re.sub('[-=+,#/\\?:^$.@*\\\"※~&%ㆍ!』\\\\‘|\\(\\)\\[\\]\\<\\>`\\'…》]','', string=text)\n",
    "        text = re.sub('\\n', '.', string=text)\n",
    "        return text \n",
    "    except TypeError:\n",
    "        print(\"Warning: Input to clean_ko was not a string or bytes-like object.\")\n",
    "        print(text)\n",
    "        return text  # or return '' if you want to return an empty string"
   ]
  },
  {
   "cell_type": "code",
   "execution_count": 10,
   "id": "3b3320ff",
   "metadata": {
    "execution": {
     "iopub.execute_input": "2023-08-24T08:47:26.846296Z",
     "iopub.status.busy": "2023-08-24T08:47:26.845659Z",
     "iopub.status.idle": "2023-08-24T08:47:26.853974Z",
     "shell.execute_reply": "2023-08-24T08:47:26.853000Z",
     "shell.execute_reply.started": "2023-08-24T08:47:26.846252Z"
    }
   },
   "outputs": [],
   "source": [
    "def preprocess_sentence(sentence, clean_func, s_token=False, e_token=False):\n",
    "\n",
    "    sentence = clean_func(sentence)\n",
    "    sentence = sentence.strip()\n",
    "\n",
    "    if s_token:\n",
    "        sentence = '<start> ' + sentence\n",
    "\n",
    "    if e_token:\n",
    "        sentence += ' <end>'\n",
    "    \n",
    "    return sentence"
   ]
  },
  {
   "cell_type": "code",
   "execution_count": 11,
   "id": "130078d9",
   "metadata": {
    "execution": {
     "iopub.execute_input": "2023-08-24T08:47:32.153554Z",
     "iopub.status.busy": "2023-08-24T08:47:32.151389Z",
     "iopub.status.idle": "2023-08-24T08:47:34.113798Z",
     "shell.execute_reply": "2023-08-24T08:47:34.112900Z",
     "shell.execute_reply.started": "2023-08-24T08:47:32.153464Z"
    }
   },
   "outputs": [
    {
     "name": "stdout",
     "output_type": "stream",
     "text": [
      "93988\n",
      "Korean: 1960만갤론 이상의 중유를 운반하던 손상된 유조선이 스페인 북서부 연안 130마일 해역에서 침몰하여 스페인 당국이 어업이 주요 산업인 이 지역에서 해안선 보호를 위해 황급히 서두르고 있다\n",
      "93988\n",
      "English: <start> carrying more than . million gallons of heavy fuel oil sank miles off spain s northwest coast , leaving spanish authorities scrambling to protect the coastline in the region where fishing is the primary industry . <end>\n"
     ]
    }
   ],
   "source": [
    "enc_corpus = []\n",
    "dec_corpus = []\n",
    "\n",
    "for ko, en in zip(raw_ko, raw_en):\n",
    "    if len(ko.split()) > 40: continue\n",
    "    enc_corpus.append(preprocess_sentence(ko, clean_ko))\n",
    "    dec_corpus.append(preprocess_sentence(en, clean_en, s_token=True, e_token=True))\n",
    "\n",
    "print(len(enc_corpus))\n",
    "print(\"Korean:\", enc_corpus[100])\n",
    "\n",
    "print(len(dec_corpus))\n",
    "print(\"English:\", dec_corpus[100])"
   ]
  },
  {
   "cell_type": "code",
   "execution_count": 204,
   "id": "0233603c",
   "metadata": {},
   "outputs": [
    {
     "data": {
      "text/plain": [
       "(24531, 24531)"
      ]
     },
     "execution_count": 204,
     "metadata": {},
     "output_type": "execute_result"
    }
   ],
   "source": [
    "len(enc_corpus), len(dec_corpus)"
   ]
  },
  {
   "cell_type": "code",
   "execution_count": 12,
   "id": "65566b5e",
   "metadata": {
    "execution": {
     "iopub.execute_input": "2023-08-24T08:47:50.629915Z",
     "iopub.status.busy": "2023-08-24T08:47:50.619115Z",
     "iopub.status.idle": "2023-08-24T08:47:50.639738Z",
     "shell.execute_reply": "2023-08-24T08:47:50.638550Z",
     "shell.execute_reply.started": "2023-08-24T08:47:50.629845Z"
    }
   },
   "outputs": [],
   "source": [
    "postfix = \"14_desktop\""
   ]
  },
  {
   "cell_type": "code",
   "execution_count": 13,
   "id": "17fb09ff",
   "metadata": {
    "execution": {
     "iopub.execute_input": "2023-08-24T08:47:53.881677Z",
     "iopub.status.busy": "2023-08-24T08:47:53.881186Z",
     "iopub.status.idle": "2023-08-24T08:47:54.327774Z",
     "shell.execute_reply": "2023-08-24T08:47:54.327421Z",
     "shell.execute_reply.started": "2023-08-24T08:47:53.881586Z"
    }
   },
   "outputs": [],
   "source": [
    "save_var(enc_corpus, f\"enc_corpus_{postfix}\")\n",
    "save_var(dec_corpus, f\"dec_corpus_{postfix}\")"
   ]
  },
  {
   "cell_type": "markdown",
   "id": "75e697f5",
   "metadata": {},
   "source": [
    "## sentence length"
   ]
  },
  {
   "cell_type": "code",
   "execution_count": 20,
   "id": "6947d463",
   "metadata": {
    "execution": {
     "iopub.execute_input": "2023-08-24T08:49:33.489928Z",
     "iopub.status.busy": "2023-08-24T08:49:33.488559Z",
     "iopub.status.idle": "2023-08-24T08:49:33.514227Z",
     "shell.execute_reply": "2023-08-24T08:49:33.513432Z",
     "shell.execute_reply.started": "2023-08-24T08:49:33.489879Z"
    }
   },
   "outputs": [],
   "source": [
    "def show_length(corpus, bins=40):\n",
    "    length = [len(sentence) for sentence in corpus]\n",
    "    plt.figure(figsize=(4,4))\n",
    "    plt.hist(length, bins=bins)\n",
    "    return length"
   ]
  },
  {
   "cell_type": "code",
   "execution_count": 15,
   "id": "b3bae734",
   "metadata": {
    "execution": {
     "iopub.execute_input": "2023-08-24T08:48:07.084729Z",
     "iopub.status.busy": "2023-08-24T08:48:07.083632Z",
     "iopub.status.idle": "2023-08-24T08:48:07.264725Z",
     "shell.execute_reply": "2023-08-24T08:48:07.264195Z",
     "shell.execute_reply.started": "2023-08-24T08:48:07.084686Z"
    }
   },
   "outputs": [],
   "source": [
    "enc_length = [len(sentence.split()) for sentence in enc_corpus]\n",
    "dec_length = [len(sentence.split()) for sentence in dec_corpus]"
   ]
  },
  {
   "cell_type": "code",
   "execution_count": 21,
   "id": "908e7538",
   "metadata": {
    "execution": {
     "iopub.execute_input": "2023-08-24T08:49:34.907946Z",
     "iopub.status.busy": "2023-08-24T08:49:34.907295Z",
     "iopub.status.idle": "2023-08-24T08:49:35.224086Z",
     "shell.execute_reply": "2023-08-24T08:49:35.223149Z",
     "shell.execute_reply.started": "2023-08-24T08:49:34.907903Z"
    }
   },
   "outputs": [
    {
     "data": {
      "image/png": "[encoded data removed]",
      "text/plain": [
       "<Figure size 400x400 with 1 Axes>"
      ]
     },
     "metadata": {},
     "output_type": "display_data"
    }
   ],
   "source": [
    "res = show_length(enc_corpus)"
   ]
  },
  {
   "cell_type": "code",
   "execution_count": 22,
   "id": "df541b36",
   "metadata": {
    "execution": {
     "iopub.execute_input": "2023-08-24T08:49:49.093835Z",
     "iopub.status.busy": "2023-08-24T08:49:49.092586Z",
     "iopub.status.idle": "2023-08-24T08:49:49.554703Z",
     "shell.execute_reply": "2023-08-24T08:49:49.554101Z",
     "shell.execute_reply.started": "2023-08-24T08:49:49.093791Z"
    }
   },
   "outputs": [
    {
     "data": {
      "image/png": "[encoded data removed]",
      "text/plain": [
       "<Figure size 400x400 with 1 Axes>"
      ]
     },
     "metadata": {},
     "output_type": "display_data"
    }
   ],
   "source": [
    "res = show_length(dec_corpus)"
   ]
  },
  {
   "cell_type": "code",
   "execution_count": 23,
   "id": "383954de",
   "metadata": {
    "execution": {
     "iopub.execute_input": "2023-08-24T08:50:07.551075Z",
     "iopub.status.busy": "2023-08-24T08:50:07.545876Z",
     "iopub.status.idle": "2023-08-24T08:50:07.695272Z",
     "shell.execute_reply": "2023-08-24T08:50:07.694908Z",
     "shell.execute_reply.started": "2023-08-24T08:50:07.551014Z"
    },
    "scrolled": true
   },
   "outputs": [
    {
     "name": "stdout",
     "output_type": "stream",
     "text": [
      "어휘, 어휘, 어휘, 낙태는 불법이다, 모르고 있습니다, 네 보이는군요, 디즈니사만이 아니다, 유럽에서도 마찬가지이다, 어휘, 이것이 사실일까요, 어휘, 오차범위는 없었다, 어휘, 어휘, 번역, 어휘, 번역, 어휘, 번역, 번역, 어휘, 번역, 어휘, 번역, 하루에 13번, 어휘, 외딴 곳, 어휘, 3월 안경, 번역, 번역, 번역, 어휘, 번역, 어휘, 어휘, 번역, 어휘, 번역, 어휘, 번역, 어휘, 번역, 어휘, 번역, 번역, 1, 2, 3, 4, 향년 71세였다, 4 소물리에, 7오탈자 미확인, 면접, 11지각, 면접 이후, 캐주얼 스타일, 남자들, 가족, 행복의 역설, 충분한 수면, 순간순간을 즐기기, 3 판매원, 4 구조대원, 음식, 햇빛, 보조식품, 계획을 세운다, 5어미니의 실수, 장소, 판매 제품, 판매 제품, 과일, 3 견과류, 양파, 코브, 코브, 산부인과, 심장질환, 유방암, 백일해 백신, 수두 백신, 바리백스Varivax, 대상포진, 조스타백스Zostavax, 홍역 이하선염, MMR, 여행자의 질병, B형간염, 노동의 붕괴, , Q, articlecnn_earticleaspcat_code22Total_ID3108483 1, 햇볕 쬐기, 3 자원봉사, 7 지압, 10 숙면, 첫인상, 세부사항, 웹사이트 wwwsolealbiscioneit, 첫인상, 세부사항, 첫인상, 세부사항, 웹사이트 wwwhoteltrasteverehouseit, 하나의 꿈, 비즈니스다, 향초를 피운다, 4, 6, 거울을 세운다, 친절하게 대화한다, 신생아, 생후 24개월까지, WASHINGTON CNN권성근JOINS, articlecnn_earticleaspcat_code22Total_ID3078112, 공기가 희박하다, 판결은 연기됐다, articlecnn_earticleaspcat_code22Total_ID3065258, 마우이Maui 하와이주, articlecnn_earticleaspcat_code22Total_ID3053480, MOSCOW CNN권성근JOINS, 그들은 배신자, 배신자, 자유, WASHINGTON CNN권성근JOINS, articlecnn_earticleaspcat_code22Total_ID3012803, 초박형 맥북MacBook, 신형 아이폰, DRM프리 음악, 버뮤다, 뉴욕 맨해튼, rockefellercentercom, 휘드비섬 워싱턴주, 환영한다 진행자들, 레스토랑, 쇼핑, 버스투어, 스페이스 오디세이원제, WASHINGTON CNN권성근JOINS, 보안검색 요령, 일찍 도착한다, 첫째날, 둘째날, 정말 크다, 1땅콩 버터, 2계란, 잘못된 생각, 3커피, 4아보카도, 5버섯, 떼뽀스떼코Tepozteco, 인명피해도 충격적이다, articlecnn_earticleaspcat_code22Total_ID2924244, articlecnn_earticleaspcat_code22Total_ID2913608, 정말 그렇다, 버스요금, 요가호텔 숙박비, 택시요금, 서핑스쿨, 맛있는 점심, 과일 음료, articlecnn_earticleaspcat_code22Total_ID2892016, 히어로스Heroes는 키워드다, 정말 파랗다, 고 졸랐다, 아이를 만드세요, 여론은 명확했다, 스피어스가 뚱뚱한가, 그밖의 인물, 퀴노네스Quinones, 크로그바Krogbar, 거의 마술같은, 교훈, 교훈, 나중에, 스칼렛 요한슨, 요한슨, 요한슨, 요한슨, 요한슨, 요한슨, , NEW YORKCNN권성근JOINS, 첫번째, 에어로의 통계치, 15명은 행방불명이다, WASHINGTONCNN권성근JOINS, CNN권성근JOINS, CNN권성근JOINS, 트랜스포머, 또한 트랜스포머, CNN articlecnn_earticleaspcat_code22Total_ID2803277, CNN articlecnn_earticleaspcat_code22Total_ID2793901, 대학탐방은 이렇다, 필자도 그랬다, articlecnn_earticleaspcat_code22Total_ID2785702, articlecnn_earticleaspcat_code22Total_ID2783781, CNN articlecnn_earticleaspcat_code22Total_ID2774687, CNN articlecnn_earticleaspcat_code22Total_ID2766785, ISLAMABAD PakistanCNN권성근JOINS, 정지나 기자, 마지막 곤돌라였다, 하산하는 길, 사와야, 사와야, 사와야, 사와야, 사와야, GENEVA SwitzerlandCNN권성근JOINS, articlecnn_earticleaspcat_code22Total_ID2736692, 턱시도는 잊어라, 아직 읽고있습니까, articlecnn_earticleaspcat_code22Total_ID2721163, LONDON EnglandCNN권성근JOINS, 친숙하게 들리나요, CNN권성근JOINS, 그밖의 인물, articlecnn_earticleaspcat_code22Total_ID2704801, 패션은 변했다, 그밖의 인물, 처음에는 장난이었다, articlecnn_earticleaspcat_code22Total_ID2666388, 아기가 질식한다면, 등을 두드려라, 나를 봐, 라고 덧붙였다, JERUSALEM AP김양희JOINS, 국제적 선호, 기타 수상자들, articlecnn_earticleaspcat_code22Total_ID2642160, WASHINGTON CNN김양희JOINS, 국민의 요구, 바뀌는 시대, 분열 조장, JERUSALEM AP송완영JOINS, ST, ST, ST, ST, ST, ST, ST, ST, ST, 경유 1200원대로, 원문기사보기, 틸트로터 헬기니, 경유 1200원대로, 경유 1200원대로, 경유 1200원대로, 경유 1200원대로, 경유 1200원대로, 경유 1200원대로, 경유 1200원대로, 경유 1200원대로, joinscom CNN한글뉴스, 경유 1200원대로, 경유 1200원대로, 경유 1200원대로, 경유 1200원대로, 경유 1200원대로, 경유 1200원대로, 경유 1200원대로, 경유 1200원대로, 경유 1200원대로, 경유 1200원대로, 경유 1200원대로, joinscom CNN한글뉴스, 기사공유, 경유 1200원대로, 경유 1200원대로, 원문기사보기, 경유 1200원대로, 경유 1200원대로, 경유 1200원대로, cnn 한글뉴스, 경유 1200원대로, 경유 1200원대로, cnn 한글뉴스, 원문기사보기, 원문기사보기, 원문기사, 스타벅스쿠폰 무료, 경유 1200원대로, 경유 1200원대로, 원문기사보기, 기사공유, 틸트로터 헬기니, 경유 1200원대로, 경유 1200원대로, 경유 1200원대로, 경유 1200원대로, 경유 1200원대로, 원문기사, 천원의 기적, 경유 1200원대로, 경유 1200원대로, 원문기사보기, 원문기사, 원문기사보기, 경유 1200원대로, 경유 1200원대로, 원문기사, 경유 1200원대로, 경유 1200원대로, 기사공유, 경유 1200원대로, joinscom CNN한글뉴스, 경유 1200원대로, 경유 1200원대로, 경유 1200원대로, 경유 1200원대로, 경유 1200원대로, 원문기사보기, 원문기사보기, 경유 1200원대로, 경유 1200원대로, 경유 1200원대로, 경유 1200원대로, 틸트로터 헬기니, 경유 1200원대로, 경유 1200원대로, 원문기사, 경유 1200원대로, 경유 1200원대로, 원문기사, 경유 1200원대로, 경유 1200원대로, CNN 한글뉴스, 경유 1200원대로, 경유 1200원대로, 경유 1200원대로, 경유 1200원대로, joinscom CNN한글뉴스, 경유 1200원대로, 경유 1200원대로, 경유 1200원대로, 경유 1200원대로, 경유 1200원대로, 경유 1200원대로, 경유 1200원대로, 경유 1200원대로, 경유 1200원대로, 경유 1200원대로, 경유 1200원대로, 경유 1200원대로, 경유 1200원대로, 경유 1200원대로, 경유 1200원대로, 경유 1200원대로, 원문기사보기, 경유 1200원대로, joinscom CNN한글뉴스, 경유 1200원대로, 경유 1200원대로, joinscom CNN한글뉴스, 경유 1200원대로, 경유 1200원대로, Newsweek 한글판, 원문기사보기, 원문기사보기, 경유 1200원대로, 경유 1200원대로, CNN  이수지JOINS, CNN  이수지JOINS, 경유 1200원대로, 경유 1200원대로, 경유 1200원대로, 경유 1200원대로, 원문기사보기, joinscom CNN한글뉴스, 원문기사보기, 경유 1200원대로, joinscom CNN한글뉴스, 경유 1200원대로, 경유 1200원대로, 경유 1200원대로, 경유 1200원대로, 경유 1200원대로, 경유 1200원대로, 경유 1200원대로, 경유 1200원대로, 원문기사보기, 경유 1200원대로, 경유 1200원대로, 원문기사보기, 경유 1200원대로, Newsweek 한글판, 경유 1200원대로, 경유 1200원대로, cnn 한글뉴스, 경유 1200원대로, 경유 1200원대로, CNN  이수지JOINS, CNN  이수지JOINS, 경유 1200원대로, 경유 1200원대로, 경유 1200원대로, 경유 1200원대로, 원문기사보기, 원문기사보기, 경유 1200원대로, 경유 1200원대로, 경유 1200원대로, 원문기사보기, 원문기사보기, 경유 1200원대로, 경유 1200원대로, 기사공유, 원문기사보기, 경유 1200원대로, 경유 1200원대로, 경유 1200원대로, 경유 1200원대로, 경유 1200원대로, 경유 1200원대로, 경유 1200원대로, 원문기사 원문기사보기, 경유 1200원대로, 경유 1200원대로, 경유 1200원대로, 경유 1200원대로, 경유 1200원대로, 경유 1200원대로, 원문기사보기, 원문기사보기, 경유 1200원대로, 경유 1200원대로, 경유 1200원대로, 경유 1200원대로, 경유 1200원대로, 경유 1200원대로, 경유 1200원대로, 경유 1200원대로, Newsweek 한글판, 원문기사보기, joinscom CNN한글뉴스, 경유 1200원대로, 경유 1200원대로, 경유 1200원대로, 경유 1200원대로, 경유 1200원대로, 경유 1200원대로, 경유 1200원대로, joinscom CNN한글뉴스, 경유 1200원대로, 경유 1200원대로, 경유 1200원대로, 경유 1200원대로, 경유 1200원대로, 경유 1200원대로, 원문기사, 천원의 기적, 경유 1200원대로, 경유 1200원대로, 경유 1200원대로, 경유 1200원대로, 경유 1200원대로, 경유 1200원대로, 경유 1200원대로, 경유 1200원대로, 경유 1200원대로, 경유 1200원대로, 경유 1200원대로, 원문기사보기, 원문기사보기, 틸트로터 헬기니, 틸트로터 헬기니, 경유 1200원대로, 경유 1200원대로, 경유 1200원대로, 경유 1200원대로, 경유 1200원대로, 경유 1200원대로, 경유 1200원대로, 경유 1200원대로, 경유 1200원대로, 경유 1200원대로, 경유 1200원대로, 경유 1200원대로, 경유 1200원대로, 원문기사보기, 원문기사보기, 경유 1200원대로, 경유 1200원대로, 경유 1200원대로, 경유 1200원대로, 경유 1200원대로, Newsweek 한글판, 경유 1200원대로, 경유 1200원대로, 경유 1200원대로, cnn 한글뉴스, 경유 1200원대로, 경유 1200원대로, 경유 1200원대로, 경유 1200원대로, 경유 1200원대로, 경유 1200원대로, 경유 1200원대로, 문화연예, CNN  이수지JOINS, 경유 1200원대로, 경유 1200원대로, 경유 1200원대로, 경유 1200원대로, 경유 1200원대로, 원문기사, 경유 1200원대로, 경유 1200원대로, 원문기사보기, joinscom CNN한글뉴스, 경유 1200원대로, cnn 한글뉴스, 경유 1200원대로, 경유 1200원대로, 경유 1200원대로, 원문기사보기, 원문기사보기, 경유 1200원대로, 경유 1200원대로, 경유 1200원대로, 경유 1200원대로, 경유 1200원대로, 경유 1200원대로, 원문기사보기, 경유 1200원대로, 경유 1200원대로, 경유 1200원대로, 경유 1200원대로, 경유 1200원대로, 경유 1200원대로, 경유 1200원대로, 경유 1200원대로, CNN  이수지JOINS, 원문기사보기, 경유 1200원대로, 경유 1200원대로, 경유 1200원대로, 경유 1200원대로, 경유 1200원대로, 경유 1200원대로, 경유 1200원대로, 경유 1200원대로, 원문기사보기, 경유 1200원대로, joinscom CNN한글뉴스, 경유 1200원대로, 경유 1200원대로, 원문기사 원문기사보기, 경유 1200원대로, 원문기사, 원문기사보기, 경유 1200원대로, 원문기사, 경유 1200원대로, 경유 1200원대로, 경유 1200원대로, 경유 1200원대로, 원문기사보기, 원문기사보기, 틸트로터 헬기니, 틸트로터 헬기니, 경유 1200원대로, 경유 1200원대로, 경유 1200원대로, 원문기사보기, 경유 1200원대로, 경유 1200원대로, 경유 1200원대로, 경유 1200원대로, 경유 1200원대로, 경유 1200원대로, 경유 1200원대로, 경유 1200원대로, 경유 1200원대로, 경유 1200원대로, 경유 1200원대로, 경유 1200원대로, 원문기사보기, 경유 1200원대로, 원문기사보기, 원문기사보기, 경유 1200원대로, 경유 1200원대로, joinscom CNN한글뉴스, 경유 1200원대로, 경유 1200원대로, 경유 1200원대로, 경유 1200원대로, 경유 1200원대로, 경유 1200원대로, 원문기사보기, CNN  이수지JOINS, 기사공유, 원문기사보기, 원문기사, 경유 1200원대로, 경유 1200원대로, 경유 1200원대로, 경유 1200원대로, 원문기사, 경유 1200원대로, 경유 1200원대로, 경유 1200원대로, cnn 한글뉴스, 경유 1200원대로, 경유 1200원대로, 경유 1200원대로, 경유 1200원대로, 원문기사, 원문기사보기, 경유 1200원대로, joinscom CNN한글뉴스, 경유 1200원대로, 경유 1200원대로, 원문기사보기, 원문기사보기, 경유 1200원대로, joinscom CNN한글뉴스, 경유 1200원대로, 경유 1200원대로, cnn 한글뉴스, 경유 1200원대로, joinscom CNN한글뉴스, 경유 1200원대로, 경유 1200원대로, Newsweek 한글판, 경유 1200원대로, 경유 1200원대로, 경유 1200원대로, 원문기사보기, 원문기사보기, 경유 1200원대로, 경유 1200원대로, 경유 1200원대로, 경유 1200원대로, 경유 1200원대로, 경유 1200원대로, 경유 1200원대로, 경유 1200원대로, 경유 1200원대로, 경유 1200원대로, 경유 1200원대로, 경유 1200원대로, 원문기사보기, 원문기사보기, 경유 1200원대로, 경유 1200원대로, 경유 1200원대로, 경유 1200원대로, 경유 1200원대로, 경유 1200원대로, 경유 1200원대로, 경유 1200원대로, Newsweek 한글판, 원문기사보기, 경유 1200원대로, 경유 1200원대로, 경유 1200원대로, 경유 1200원대로, 원문기사보기, 경유 1200원대로, 원문기사보기, 경유 1200원대로, CNN  이수지JOINS, 원문기사보기, 경유 1200원대로, 경유 1200원대로, 경유 1200원대로, 경유 1200원대로, 경유 1200원대로, 경유 1200원대로, 경유 1200원대로, Newsweek 한글판, 경유 1200원대로, Newsweek 한글판, 원문기사보기, 경유 1200원대로, 경유 1200원대로, 경유 1200원대로, 경유 1200원대로, 경유 1200원대로, 경유 1200원대로, CNN  이수지JOINS, 경유 1200원대로, 경유 1200원대로, 경유 1200원대로, 경유 1200원대로, CNN  이수지JOINS, CNN  이수지JOINS, 경유 1200원대로, 경유 1200원대로, 경유 1200원대로, 경유 1200원대로, 경유 1200원대로, 경유 1200원대로, 경유 1200원대로, 경유 1200원대로, cnn 한글뉴스, 원문기사보기, 원문기사보기, 경유 1200원대로, 경유 1200원대로, 경유 1200원대로, 경유 1200원대로, 경유 1200원대로, 경유 1200원대로, 경유 1200원대로, 경유 1200원대로, 경유 1200원대로, 경유 1200원대로, 경유 1200원대로, 경유 1200원대로, 경유 1200원대로, 경유 1200원대로, 경유 1200원대로, 이벤트, 경유 1200원대로, 경유 1200원대로, 경유 1200원대로, 경유 1200원대로, cnn 한글뉴스, 경유 1200원대로, 경유 1200원대로, 경유 1200원대로, 경유 1200원대로, 경유 1200원대로, 경유 1200원대로, 경유 1200원대로, 경유 1200원대로, 경유 1200원대로, 원문기사보기, 원문기사보기, 경유 1200원대로, 틸트로터 헬기니, 경유 1200원대로, 경유 1200원대로, 경유 1200원대로, 경유 1200원대로, 경유 1200원대로, 경유 1200원대로, 원문기사보기, CNN  이수지JOINS, 경유 1200원대로, cnn 한글뉴스, 원문기사 원문기사보기, 경유 1200원대로, 경유 1200원대로, Newsweek 한글판, 경유 1200원대로, 경유 1200원대로, 문화연예, 원문기사, 경유 1200원대로, 경유 1200원대로, 경유 1200원대로, 경유 1200원대로, 경유 1200원대로, 경유 1200원대로, 경유 1200원대로, 원문기사보기, joinscom CNN한글뉴스, 원문기사보기, 원문기사보기, 경유 1200원대로, Newsweek 한글판, 경유 1200원대로, 원문기사보기, 경유 1200원대로, 경유 1200원대로, 경유 1200원대로, 경유 1200원대로, joinscom CNN한글뉴스, 경유 1200원대로, CNN  이수지JOINS, 원문기사보기, 원문기사보기, 경유 1200원대로, 경유 1200원대로, 경유 1200원대로, 경유 1200원대로, 틸트로터 헬기니, 경유 1200원대로, 고프섬은 무인도다, 원문기사, 원문기사보기, 고프섬은 무인도다, 경유 1200원대로, 경유 1200원대로, CNN  이수지JOINS, 원문기사, 원문기사보기, 경유 1200원대로, 경유 1200원대로, 경유 1200원대로, cnn 한글뉴스, joinscom CNN한글뉴스, 원문기사보기, 경유 1200원대로, 개야라고 외쳤다, 개야라고 외쳤다, 경유 1200원대로, 경유 1200원대로, CNN  이수지JOINS, 원문기사보기, 경유 1200원대로, Newsweek 한글판, 경유 1200원대로, cnn 한글뉴스, 원문기사, 원문기사보기, joinscom CNN한글뉴스, 원문기사보기, 원문기사보기, 비행기니, 틸트로터 헬기니, 경유 1200원대로, 경유 1200원대로, 문화연예, 원문기사보기, 경유 1200원대로, 경유 1200원대로, 경유 1200원대로, 원문기사, 스타벅스쿠폰 무료, 경유 1200원대로, 원문기사, 원문기사보기, joinscom CNN한글뉴스, 원문기사보기, 경유 1200원대로, CNN  이수지JOINS, 경유 1200원대로, joinscom CNN한글뉴스, 경유 1200원대로, 경유 1200원대로, 경유 1200원대로, CNN  이수지JOINS, 원문기사, 원문기사보기, 프린트, 틸트로터 헬기니, 천원의 기적, 경유 1200원대로, joinscom CNN한글뉴스, 경유 1200원대로, 경유 1200원대로, 경유 1200원대로, 경유 1200원대로, 원문기사보기, 경유 1200원대로, 정국안정 약속, 정국안정 약속, 경유 1200원대로, 스타벅스쿠폰 무료, 경유 1200원대로, 크라이슬러 조업중단, 경유 1200원대로, 경유 1200원대로, 경유 1200원대로, 경유 1200원대로, CNN  이수지JOINS, joinscom CNN한글뉴스, 경유 1200원대로, 경유 1200원대로, 경유 1200원대로, 경유 1200원대로, cnn 한글뉴스, 경유 1200원대로, 경유 1200원대로, 경유 1200원대로, 경유 1200원대로, 경유 1200원대로, 4백신 접종, 4백신 접종, 경유 1200원대로, 경유 1200원대로, 경유 1200원대로, 경유 1200원대로, 원문기사, 원문기사보기, 경유 1200원대로, 원문기사보기, joinscom CNN한글뉴스, 천원의 기적, 경유 1200원대로, 원문기사보기, joinscom CNN한글뉴스, 경유 1200원대로, 경유 1200원대로, 경유 1200원대로, 경유 1200원대로, 경유 1200원대로, 경유 1200원대로, 경유 1200원대로, 경유 1200원대로, 경유 1200원대로, 경유 1200원대로, 경유 1200원대로, joinscom CNN한글뉴스, 원문기사보기, 경유 1200원대로, 경유 1200원대로, 경유 1200원대로, 경유 1200원대로, 경유 1200원대로, 경유 1200원대로, 경유 1200원대로, 경유 1200원대로, 원문기사보기, 경유 1200원대로, 경유 1200원대로, 경유 1200원대로, 원문기사보기, 경유 1200원대로, 경유 1200원대로, 경유 1200원대로, 경유 1200원대로, joinscom CNN한글뉴스, 경유 1200원대로, 경유 1200원대로, 경유 1200원대로, 경유 1200원대로, cnn 한글뉴스, 경유 1200원대로, 경유 1200원대로, 경유 1200원대로, joinscom CNN한글뉴스, 경유 1200원대로, 경유 1200원대로, 경유 1200원대로, 원문기사보기, 원문기사보기, 경유 1200원대로, 경유 1200원대로, 경유 1200원대로, 원문기사보기, 원문기사보기, 경유 1200원대로, 경유 1200원대로, CNN  이수지JOINS, 원문기사, CNN  이수지JOINS, 원문기사, 경유 1200원대로, 경유 1200원대로, 경유 1200원대로, cnn 한글뉴스, 경유 1200원대로, 경유 1200원대로, 원문기사 원문기사보기, joinscom CNN한글뉴스, 경유 1200원대로, 경유 1200원대로, 경유 1200원대로, 경유 1200원대로, 경유 1200원대로, 경유 1200원대로, joinscom CNN한글뉴스, 경유 1200원대로, joinscom CNN한글뉴스, 경유 1200원대로, 경유 1200원대로, 문화연예, 원문기사보기, 경유 1200원대로, 경유 1200원대로, joinscom CNN한글뉴스, 경유 1200원대로, 원문기사보기, 원문기사보기, 경유 1200원대로, joinscom CNN한글뉴스, 원문기사보기, 경유 1200원대로, 경유 1200원대로, joinscom CNN한글뉴스, 경유 1200원대로, 경유 1200원대로, joinscom CNN한글뉴스, 경유 1200원대로, 경유 1200원대로, 경유 1200원대로, 경유 1200원대로, 경유 1200원대로, 경유 1200원대로, 경유 1200원대로, 경유 1200원대로, CNN 이수지JOINS, 이벤트, 경유 1200원대로, 경유 1200원대로, 경유 1200원대로, 경유 1200원대로, 경유 1200원대로, 경유 1200원대로, 경유 1200원대로, 경유 1200원대로, 경유 1200원대로, joinscom CNN한글뉴스, 원문기사보기, 경유 1200원대로, 원제, CNN  이수지JOINS, 원문기사, 원제, 경유 1200원대로, 경유 1200원대로, 경유 1200원대로, 경유 1200원대로, 경유 1200원대로, 경유 1200원대로, Newsweek 한글판, 경유 1200원대로, 경유 1200원대로, joinscom CNN한글뉴스, 경유 1200원대로, 경유 1200원대로, 경유 1200원대로, 경유 1200원대로, Newsweek 한글판, 경유 1200원대로, Newsweek 한글판, joinscom CNN한글뉴스, 경유 1200원대로, 경유 1200원대로, 경유 1200원대로, CNN  이수지JOINS, 원문기사, 경유 1200원대로, 경유 1200원대로, 경유 1200원대로, 원문기사보기, 원문기사보기, 경유 1200원대로, joinscom CNN한글뉴스, 경유 1200원대로, 경유 1200원대로, 경유 1200원대로, 경유 1200원대로, 경유 1200원대로, 경유 1200원대로, 경유 1200원대로, 경유 1200원대로, 경유 1200원대로, 경유 1200원대로, 틸트로터 헬기니, 경유 1200원대로, 경유 1200원대로, 경유 1200원대로, 경유 1200원대로, 경유 1200원대로, Newsweek 한글판, joinscom CNN한글뉴스, 경유 1200원대로, 경유 1200원대로, 경유 1200원대로, 경유 1200원대로, joinscom CNN한글뉴스, 경유 1200원대로, TOEIC 독해, resign 사퇴하다, inhalation 흡입, 정권을 잡다장악하다, 로그인 Korea사전, conglomerate 재벌그룹, capitulate 항복하다, 국어사전, TOEIC 독해, predecessor 전임자, nomination 임명, selloff 주가, resolution 결의, Korea사전, greenback 달러지폐, pessimistic 비관적인, semifinal 준결승의, 비강 콧속, TOEIC 독해, 영어사전, release 발표하다, correspondent 특파원, Korea사전, rightwing 우파, overwhelmingly 압도적으로, complication 합병증, rout 참패, TOEIC 독해, prostitution 매춘, crisis 위기, 왕의 귀환입니다, 한자사전, retailer 소매상인, 한자사전, 격동의 시대, 검사 검찰관, shareholder 주주, 아메리칸은 최하위였습니다, consulate 영사관, concession 양보, Korea사전, 통합검색영어사전, capitalist 자본주의, meteorological 기상학상의, hearings 청문회, TOEIC 독해, inauguration 취임식, exploit 착취하다, mortar 박격포, standard 표준, 영어사전, 제2보병 사단, 영어사전, 국어사전, pledge 서약하다, 질문자 심문자, 영어사전, 연설 논설, 서식환경 서식지, threaten 위협하다, 한자사전, synagogue 예배당, TOEIC 독해, epic 서사시적인, 폴 하비입니다, unmistakable 명백한, 영어사전, AP 라디오뉴스입니다, Congress 의회, 국어사전, 스트레스에 시달리신다고요, 증언 고백, 암살 훼손, optimistic 낙관낙천적인, 통계청, 인수합병, indict 기소고발하다, incumbent 현직의, Salvadoran 엘살바도르의, TOEIC 독해, TOEIC 독해, arson 방화, 주권 통치권, execute 처형하다, 고맙습니다 리타, concession 양보, TOEIC 독해, 6살의 아이처럼, diplomatic 외교상의, 인권 침해, TOEIC 독해, investigate 조사하다, 숙청이 시작되었다, 영어사전, 광대극 웃음거리, explode 폭발하다, 외교통상부 이슬람교도, 약속진술 따위, respiratory 호흡의, TOEIC 독해, unemployment 실직, 한자사전, Korea사전, 영어사전, condemnation 유죄선고, 국어사전, 예방적인 예방책, 한자사전, polyethylene 폴리에틸렌, secretary 사무국장, 전체가 아닙니다, 국어사전, 한자사전, legislative 입법상의, 월가 소식입니다, 영어사전, 통합검색영어사전, 국어사전, 해양수산부, TOEIC 독해, peacekeeping 평화유지, 특히 회사, voluntary 자발적인, 용어사전, 월가의 종가입니다, 다국어 번역기, 백과사전 국어사전, 통합검색영어사전, 영어사전, logistics 세부계획, 사직서를 쓰다, chopper 헬리콥터syn, 한자사전, 영어사전, 한자사전, tribunal 법정, meantime 한편, battleground 격전지, 통합사전, protectionist 보호주의, 국어사전, unification 통일부, 영어사전, 국어사전, 영어사전, 유죄를 선고하다, 산업자원부, 해외 송금, ergonomic 인체공학적인, Korea사전, 영어사전, meteorologist 기상학자, 시위자들의 외침, 통합검색영어사전, 국어사전, precondition 전제조건, 통계청NSO, storm 폭풍우, bureaucrat 관료주의자, 한국 동물보호단체들은, 한나라당, 국어사전, selfsufficient 자급자족의, hearing 청문회, Korea사전, campaign 선거운동, 비관적인 염세주의의, 감사원, 영어사전, 영어사전, redhanded 현행범의, 그들은 신중했습니다, elementary 초등학교, pipeline보급선 경로, 도살장 수라장, 그렇죠, 영어사전, employer 고용주, 한국정보통신산업협회, agricultural 농업의, 기소 고발, 의견을 진술하다, 한국군 병사, AP 라디오뉴스입니다, checkin 탑승수속, Mediterranean 지중해, 철도청, homosexuality 동성애, 33포인트를 추가했습니다, entertainer 연예인, 서약 책임, withdraw 철수시키다, 다국어 번역기, symbolic 상징적인, hypochondria 우울증, peacekeeping 평화유지, 산업자원부, Korea사전, 존 벨몬트였습니다, 국제원자력기구, 국제원자력기구IAEA, 영어사전, hostage 인질, ultimatum 최후통첩, 통합검색영어사전, knowingly 고의적으로, 영어사전, 통합검색영어사전, stabilize 안정화시키다, 투기매매 추론, 끌어내다 철수시키다, 단어장, 일어사전, 한자사전, 월스트리트 소식입니다, TOEIC 독해, 백과사전 국어사전, paleontologist 고생물학자, 다국어 번역기, 영어사전, Korea사전, 일어사전, 국어사전, 국제원자력기구, TOEIC 독해, "
     ]
    }
   ],
   "source": [
    "enc_corpus_filtered = []\n",
    "dec_corpus_filtered = []\n",
    "\n",
    "for enc, dec in zip(enc_corpus, dec_corpus):\n",
    "    if len(enc.split()) < 3: print(enc, end=', '); continue\n",
    "    enc_corpus_filtered.append(enc)\n",
    "    dec_corpus_filtered.append(dec)"
   ]
  },
  {
   "cell_type": "markdown",
   "id": "04b4e9c2",
   "metadata": {},
   "source": [
    "> 한 단어로 이루어진 문장들이, 그것도 중복된 데이터들이 섞여있다.  \n",
    "> 제거!  "
   ]
  },
  {
   "cell_type": "code",
   "execution_count": 206,
   "id": "6b659173",
   "metadata": {},
   "outputs": [
    {
     "data": {
      "text/plain": [
       "(24462, 24462)"
      ]
     },
     "execution_count": 206,
     "metadata": {},
     "output_type": "execute_result"
    }
   ],
   "source": [
    "len(enc_corpus_filtered), len(dec_corpus_filtered)"
   ]
  },
  {
   "cell_type": "code",
   "execution_count": 270,
   "id": "5f06378c",
   "metadata": {},
   "outputs": [],
   "source": [
    "for enc, dec in zip(enc_corpus_filtered, dec_corpus_filtered):\n",
    "    if len(enc) < 3: print(enc, end=', '); continue"
   ]
  },
  {
   "cell_type": "code",
   "execution_count": 271,
   "id": "0e67feb5",
   "metadata": {},
   "outputs": [],
   "source": [
    "for enc, dec in zip(enc_corpus_filtered, dec_corpus_filtered):\n",
    "    if len(dec) < 3: print(dec, end=', '); continue"
   ]
  },
  {
   "cell_type": "code",
   "execution_count": 114,
   "id": "003529f0",
   "metadata": {},
   "outputs": [],
   "source": [
    "save_var(enc_corpus_filtered, \"enc_corpus_filtered\")\n",
    "save_var(dec_corpus_filtered, \"dec_corpus_filtered\")"
   ]
  },
  {
   "cell_type": "code",
   "execution_count": 274,
   "id": "f12475df",
   "metadata": {
    "collapsed": true,
    "jupyter": {
     "outputs_hidden": true
    }
   },
   "outputs": [
    {
     "name": "stdout",
     "output_type": "stream",
     "text": [
      "잇따른 토네이도에 의해 36명의 사망자 발생\n",
      "<start> emergency workers and stunned residents across the south and great lakes regions picked through shattered homes and buildings after a string of tornadoes left at least people dead and dozens injured . <end>\n",
      "핵무기 개발 완료를 공식 발표한 북한\n",
      "<start> the studio later retracted the statement , saying reports of bootleg copies hadn t been substantiated , but an ap search discovered what appeared to be the movie available on a site hosted in europe . <end>\n",
      "어휘  콩고 화산 폭발로 40명 이상 사망\n",
      "<start> lava edged with black crust inched through the eastern congolese city of goma , nearly two days after mount nyiragongo erupted , killing more than people and forcing half a million people to flee . <end>\n",
      "시간 당 225킬로미터의 지속적인 바람과 함께 지난 밤 늦게\n",
      "<start> hurricane luis , the most powerful storm of the season in the atlantic , is roaring through the caribbean this morning toward the virgin islands and puerto rico , with sustained winds of kilometers an hour . <end>\n",
      "클린턴 행정부와 일본 정부는 비틀거려 왔습니다\n",
      "<start> the clinton administration and the japanese government teetered on the brink of a trade war sanctions were averted when the two governments struck an eleventh hour agreement on japan increasing its purchase of u . s . cars and auto parts . <end>\n",
      "그러나 갑자기 꽥 소리를 지른 사람은 소렌스탐이었다 12번 홀에서\n",
      "<start> it was sorenstam , though , who cracked , three putting the th hole after taking the lead with a birdie the hole before and then nearly hitting her next shot on the th hole into the water . <end>\n",
      "노대통령은 북한에 대한 포용정책의 확대를 선호한다\n",
      "<start> administration is wary of negotiating with north korean leader kim jong il , with top bush advisers divided internally on whether to pursue a policy of containment or increased dialogue . <end>\n",
      "식량 부족으로 고통받는 북한 주민들\n",
      "<start> weak demand at home for imports and a surge in shipments of japanese cars , flat screen tvs and other key exports to asia it jumped percent from a year ago the customs cleared trade surplus grew for a third straight month a severe shortage of food aid is forcing hungry north koreans to scrounge for grass and seaweed , the united nations says . <end>\n",
      "성에 따른 복수형이 없는 언어가 있기 때문이다\n",
      "<start> while not knowing someone s gender poses grammatical challenges in english , it has created even larger headaches as facebook expands to other languages , where a gender neutral option isn t available in plural form . <end>\n",
      "지난주 발생했던 돌고래 집단죽음도 이 단체가 처음 발견 신고했다\n",
      "<start> friday , bdmlr said it had seen pictures of the same adult dolphin taken a day earlier near campbelltown , scotland , near the north channel which separates scotland and northern ireland and closer to the north atlantic . <end>\n",
      "올해 64세인 남자는 결국 음주운전으로 기소됐다\n",
      "<start> the officers breath tested the year old man , who registered a blood alcohol reading of . more than six times the legal driving limit and charged him with operating a vehicle while drunk . <end>\n",
      "그러나 이는 단지 희망사항에 그칠 수도 있다는 것이 전문가들의 견해다\n",
      "<start> clinton told new york lawmakers this week that she d be open to becoming the democrat s vice presidential nominee , some of them said , but obama has said only that clinton would be on anyone s short list . <end>\n",
      "농업단체는 의회 천주교 대법원에 이번 위기 해결을 요구했다\n",
      "<start> the farm groups said they would go to congress , the catholic church and the supreme court to resolve the crisis , which has presented a formidable challenge to president cristina fernandez de kirchner s government since the tax was imposed march . <end>\n",
      "판다 서식지는 대부분은 워롱과 청두 지역를 중심으로 분포해 있다\n",
      "<start> with the safety of the pandas confirmed , the animals caregivers are left to determine how resources like food and medical supplies will reach the bases , which contain breeding facilities and triage centers . <end>\n",
      "이에따라 오바마가 슈퍼대의원 확보 수에서 클린턴에 4명 앞섰다\n",
      "<start> tom allen of maine , dolly strazar of hawaii , sen . daniel akaka of hawaii and keith roark of idaho all endorsed obama monday , giving him a lead of four superdelegates for the time being . <end>\n",
      "독일 경찰이 서부의 한 가정집 지하 냉장고에서 영아시신 3구를 발견했다\n",
      "<start> berlin , germany cnn police discovered the bodies of three dead babies in a freezer of a single family home in western germany , and their mother is the only suspect in the case , authorities said monday . <end>\n",
      "시신들은 수건과 신문에 쌓인 채 3개의 비닐봉투에 나눠 넣어져 있었다\n",
      "<start> the child noticed the freezer was cluttered and decided it needed to be cleaned , then found the corpses wrapped in towels and newspapers and placed in three plastic bags buried under piles of items . <end>\n",
      "올해 14분기 쿠바 방문객은 15 증가했다\n",
      "<start> havana , cuba cnn cuba said wednesday that its crucial tourism industry appears to be recovering from a two year slump , with a percent increase in visitors during the first quarter of the year . <end>\n",
      "국방부는 장교가 망명해 귀순하는 것은 드문 일이라고 밝혔다\n",
      "<start> the defense ministry official told cnn that it was unusual for a commissioned officer to defect , although yonhap reported that an enlisted member of the north s korean people s army crossed the border last year . <end>\n",
      "남아공은 2010년 월드컵을 개최한다\n",
      "<start> south africa coach carlos alberto parreira resigned on monday to return to brazil to be with his family and ill wife , leaving the national football team in disarray just two years before the country hosts the world cup . <end>\n",
      "그들은 모두 현지 각성위원회 소속이었다\n",
      "<start> both sons were members of the local awakening council , a movement of predominantly sunni muslims who have joined forces with the u . s . and iraqi governments in battling islamic jihadists loyal to al qaeda in iraq . <end>\n",
      "스나입스는 소득세 환급을 부당하게 받은 혐의로 기소됐다\n",
      "<start> one week after vowing to crack down on tax defiers , the justice department filed court papers seeking the maximum penalty for the three misdemeanor counts on which snipes was convicted . <end>\n",
      "커피전문점용 100g짜리 포장제품 또한 100달러에 판매된다\n",
      "<start> the coffee , which went on sale yesterday , is either available at for a shot at the peter jones espresso bar , or shoppers can buy g packs of the coffee beans to take away for the same price . <end>\n",
      "그러나 영국 총리실은 브라운 총리가 폐막식에는 참석할 것이라고 전했다\n",
      "<start> he became the second major world leader after german chancellor angela merkel to decide to stay away from the opening ceremonies , although brown s office insisted wednesday that he was not boycotting the olympics and would attend the closing ceremony . <end>\n",
      "제5 터미널의 비행 취소는 이번이 처음은 아니다\n",
      "<start> since operations began at the terminal , hundreds of flights have been canceled , a backlog of thousands of bags remains and passengers have been forced to spend the night in the gleaming new building . <end>\n",
      "인도와인의 맛은 인도부유층들 사이 에서 세련된 맛으로 인정받고 있다\n",
      "<start> a taste for wine is now a sign of sophistication among indians who have grown wealthy as the economy has boomed , and scores of wineries have opened in recent years to quench their thirst . <end>\n",
      "그는 남극에서 수생과 해양 무척추 동물들의 생리와 생태를 연구하고 있다\n",
      "<start> therefore , what we see happening in the poles should be taken as warning of what may be coming elsewhere , said mcclintock , who studies the physiology and ecology of aquatic and marine invertebrates in antarctica . <end>\n",
      "북한은 지난달 새로 출범한 이명박 정부의 강경노선을 강하게 비난했다\n",
      "<start> the statement from north korea s official news agency marked the third straight day of bellicose rhetoric from the north , which is angry over the harsher line the south s new president has taken against the country since assuming office last month . <end>\n",
      "이 같은 북측의 긴장감 조성을 위한 발언은 종종 있었다\n",
      "<start> on friday , north korea test fired a barrage of missiles into the sea and warned it would mercilessly wipe out any south korean warships that violate its waters near their disputed sea border . <end>\n",
      "아이의 아빠는 자신의 딸이 의식을 잃지 않도록 침착하게 말을 걸었다\n",
      "<start> her mother was kept away from the well because of rescuers feared she would become emotional and upset the child , but her father was constantly talking to her to keep her conscious , authorities said . <end>\n",
      "다이어트에 성공 목표 체중을 달성하면 100빔보 달러를 받게 된다\n",
      "<start> users are given missions , including securing plastic surgery at the game s clinic to give their dolls bigger breasts , and they have to keep her at her target weight with diet pills , which cost bimbo dollars . <end>\n",
      "생크는 8년 전 교통사고로 뇌 손상을 입어 단기기억을 잃었다\n",
      "<start> shank suffered severe brain damage after a traffic accident nearly eight years ago that robbed her of much of her short term memory and left her in a wheelchair and living in a nursing home . <end>\n",
      "그는 또 이번 사례만큼은 예외로 인정할 수도 있다고 덧붙였다\n",
      "<start> we wish it could be more flexible in mrs . shank s case since her circumstances are clearly extraordinary , but this is done out of fairness to all associates who contribute to , and benefit from , the plan . <end>\n",
      "무샤라프 대통령은 파키스탄 독립기념일을 맞아 치러진 사열에 참석했다\n",
      "<start> my brothers and sisters , musharraf said , addressing a crowd at a military ceremony celebrating pakistan s national day , you are seeing that a new era of real democracy has begun in pakistan . <end>\n",
      "달라이라마는 티베트 분리독립 시위는 자신과 무관하다고 밝힌 바 있다\n",
      "<start> the beijing olympics are eagerly awaited by the people of the whole world , but the dalai clique is scheming to take the beijing olympics hostage to force the chinese government to make concessions to tibet independence , the people s daily said . <end>\n",
      "현재 법원의 판결 없이 그의 영화를 막을 방법은 없는 상태다\n",
      "<start> a dutch court will hear a complaint lodged by muslim groups seeking to bar wilders from releasing the film march , but there is no legal barrier preventing wilders from releasing his film before then . <end>\n",
      "그는 남편 크리스토퍼 게스트와 결혼해 두 아이가 있는 어머니이다\n",
      "<start> curtis , who is married to christopher guest and the mother of two children , says she reached a turning point two years ago when a tabloid published a photo of her and gave her weight as pounds . i was like , how dare you i m not pounds ! <end>\n",
      "그는 이번 폭발로 고농도 유황 이산화물과 이산화탄소가 분출됐다고 말했다\n",
      "<start> the explosion followed three months of increased activity in the crater , which has been releasing high levels of sulfur dioxide and carbon dioxide , said observatory geochemist jeff sutton . <end>\n",
      "미국이 벌써 경기후퇴에 들어섰다고 판단하는 전문가도 상당수 있다\n",
      "<start> it is the sixth cut in the past six months and comes at a time when the fed is trying to keep the u . s . economy from slipping into recession although many think it s already entered one . <end>\n",
      "조사단은 발굴된 유적지가 군사적 종교적인 목적으로 건축됐다고 밝혔다\n",
      "<start> the temple on the periphery of the sacsayhuaman fortress casts added light on pre inca cultures of peru , showing that the site had religious as well as military aims , according to researchers . <end>\n",
      "테러지원국 명단에는 북한 이란 시리아 수단과 쿠바가 들어있다\n",
      "<start> connie mack and ileana ros lehtinen , both florida republicans , have called for the state department to add venezuela to its list of terror sponsors , which includes north korea , iran , syria , sudan and cuba . <end>\n",
      "티벳인들은 75km를 주파한 출발 3일 만에 경찰의 저지를 받았다\n",
      "<start> the protesters , who planned to reach the border for a confrontation with chinese authorities just before the beijing olympics begins in august , were only three days and km into the march when police stopped the march . <end>\n",
      "팰런 사령관은 미군 중부사령부에 부임한지 1년 만에 사임했다\n",
      "<start> william fallon resigned tuesday as chief of u . s . forces in the middle east and central asia after just a year in the post , citing what he called an inaccurate perception that he is at odds with the bush administration over iran . <end>\n",
      "이전 카제미의 남자친구는 이란에서 그와의 관계를 밝힌 후 추방됐다\n",
      "<start> mehdi kazemi , , had originally sought asylum in britain , where he was taking classes on a student visa , because , he said , his boyfriend had been executed in iran after saying he and kazemi had been in a gay relationship . <end>\n",
      "그러나 카제미는 법원이 요구한 그 같은 근거를 제시하지 못했다\n",
      "<start> tempelman said that in order for the dutch court to consider kazemi s asylum application , he needed to prove that britain did not handle his asylum application properly , but he wasn t able to prove any wrongdoing on the part of the british government . <end>\n",
      "지난 13년간 1위를 지켜온 빌 게이츠는 3위로 내려앉았다\n",
      "<start> cnn forbes list of the world s wealthy has named warren buffett the richest person on the planet , surpassing his friend and philanthropic partner bill gates who had held the title for consecutive years . <end>\n",
      "일부 전문가들은 고유가가 미국의 경기후퇴를 촉진하고 있다고 주장했다\n",
      "<start> white house spokesman dana perino said wednesday that president bush was disappointed opec didn t do more to rein in prices , which some say are pushing the u . s . economy into recession . <end>\n",
      "오바마는 당시 이라크전을 반대하는 성명을 발표한 바 있다\n",
      "<start> senator obama s campaign is about one speech he made in , she said , referring to the illinois democrat s speech in which he announced his opposition to the then pending invasion of iraq . <end>\n",
      "올드노스 교회에 LED 조명 설치는 순탄치 않았다\n",
      "<start> the strips of leds inside church s sanctuary replacements for old fashioned incandescents may seem an anachronism at the most visited historic site in a city with a rich revolutionary war legacy . <end>\n",
      "코소보 의회는 지난 17일 세르비아로부터의 독립을 선언했다\n",
      "<start> kosovo s parliament declared the country s independence from serbia on february , setting up a confrontation with serbia and its longtime ally russia , which demanded that the move be declared null and void . <end>\n",
      "케냐의 의회는 2주 이내에 헌법 개정 논의를 의한 회의를 소집해야 한다\n",
      "<start> the agreement calls for an act of parliament within two weeks that would change the country s constitution , creating the position of prime minister to coordinate and supervise the government and its ministries . <end>\n",
      "영상은 교내에 위치한 리츠 기숙사에서 촬영 됐다\n",
      "<start> in the video , white male students at reitz residence are seen encouraging at least three black female housekeepers to participate in what the students call the reitz fear factor , an apparent reference to the television show in which contestants eat live worms or compete in other feats . <end>\n",
      "반면 클린턴이 매케인을 꺾을 것이라고 예측한 응답자는 28에 불과했다\n",
      "<start> when democrats were asked about the general election , the new york times cbs news poll showed obama had the best chance of beating sen . john mccain percent to clinton s percent . and it s not just democrats . <end>\n",
      "최근 브라질과 파라과이에 황열병이 확산되며 적어도 21명이 사망했다\n",
      "<start> buenos aires , argentina cnn argentinians planning to travel to the northern part of the country , brazil and paraguay were lining up for vaccinations tuesday , because of a yellow fever breakout that has killed at least people in the region . <end>\n",
      "매케인은 선거결과가 발표된 뒤 허커비와 짧은 인사를 나눴다\n",
      "<start> mccain saluted huckabee after the results came in but turned his campaign toward the general election , saying he would offer a better understanding of the challenges we face than either of the democratic front runners . <end>\n",
      "베스터가르트는 당시 폭탄 모양의 터번을 두른 마호멧을 만화로 그렸다\n",
      "<start> not wanting to take any undue risks the intelligence service has decided to intervene at a very early stage in order to interrupt the planning and the actual assassination , the statement by jakob scharf , the agency s director general , said . <end>\n",
      "에드워즈는 30일 루이지애나주 뉴올리언스에서 후보 사퇴를 발표했다\n",
      "<start> mike gravel , the other democratic presidential candidate still in the race , was not invited to participate in the debate because he did not meet certain criteria , including support in national polls . <end>\n",
      "BMW는 올해 매출이 2007년보다 더 오를 것으로 전망했다\n",
      "<start> automaker bmw said wednesday sales soared more than percent as buyers clamored for its mix of bmw sedans , sporty mini and luxury rolls royce cars and said it was on track for higher sales this year . <end>\n",
      "태국 의회는 군부 쿠데타 이후 16개월 만인 지난 21일 개원했다\n",
      "<start> the return of parliamentary rule after months of military rule follows elections in december in which the people power party ppp , the party of deposed thai leader thaksin shinawatra , won nearly half the seats in the lower house . <end>\n",
      "레프코위츠는 북한 외 에 6자회담 관련국인 중국과 한국 정부도 비난했다\n",
      "<start> he criticized china and south korea u . s . partners in the talks along with russia and north korea for not doing enough to push pyongyang to abandon its nuclear program because of their own bilateral relationships with the north . <end>\n",
      "네바다주는 많은 시간 동안 대선후보 선출에 참여하지 못했다\n",
      "<start> for years , the region was excluded from playing a significant part in nominating presidential candidates , but senate majority leader harry reid used his clout to move up his state s caucuses , increasing nevada s profile on the primary calendar . <end>\n",
      "이들 부부는 지난해 5월 포르투갈에 휴가 중 딸을 잃어버렸다\n",
      "<start> gallagher said program maker darlow smithson owned by img had held a preliminary meeting with representatives of gerry and kate mccann , whose daughter went missing in may last year from the family s holiday apartment in portugal . <end>\n",
      "사르코지는 부르니와의 관계를 묻는 질문에 시종 웃음을 보였다\n",
      "<start> the president laughed at being asked about his relationship at all , noting the french media rarely touched on the private lives of his predecessors , while his love life is front page news . <end>\n",
      "그는 국가 통합을 위한 정부를 구성할 준비가 됐다고 전했다\n",
      "<start> molo , kenya cnn kibaki on saturday appeared to offer a way out of the stalemate with the opposition over the disputed elections , announcing he was ready to form a government of national unity . <end>\n",
      "타워는 위의 부속품과 신상품의 출시가 벌써부터 기다려진다고 덧붙였다\n",
      "<start> i think every kid out there probably had the wii on his list for the holidays and they didn t need gifts . com to tell them that , but where we come in is in suggesting a really cool accessory that the kid s going to lose his mind over . <end>\n",
      "항공사들과 서비스 공급업체들이 기내 인터넷 접속 서비스에 나섰다\n",
      "<start> airlines and service providers seeking to deliver high speed internet services to passengers say they ve learned from boeing co . s decision to pull the plug on its ambitions to outfit its planes with a similar service . <end>\n",
      "부토는 파키스탄의 전 대통령과 총리를 지낸 줄피카르 알리 부토의 딸이다\n",
      "<start> bhutto was the daughter of zulfikar ali bhutto , former president and prime minister of pakistan , who was hanged in for the murder of a political opponent two years after he was ousted as prime minister in a military coup . <end>\n",
      "텔아비브 공항에는 이들 40명을 맞이하려는 가족 및 기자들로 붐볐다\n",
      "<start> greeted by joyous relatives and a crowd of reporters , about iranian jews landed in israel on tuesday , leaving behind their lives in the islamic republic for new homes in the jewish state . <end>\n",
      "양팀의 치열한 승부는 전반 36분 갈렸다\n",
      "<start> at the other end , real s iker casillas once again proved his credentials as one of the best goal keepers in europe when he produced two wonderful reaction saves in rapid succession to thwart ronaldinho and <end>\n",
      "이 지역은 새크라멘토 북부 도시로 주민 2만7000명이 살고 있다\n",
      "<start> the four were reported missing monday night by dominguez s former wife and the children s mother , lisa sams , according to police in paradise , california , a town of , people north of sacramento . <end>\n",
      "구조단원들은 생존자들을 찾기 위해 건물 잔해에서 수색작업을 벌이고 있다\n",
      "<start> algiers , algeria cnn rescuers are sifting through the rubble of the united nations headquarters in algiers hoping to find survivors after a powerful bomb ripped off the building s facade and leveled nearby u . n . offices . <end>\n",
      "피해자 대다수는 밴쿠버의 매춘업 종사자나 마약 중독자 여성들이었다\n",
      "<start> the verdict ended the trial of robert willie pickton on the first six of murder charges in the deaths of women , most of them prostitutes and drug addicts from a seedy vancouver neighborhood . <end>\n",
      "베를린 동물원은 스타 북극곰의 생일축하를 위해 모든 운영을 중단했다\n",
      "<start> the berlin zoo pulled out all the stops to fete its star attraction , who has gone from a fluffy white powderpuff of a cub to a full grown polar bear with a cheeky curiosity and a penchant for muddying his coat by rolling in the dirt . <end>\n",
      "이밖에 자유민주당이 95 친푸틴 성향의 정의당은 75를 얻었다\n",
      "<start> the opposition communist party received . percent of the vote , and two other parties , liberal democratic party and the pro putin fair russian party , received . and . percent of the vote . <end>\n",
      "그러나 선박이 물에 잠기기 전에 91명 탑승객 전원이 탈출했다\n",
      "<start> but by then the ship s entire crew , and passengers from more than a dozen nations including britons , dutch , americans , canadians and australians had been evacuated , according to the tour operator . <end>\n",
      "우간다 북부 지역은 20년간 반군 단체의 폭동에 시달려 왔다\n",
      "<start> kampala , uganda cnn britain s queen elizabeth ii on thursday commended the ugandan government for its efforts to end devastating conflict in northern uganda , where a rebel group has waged a brutal year insurgency . <end>\n",
      "중국 경기가 호황을 맞으며 중국 국민들은 휴가에 관광을 많이 가고 있다\n",
      "<start> beijing , china ap stuck in a crowd of about other tourists , zhong jian and her friends waited for an hour to buy tickets for a boat cruise down the scenic li river before giving up . their problem <end>\n",
      "라크시미는 1주 전 팔다리 제거 수술을 성공적으로 마쳤다\n",
      "<start> bangalore , india cnn two year old lakshmi tatma , an indian toddler born with four arms and four legs , made her first public appearance tuesday , a week after surgeons in india successfully removed her additional limbs . <end>\n",
      "어네스트는 미중앙정보부CIA에서 36년간 일했다\n",
      "<start> today intelligence is the first line of defense against ideology driven terrorism , nuclear proliferation , and other threats to our country , explains peter earnest , executive director of the international spy museum , who spent years at the cia . <end>\n",
      "피해자인 메레디스 케처는 지난 2일 죽은 채 발견됐다\n",
      "<start> knox , , raffaele sollecito , , and diya patrick lumumba , , have been detained since tuesday as suspects in the sexual assault and killing of meredith kercher , , who was found dead november . <end>\n",
      "이날 벨이 기네스 기록을 세운 것을 전세계 20만명이 축하할 것이다\n",
      "<start> bell was to be revealed as america s tallest man on abc s good morning america on thursday , when , people worldwide were expected to celebrate guinness world records day by attempting to set records of their own . <end>\n",
      "법원을 취재하던 방송국 기자는 카메라를 압수당한 뒤 경찰서로 연행됐다\n",
      "<start> police on monday blocked roads leading to courthouses in major cities and in at least one instance a television news crew was detained and their cameras confiscated as they tried to cover what was happening outside of one court . <end>\n",
      "부시 행정부는 미얀마 군정이 행한 이러한 행동에 대해 비난 했다\n",
      "<start> cnn the united nations said friday it was disappointed that myanmar s government had expelled a top u . n . diplomat , and the bush administration condemned the action by the ruling military junta in the secretive asian country . <end>\n",
      "베나지르 부토 전 총리가 28일현지시간 고향인 라르카나를 방문했다\n",
      "<start> former prime minister benazir bhutto visited the families of people killed in a suicide bombing attempt on her life , touring a poor neighborhood sunday in a visit kept secret until the last minute to protect her from another assassination bid . <end>\n",
      "그러나 세계 51개 항공사로부터 710대를 수주 받은 상태다\n",
      "<start> while airbus is likely to be buoyed by delays to boeing s rival creation a jet promising faster , more environmentally friendly flights orders for the dreamliner aircraft are now in excess of from customers . <end>\n",
      "현재 터키 남동부 국경지역에는 터키군 6만명이 배치돼 있다\n",
      "<start> with , turkish troops massing close to the country s south eastern frontier , prime minister recep tayyip erdogan s government faces growing public pressure to take action following a weekend pkk ambush which left at least turkish soldiers dead and eight more missing . <end>\n",
      "더트의 아버지는 힌두교 신자이며 어머니는 이슬람 신자이다\n",
      "<start> he maintains he knew nothing about the bomb plot and that he asked for the guns to protect his family his mother was muslim , and his father , hindu after receiving threats during sectarian riots in mumbai . <end>\n",
      "이라크 북부 국경지역에는 터키인 6만명이 거주하고 있다\n",
      "<start> turkey has about , on iraq s northern frontier , and prime minister recep tayyip erdogan says he will ask parliament this week to authorize a military incursion a move u . s . officials fear could undermine the stability of iraq s american backed government . <end>\n",
      "이들은 각각 59표와 18표를 얻었다고 마미나 대변인이 밝혔다\n",
      "<start> kasparov was followed in sunday s voting by sergei gulyayev , a former member of st . petersburg s legislative assembly , who received votes , and former prime minister mikhail kasyanov with , mamina said . <end>\n",
      "이후 그는 다른 비행기로 옮겨 약 3시께 사우디 제다로 추방됐다\n",
      "<start> he was placed on another commercial airliner a short time later for a flight to the saudi arabian city of jeddah , where he arrived at approximately p . m . local time gmt , pakistani government officials and a sharif representative told cnn . <end>\n",
      "짧은 여행을 즐길 수 있는 옵션이 너무나 다양하기 때문이다\n",
      "<start> they come to surfers not only for the hopping nightlife , waves and beaches which can be found in a multitude of locations along australia s coast but also because of the avalanche of excursion options . <end>\n",
      "관계자는 그가 현재 의사의 치료를 받으며 집에서 요양하고 있다고 말했다\n",
      "<start> the year old was at home in modena being cared for by doctors from the local hospital , where he underwent two weeks of tests and treatment in august , the news agency said , without citing any sources . <end>\n",
      "해병대 관계자는 약 20명이 건설 현장에서 일을 하고 있다고 전했다\n",
      "<start> after commanders greeted the president on the tarmac , bush posed for pictures before being driven in a motorcade to a concrete building on base where a marine gave him a short briefing with about other troops in fatigues . how is morale ? asked bush . <end>\n",
      "비너스 세레나 윌리엄스 자매가 나란히 US 오픈 8강 진출에 성공했다\n",
      "<start> when you hear about serena and venus williams overpowering opponents , as happened sunday at the u . s . open to two recent grand slam finalists , it s easy to forget that the sisters are , indeed , individuals . <end>\n",
      "진런칭 재정부장이 개인적인 이유로 사임했다고 30일 중국 정부가 밝혔다\n",
      "<start> beijing , china cnn chinese finance minister jin renqing has resigned for personal reasons , the government said thursday , amid concerns of surging inflation and just weeks ahead of an expected reshuffling of top government positions . <end>\n",
      "이후 전쟁터는 슬로베니아 크로아티아 보스니아 코소보로 확대됐다\n",
      "<start> the bloody breakup of former yugoslavia the worst carnage in europe since world war ii started when the serb led yugoslav army tried to prevent separatists in slovenia , croatia , bosnia and kosovo from seceding from the former federation . <end>\n",
      "그는 군중을 대피시켜 희생을 최소화 한 공로로 영웅 대접을 받았다\n",
      "<start> initially hailed a hero for moving people away , he was later cast in a different light when the fbi began investigating whether he had set off the bomb to give himself an opportunity to be a hero . <end>\n",
      "3주전 붕괴로 6명의 광부가 매몰된 탄광에 또 하나의 구멍이 뚫렸다\n",
      "<start> cnn another bore hole will be drilled in the utah mine where six miners were trapped nearly three weeks ago , said jack kuzar of the federal mine health and safety administration on sunday . <end>\n",
      "호수의 지형은 불규칙해 스릴을 만끽하며 보트를 탈 수 있다\n",
      "<start> roy disney , of disney s boat rentals , sets us up at the boat launch in lakeport , instructing us to head east first to the narrows , where the north arm of the lake connects to the south arm , before the lake gets choppy . <end>\n",
      "그는 바이지가 멸종동물로 분류됐지만 조사를 계속 해 나갈 뜻을 밝혔다\n",
      "<start> during the six week search , the team carried out both visual and acoustic surveys and used two boats to twice cover the dolphin s , kilometer range stretching from the city of yichang just downstream from the three gorges dam to shanghai . <end>\n",
      "첫 골은 패트릭 에브라의 패스를 받은 라이언 긱스로부터 나왔다\n",
      "<start> his perfectly weighted pass sent patrice evra clear down the left and the french defender crossed towards giggs , who showed great awareness to lift a first time shot into the top corner . <end>\n",
      "브라운은 이에앞서 머피를 상대로 딸에 대한 양육비 청구소송을 제기했다\n",
      "<start> a brief statement issued by murphy s publicist said the year old star of dreamgirls and the beverly hills cop movies always has and will continue to honor his responsibilities as a father . <end>\n",
      "콩고에 주둔 중인 유엔평화유지군은 규모가 가장 크다\n",
      "<start> the peacekeeping force , the united nations biggest , is in congo to help the huge , chaotic country recover from a five year war that began in , since then an estimated million people have been killed by violence or related hunger and disease . <end>\n",
      "아시아 주식시장이 30일 미국 증시 폭락의 영향으로 일제히 하락했다\n",
      "<start> asian stock markets extended their decline on monday following further losses on wall street , as investors fretted about the health of the u . s . economy amid worries about the fallout from the subprime mortgage market . <end>\n",
      "보스턴시에서 페리를 이용할 경우 10분이면 이곳까지 도착할 수 있다\n",
      "<start> easily accessible via a minute ferry ride from the city , it s now advertised as the harbor s jewel and touted as a green park for its solar powered facilities and compost toilet system . <end>\n",
      "게임은 자신들의 몸을 전투기 자동차 헬리콥터 등으로 바꿀 수 있다\n",
      "<start> the game , like the movie , tells of warring robots the autobots good guys and decepticons bad guys trying to find a powerful artifact , the allspark , which is responsible for giving the robots life . <end>\n",
      "그러나 그는 납치단체가 직접적인 교섭을 요구하진 않았다고 전했다\n",
      "<start> kabul , afghanistan cnn afghanistan s taliban movement has extended the deadline for the execution of korean hostages to allow the south korean government to establish direct talks with the group , a taliban spokesman said on monday . <end>\n",
      "지난 주말 후진타오 국가주석이 방문했던 충칭에서도 수십명이 숨졌다\n",
      "<start> dozens have died in the central chongqing region which president hu jintao visited at the weekend , urging the local government to ensure victims had clothing , food , shelter , power and drinking water . <end>\n",
      "터키의 집권당인 AK당이 22일현지시간 실시된 총선에서 승리했다\n",
      "<start> turkey s ruling ak party won a resounding election victory sunday , giving the pro business , islamist rooted party a mandate for reform but risking fresh tensions with the secular elite . <end>\n",
      "백악관은 그러나 만약 그렇다면 대통령령의 지침대로 처신하라고 전했다\n",
      "<start> the white house declined to say whether the cia currently has a detention and interrogation program , but said that if it did it must adhere to the guidelines outlined in the executive order . <end>\n",
      "해리포터 최종편은 행복한 결말을 담고 있을까\n",
      "<start> will it be a happy one in which he vanquishes the evil lord voldemort aka you know who and finishes his years at hogwarts in the embrace of his best friends , ron weasley and hermione granger ? <end>\n",
      "러시아 정부의 이번 결정은 주변 지역의 군비 경쟁을 이끌 것으로 보인다\n",
      "<start> putin has in the past threatened to freeze his country s compliance with the treaty , accusing the united states and its nato partners of undermining regional stability with u . s . plans for a missile defense system in former soviet bloc countries in eastern europe <end>\n",
      "이와 관련 제임스 아파투라이 NATO 대변인은 러시아의 결정을 비난했다\n",
      "<start> but russian military analysts have said the possibility of suspending participation in the treaty was a symbolic rising of ante in the missile shield showdown more than a sign of impending military escalation . <end>\n",
      "북한이 영변 핵원자로의 가동중단을 공식 선언했다\n",
      "<start> north korea is ready to start dismantling its nuclear programs following the shutdown its sole operating reactor , a north korean diplomat said sunday , as long as the united states lifts all sanctions against the communist nation . <end>\n",
      "10명으로 이뤄진 IAEA 검증 조사단은 14일 북한에 도착했다\n",
      "<start> a member team arrived saturday in north korea to make sure the reactor at yongbyon was switched off the first step by the north to scale back its weapons program since the standoff began . <end>\n",
      "매물 조건은 고성古城의 역사성과 자산 가치를 존중하는 것이다\n",
      "<start> an heir of romania s former royal family put dracula s castle in transylvania up for sale monday , hoping to secure a buyer who will respect the property and its history , a u . s . based investment company said . <end>\n",
      "본즈는 자이언츠 소속으로 올스타전에 출전하는 유일한 선수가 됐다\n",
      "<start> five home runs from tying hank aaron s record of , bonds is beloved in san francisco but booed in most other cities following years of suspicion that he used performance enhancing drugs . <end>\n",
      "경찰은 테러발생 지역에 설치된 폐회로 TV에 찍힌 영상을 검색 중이다\n",
      "<start> investigators continue to sift through thousands of hours of closed circuit television footage taken outside glasgow s airport and near the locations where the car bombs were found in london . <end>\n",
      "당뇨병과 간암을 앓은 듯한 비만 미라 한구가 최근 발견됐다\n",
      "<start> the mummy of an obese woman , who likely suffered from diabetes and liver cancer , has been identified as that of queen hatshepsut , egypt s most powerful female pharoah , egyptian archaeologists said wednesday . <end>\n",
      "PwC는 현재 러시아 중재법원에서 이 사실을 극구 부인하고 있다\n",
      "<start> separately , pwc is in the midst of a court battle in russia against tax authorities who allege it knowingly aided yukos in what has been called a massive tax evasion scheme , according to the journal report . <end>\n",
      "그라츠 시의회와 슈워제네거의 마찰은 2005년부터 시작됐다\n",
      "<start> the spat between schwarzenegger and the city began in , when graz authorities stripped the governor s name from the city s soccer stadium after he refused to block the execution of a convicted california gang founder . <end>\n",
      "1400만 인구가 사는 인도 수도 뉴델리 주민 대부분은 힌두교도들이다\n",
      "<start> hindu scholars say there is nothing in the scriptures to oppose the cremation of babies , yet most parents still cling to a tradition which has grown up over centuries . city of the future ? <end>\n",
      "군 당국은 19일부터 3일간 수제폭탄 21개를 제거했으며 50970\n",
      "<start> the military said troops destroyed homemade bombs and nine booby trapped structures , including an empty school complex , during the first three days of the operation , which began tuesday . <end>\n",
      "사르코지는 침체중이던 프랑스 정치에 개혁을 주장하며 이번 총선에 임했다\n",
      "<start> sarkozy , aiming to push through his reform driven renaissance of a morose france , had looked set to win a powerful majority as the french voted in sunday s runoff elections for parliament . <end>\n",
      "다른 곳에서는 수천명이 이번 폭파사건에 대한 항의시위를 벌였다\n",
      "<start> elsewhere , thousands across iraq staged angry but peaceful demonstrations protesting the second bombing at the shrine , which also was struck and badly damaged in a february attack a major event that spawned widespread sectarian violence and population displacement in the country . <end>\n",
      "이날 알바니아 국민들은 부시 대통령의 방문을 대대적으로 환영했다\n",
      "<start> people waiting on the sidewalks on sunday gave bush a rapturous welcome , shaking hands with him , grabbing him by the arms and wrists , reaching out to embrace him and even ruffling his hair . <end>\n",
      "존 레논은 자신이 거주하던 뉴욕의 한 아파트 부근에서 총격으로 사망했다\n",
      "<start> london , england john lennon was shot and killed outside his new york city apartment after deciding he wanted to return home to see his son rather than go out for dinner , yoko ono said in an interview broadcast sunday . <end>\n",
      "대회는 리버풀 시의회에서 주최하며 모든 경기는 컬더스톤 파크에서 열린다\n",
      "<start> borg , who is still expected to attend the event as a spectator , was replaced by former wimbledon champion richard krajicek in the tournament , which is backed by liverpool city council and held in calderstones park . <end>\n",
      "그들은 포뮬러에 쏟아붓는 돈으로 태양열 발전을 위해 투자 하는게 낫다\n",
      "<start> the formula one is a lazy way to get cheap publicity , wrote ng weng hoong in a letter to business times , as the government s money would be better spent promoting the use of solar energy . <end>\n",
      "현재 한쪽 다리가 부러진 4살 소년은 입원 치료를 받고 있다\n",
      "<start> a year old boy with a broken leg was the only person still hospitalized a day after a woman s car sent people and strollers flying , leaving debris and injured bodies strewn in her wake . <end>\n",
      "울포위츠는 여자친구 사하 리자의 연봉에 관여한 이유로 사퇴했다\n",
      "<start> the controversy over wolfowitz s authorization of a hefty raise for his companion , middle east expert shaha riza , deepened rifts among bank staff already discontented over his anti corruption agenda and prompted sharp criticism from shareholder countries . <end>\n",
      "헤즈볼라측은 지난 여름 이스라엘과의 교전 이후 세력을 넓혀가고 있다\n",
      "<start> however , siniora and his anti syrian colleagues maintain a weak grip on power and face a serious challenge from politicians from the pro syrian hezbollah movement , who were emboldened after last summer s war with israel . <end>\n",
      "매년 코끼리 2만마리가 여전히 밀렵되고 있는 것으로 추산되고 있다\n",
      "<start> but a new report by wildlife monitoring network traffic warns that large scale ivory smuggling to asian countries including china and japan is threatening to undermine conservation efforts , with around , elephants still estimated to be poached every year . <end>\n",
      "따라서 정부는 세금을 공공 프로그램에 이용할 수 있다\n",
      "<start> lower wholesale prices , which would mean less profits for oil firms , combined with a higher tax could transfer money from big oil to the government , which could then use the cash for public programs . <end>\n",
      "그는 지난 2006 책 발간 등으로 50만 달러 이상을 벌었다\n",
      "<start> sen . barack obama s report showed a surge of interest in his writings as he drew closer to a presidential bid , earning more than a half million dollars in in royalties for one book and an advance for another . <end>\n",
      "앵커리지에 있는 월마트 직원들은 매일 시골에 보내질 물건들을 포장한다\n",
      "<start> the big box stores back rooms provide a glimpse into the buying habits of rural shoppers from barrow on the arctic ocean , to the aleutian island fishing port of dutch harbor , to dozens of villages in the vast interior . <end>\n",
      "스페인에서 경매로 집을 구매한 한 남성에게 깜짝 놀랄 일이 벌어졌다\n",
      "<start> a man checking for fire damage at a home he bought in a foreclosure auction walked into the living room and found the former owner s mummified body sitting on the couch , spanish police said tuesday . <end>\n",
      "마들렌 맥칸은 부모가 인근 레스토랑에 간 사이 호텔방에서 사라졌다\n",
      "<start> madeleine mccann vanished after her parents left her , and her brother and sister , both aged , alone while they went to a nearby restaurant within their hotel complex at praia da luz , a vacation resort in portugal s algarve region . <end>\n",
      "관객들은 이제 그가 깨닫게 된 것을 알아내는 일만 남았다\n",
      "<start> at the end of the hour , tony , who by then had bolted for a private getaway to las vegas , was watching the sun come up across the desert while , in a peyote haze , he bellowed out , i get it ! <end>\n",
      "콜드웰은 13일 수색을 위해 최소 미군 4000명이 동원됐다고 밝혔다\n",
      "<start> but what i can promise you , the american people , and particularly the families of these missing men , is that we are doing everything we can to find these brave and courageous soldiers . <end>\n",
      "이로 인해 터키의 정치적 혼란은 더욱 짙어졌다\n",
      "<start> but the political turmoil exposed a deepening rift in turkey , whose population of million people is mostly muslim , but endowed with a secular legacy designed to separate state and religion . <end>\n",
      "이웃국인 호주와 뉴질랜드는 그의 승리를 축하했다\n",
      "<start> neighboring australia and new zealand , which have peacekeeping troops in the troubled country , congratulated the year old on his victory in the poll , which observers have said was peaceful and fair . <end>\n",
      "이 영화는 만화를 원작으로 한 올 시즌 첫 블록버스터 영화이다\n",
      "<start> this is the first blockbuster of the season and in keeping with that perennial comic book motif the duality of good and evil spider man represents the best and worst of the series , as well as the strengths and weaknesses of hollywood s high stakes franchise fixation . the blockbuster ethos always demands , more ! <end>\n",
      "이에 대해 워싱턴포스트 문화비평가 헨리 알렌은 개성없음을 비판했다\n",
      "<start> washington post culture critic henry allen was not amused , complaining that the portrait of the monarch sitting in the white drawing room at buckingham palace had all the personality of a marble bust of george washington . <end>\n",
      "당시 피렌체는 군사적 노력보다 문화 발전에 더 많은 돈을 소비했다\n",
      "<start> born in , he won a competition to create the north doors of the baptistery at a time when radke says florence was spending more money on its cultural expansion than its military endeavors . <end>\n",
      "디킨즈 월드는 진행 공사중이며 다음달 25일 개장될 예정이다\n",
      "<start> at the moment , dickens world is a work in progress . a planned opening this week was postponed at the last minute until may due to a glitch with the d animatronic theater show about dickens life and work . <end>\n",
      "감시자들과 반대파는 그러나 이번 선거가 폭력을 통해 조작됐다고 주장했다\n",
      "<start> the observers and opposition politicians said saturday s vote for the first handover of power from one civilian leader to another in africa s most populous nation and top oil producer was manipulated through violence and rigging . <end>\n",
      "칠레 남단 피오르드에서 강진이 발생 10명이 사망하거나 실종됐다\n",
      "<start> rescuers found the bodies sunday of three people who were swept out to sea by huge waves triggered by a powerful earthquake that sent avalanches crashing into a fjord in southern chile . seven others were missing . <end>\n",
      "대학측은 또 남은 대학 미식축구 일정도 모두 취소됐다고 밝혔다\n",
      "<start> the official did not provide details about the writings , which first came to the attention of faculty in the english department , but said they were passed on to the department chairwoman and university administrators . <end>\n",
      "부상자 병원이송 모두 3발이상 맞아\n",
      "<start> what went on during that incident certainly caused tremendous chaos and panic in norris hall , flaherty said , describing how victims were found in four classrooms and in the stairwell of the school s engineering science and mechanics building . <end>\n",
      "이 회의에는 조지 W 부시 미 대통령도 참석할 계획이다\n",
      "<start> before monday , the deadliest mass shooting in the united states occurred in , when george hennard drove a pickup truck into a killeen , texas , cafeteria and fatally shot people , before shooting and killing himself . <end>\n",
      "미 재무부는 마카오가 북한 동결자금을 해제할 준비가 됐다고 전했다\n",
      "<start> the u . s . treasury department said authorities in the chinese administered region of macau were prepared to unblock frozen funds that north korea says are the reason it has refused to move forward on a feb . disarmament agreement . <end>\n",
      "그룹 Good Charlotte의 보컬 조엘 매덴과의 관계를 노래랬다\n",
      "<start> several of the songs are about her relationship with her now ex boyfriend , good charlotte singer joel madden , but she denies that she slammed his new newest flame , nicole richie , in her tune gypsy woman . <end>\n",
      "또한 그는 이것으로써 이번 사건에 대한 수사를 종결한다고 밝혔다\n",
      "<start> we are convinced , based on extensive review of the evidence , that this case is an accidental overdose with no other criminal element present , tiger said at a news conference announcing smith s autopsy results . <end>\n",
      "비상착륙시 이 여객기에는 승객 60명이 타고 있었다\n",
      "<start> all nippon airways grounded its entire fleet of bombardier planes and the government ordered emergency inspections on tuesday after the front landing gear on one failed to descend , forcing the aircraft to make an emergency landing with people on board . <end>\n",
      "대신 북한은 6자회담 참가국으로부터 5만톤 가량의 중류 지원받게 된다\n",
      "<start> in return , it would receive aid equal to , tons of heavy fuel oil from the other countries participating in the nuclear talks the united states , south korea , russia , china and japan . <end>\n",
      "미국은 한반도 분단 이후 북한과 외교관계가 단절됐다\n",
      "<start> the united states has had no diplomatic relations with north korea since the country was created after world war ii , when korea was split into a communist dominated north and a u . s . backed capitalist south . <end>\n",
      "21일 파키스탄인 9명이 북부 파니파트의 병원에 도착했다\n",
      "<start> on wednesday , nine pakistanis arrived at a hospital in the northern town of panipat , a town near where the fire took place about kilometers miles north of new delhi , but failed to identify any of charred bodies being kept in the morgue , said mohinder singh , the superintendent of police . <end>\n",
      "당국은 3년의 삼림 벌채가 감소한 이후 다시 급증하고 있음을 인정했다\n",
      "<start> the amazon is being deforested more than three times as fast as last year , brazilian officials said monday , acknowledging a sharp reversal after three years of declines in the deforestation rate . <end>\n",
      "당국은 3년의 삼림 벌채가 감소한 이후 다시 급증하고 있음을 인정했다\n",
      "<start> the amazon is being deforested more than three times as fast as last year , brazilian officials said monday , acknowledging a sharp reversal after three years of declines in the deforestation rate . <end>\n",
      "크루그먼 교수는 뉴욕타임즈에 부시 미 행정부와 공화당을 호되게 비판했다\n",
      "<start> krugman has been a harsh critic of the bush administration and the republican party in the new york times , where he writes a regular column and has a blog called conscience of a liberal . <end>\n",
      "크루그먼 교수는 뉴욕타임즈에 부시 미 행정부와 공화당을 호되게 비판했다\n",
      "<start> krugman has been a harsh critic of the bush administration and the republican party in the new york times , where he writes a regular column and has a blog called conscience of a liberal . <end>\n",
      "델과 애플 등 주요 PC 제조업체 모두 당시 리콜로 피해를 입었다\n",
      "<start> this also pales in comparison to the recall of nearly million of a different model of sony batteries in and , which affected almost every major pc manufacturer , including dell inc . and apple inc . <end>\n",
      "델과 애플 등 주요 PC 제조업체 모두 당시 리콜로 피해를 입었다\n",
      "<start> this also pales in comparison to the recall of nearly million of a different model of sony batteries in and , which affected almost every major pc manufacturer , including dell inc . and apple inc . <end>\n",
      "덤햄은 당시 엉덩이뼈가 부러진 후 건강이 크게 악화됐었다\n",
      "<start> the democratic presidential candidate left the campaign trail on october and flew to honolulu , hawaii , to spend the day with dunham , whose health deteriorated after she suffered a broken hip . <end>\n",
      "덤햄은 당시 엉덩이뼈가 부러진 후 건강이 크게 악화됐었다\n",
      "<start> the democratic presidential candidate left the campaign trail on october and flew to honolulu , hawaii , to spend the day with dunham , whose health deteriorated after she suffered a broken hip . <end>\n",
      "그는 티셔츠 앞에 이력서를 뒤에는 자기소개서를 나염 했다\n",
      "<start> about a week ago , after seeing a guy wearing a t shirt that read unemployed , she decided to take the idea a step further and put her resume on the front of her shirt and a cover letter on the back . <end>\n",
      "그는 티셔츠 앞에 이력서를 뒤에는 자기소개서를 나염 했다\n",
      "<start> about a week ago , after seeing a guy wearing a t shirt that read unemployed , she decided to take the idea a step further and put her resume on the front of her shirt and a cover letter on the back . <end>\n",
      "그는 오바마 당선인이 유색인이기 때문에 지지한다고 밝혔다\n",
      "<start> baines appeared cheerful and talkative when the los angeles times interviewed her in november as she cast her vote for barack obama for president , whom she said she supported because he s for the colored people . <end>\n",
      "그는 오바마 당선인이 유색인이기 때문에 지지한다고 밝혔다\n",
      "<start> baines appeared cheerful and talkative when the los angeles times interviewed her in november as she cast her vote for barack obama for president , whom she said she supported because he s for the colored people . <end>\n",
      "오바마는 이 단체의 이사회 회장으로 추대된 적이 있습니다\n",
      "<start> he founded a charity organization in chicago for which obama served as chairman of the board , and ayres hosted a meet the candidate event at which obama first ran for state office in the mid s . <end>\n",
      "quickfix 임시변통 즉효의 응급 처치\n",
      "<start> this inauguration in particular being a momentous one , more and more people would want to be there , and more and more people would want to do something to improve their appearance on a quick fix type of basis . <end>\n",
      "단어장 주한미군 정전 협정이 한반도 평화 유지 200509\n",
      "<start> the top u . s . military officer in south korea reaffirmed yesterday that united states forces korea has no nuclear weapons on the korean peninsula since washington fully supports the inter korean denuclearization accord . <end>\n",
      "저장된 검색어가 없습니다\n",
      "<start> the unceremonious move immediately sent shockwaves through the political arena because the seat of nts head , which is on equal footing with vice minister , is usually not replaced before a cabinet shakeup is completed . <end>\n",
      "parody 풍자적 시문詩文 패러디\n",
      "<start> political parody and satire have vanished across the korean media , as the nation s election watchdog has strengthened monitoring efforts on online personal invective and taken some cases to police . <end>\n",
      "영한사전 약어표  한영사전 약어표\n",
      "<start> citing an official in washington , the report said the u . s . government has begun a review of several north korean accounts at the bda following a recent seoul government intelligence report that said the accounts appear to contain legitimate funds . <end>\n",
      "on the spot 곤경에 처한 다급한\n",
      "<start> two recent outbreaks one involving peanut butter , the other involving tomatoes and hot peppers have put the agency on the spot , so the fda has asked the pentagon , homeland security , agriculture , and the cdc to lend a hand . <end>\n",
      "담당 의료진에따르면 김 전 대통령은 폐렴을 앓고 있다고 한다\n",
      "<start> kim had reportedly been planning to speak out saturday on the nd anniversary of his return to korea after his kidnapping by the national intelligence agency under then dictator park chung hee . <end>\n",
      "정부 북핵 문제에 대해 미국과 견해차      200509\n",
      "<start> kim had reportedly been planning to speak out saturday on the nd anniversary of his return to korea after his kidnapping by the national intelligence agency under then dictator park chung hee . <end>\n",
      "compensation 보상 배상\n",
      "<start> police arrested a year old man tuesday after he confessed to the premeditated arson of namdaemun the year old south gate in central seoul out of anger against the government over a land compensation dispute . <end>\n",
      "funnel cloud 깔때기 모양의 구름토네이도를 형성하는 구름\n",
      "<start> flood warnings and flood advisories all over the northern part of the state , but because the storm system was moving across the state we ve also had tornado watches , and hail sightings and funnel cloud sightings in the southern part of the state . <end>\n",
      "eligible 적격의 적임의 적합한 적임자 유자격자\n",
      "<start> kang met with reporters over lunch yesterday , saying he was looking forward to the day when korea exchange bank s controlling shareholder , lone star funds of the united states , puts the bank on the market again . . <end>\n",
      "한국과 미국은 곧 서울에서 제8차 한미 FTA 협상을 시작하게 된다\n",
      "<start> south korea and the united states have in principle agreed to exclude rice from their free trade agreement negotiations , the korea times quotes an official of the ministry of foreign affairs as saying . <end>\n",
      "검찰에서 삼성전자 상무 이재용 씨\n",
      "<start> lee jay yong , who is , executive vice president of samsung electronics , is likely to be summoned for questioning if the prosecution discovers the source of the funds allegedly used to cbs in . <end>\n",
      "불행히도 아직 바닥이 아닙니다\n",
      "<start> unfortunately , it s not a bottom yet , and you know , as we remind people in chicago , we can get a degree day in the middle of winter , and a thaw in early spring , and still a snow in may . <end>\n",
      "영한사전 약어표  한영사전 약어표\n",
      "<start> the document says , flexible movements by u . s . forces in and out of korea would mean that the government would have to accept american decisions to cut its forces , the possibility of the use of those forces in circumstances involving taiwan and u . s . <end>\n",
      "renegotiation 재협상 재교섭\n",
      "<start> korea s top officials yesterday ruled out the possibility of renegotiating the recently minted free trade agreement with the united states after washington signaled dissatisfaction with labor and environmental issues . <end>\n",
      "영한사전 약어표  한영사전 약어표\n",
      "<start> the forum comes amid heightened concern over the north korean issue in the wake of its missile tests of july th , and the five parties the us , russia , china , south korea and japan have been seeking informal talks . <end>\n",
      "영한사전 약어표  한영사전 약어표\n",
      "<start> our air traffic control and just the general volume at the airports we ll be right back where we were in and and we ll be in the same bad circumstance that we were unless we fix something . <end>\n",
      "마이니치 신문 역시 노대통령의 확고함을 비난했다\n",
      "<start> mainichi shimbun criticized roh for inflexibility , while yomiuri shimbun said , roh has good reason to leave the matter to the world court if he is so self assured about the legitimacy of his country s stand in the dispute . <end>\n",
      "변협 부부강간죄 법제화 반대200509\n",
      "<start> the korean bar association kba has opposed a bill designed to severely punish spouses committing marital rape , claiming that it may accelerate the breakdown of the family if legislated . <end>\n",
      "hypothetical 가설의 가상의 가정에 근거한 상황\n",
      "<start> however hard we try , there is a possibility of a failure in reaching an agreement because of reasons either on our side or the american side , kim told a korea broadcasting system radio interviewer . <end>\n",
      "pose challengers 난관에 봉착하다\n",
      "<start> consumers are not only concerned about what s occurring today , but what s going to happen in the future , and i think that really is going to pose a bit of challengers to retailers for the holiday season . <end>\n",
      "2000년 처음으로 김대중\n",
      "<start> the first and only inter korean summit between kim and north korean leader kim jong il in opened the doors for a flurry of economic , cultural and political reconciliation projects such as the kaesong industrial park in the north korean border town and tourism programs to the north s mount kumgang . <end>\n",
      "correlation 상호 관련 상관관계 상호 작용\n",
      "<start> a seoul court rejected civil suits filed by a group of lung cancer patients who have waged a seven year battle against the nation s tobacco maker , citing a lack of evidence to prove the correlation between smoking and lung cancer . <end>\n",
      "전투교본에서는 제네바 협약에따라 전쟁포로에 대한 고문을 금지하고 있다\n",
      "<start> on a largely party line vote of , the democratic led house approved a measure to require intelligence agents to comply with the army field manual , which bans torture in compliance with the geneva conventions on the treatment of prisoners of war . <end>\n",
      "국어사전\n",
      "<start> the nation s new high speed railroad service , the korea train express ktx , began service on thursday , launching korea into a new era of high speed railway travel , the korea times reports . <end>\n",
      "이는 대학 입학에 영어 실력의 요구가 급상승하고 있기 때문이다\n",
      "<start> korean high school students scored an average on last year s toeic , points higher than the score among university students , largely due to a soaring demand for english proficiency for college admissions . <end>\n",
      "서식환경 서식지\n",
      "<start> the joong ang ilbo reports the high court in busan gave the go ahead yesterday for a tunnel to be built for korea s bullet train , turning down an appeal from environmentalists who said the project would destroy the habitat of rare amphibians . <end>\n",
      "영한사전 약어표  한영사전 약어표\n",
      "<start> washington wants to deploy interceptor rockets in poland and a radar base in the czech republic to counter what it describes as a potential threat from rogue states such as iran and north korea . <end>\n",
      "thaw 눈이 녹다 해빙하다\n",
      "<start> in the morning , the president has meetings with his host , prime minister gordon brown , and the leaders of russia and china , before brown convenes the group of summit , so leaders of the world s biggest economies can grapple with the spreading global recession . <end>\n",
      "영한사전 약어표  한영사전 약어표\n",
      "<start> hyundai the country s largest car firm , and its affiliate kia motors , which is headed by chung s son represent some of south korea s vehicle exports , making it a vital part of the economy . <end>\n",
      "exceptionally 예외적으로 특별히\n",
      "<start> the year old world star is the first korean singer to be named on the publication s almost two decade long annual list of celebrities worldwide who have performed exceptionally in their given fields . <end>\n",
      "영한사전 약어표  한영사전 약어표\n",
      "<start> in a related development , ellen r . sauerbrey , u . s . assistant secretary for the bureau of population , refugees and migration in the state department , will visit thailand next week to discuss the issue of north korean refugees , radio free asia rfa reported . <end>\n",
      "conservative 보수적인 보수주의의\n",
      "<start> presidential candidates on friday headed for south korea s central region , which has traditionally provided a key swing vote , as the campaigns underdogs struggled to challenge the conservative frontrunner , who is extending his lead ahead of the dec . <end>\n",
      "영한사전 약어표  한영사전 약어표\n",
      "<start> and the north korean leader used the occasion to quash speculation that he was suffering from ill health saying south korean media reported that i have diabetes and even heart disease , but the fact is that is not the case at all . <end>\n",
      "노 대통령 한국이 동아시아의 균형자 역할 해야\n",
      "<start> at a graduation ceremony of the korea third military academy on tuesday , roh said korea s new role was of a stabilizer for peace and prosperity not just on the korean peninsula , but in east asia as a whole . <end>\n",
      "캘리포니아에서 일리노이로 이동하여 정치 소식 전합니다\n",
      "<start> from california to illinois politics , the state attorney general says she ll go to the state supreme court to have governor rod blagojevich declared unfit to hold office if he doesn t step down soon on his own . <end>\n",
      "한국 학생의 문제 해결 능력 세계 상위     200508\n",
      "<start> reiss made pointed reference to north korea s failure to respond to a series of initiatives undertaken by the south korean government , which has sought to encourage more moderate behavior from pyeongyang . <end>\n",
      "영한사전 약어표  한영사전 약어표\n",
      "<start> the release news came after reports that a ransom was paid to the taliban . the afghan government paid a large amount of money to the taliban and promised to release eight taliban prisoners in return for the release of eight koreans , japan s kyodo news agency reported . <end>\n",
      "시위는 표현의 자유로써 보장된다\n",
      "<start> protests are guaranteed as an act of freedom , but the united states is strict in enforcing its laws so it s important to stage the protest within those bounds , an embassy official said . <end>\n",
      "미국 북한과 평화 협정 체결 준비      200510\n",
      "<start> among the six north koreans at a luncheon hosted by president roh were kim ki nam , a key member of north korea s workers party and rim tong ok , chief policy maker for the north korean workers party on ties with the south . <end>\n",
      "stipulate 규정하다 명문화하다 합의하다 조건으로써 요구하다\n",
      "<start> seoul will deliver the idea to the united states at the security consultative meeting scm next month in washington d . c . , in hopes of it being stipulated in a roadmap for the wartime control transfer , col . <end>\n",
      "라고 전했다고 대우건설과 외교부는 전했다\n",
      "<start> three korean executives and nine other foreign workers were kidnapped by armed insurgents at a construction site in southern nigeria early thursday in local time , the ministry of foreign affairs and trade announced . <end>\n",
      "deadlock 교착상태 독방 동점 교착 상태가 되다\n",
      "<start> the korea times reports south korea and the united states failed to narrow differences in agriculture , anti dumping measures and other key sectors during the third round of free trade talks that ended in seattle on sep . <end>\n",
      "apologetic 사죄의 변명 변호\n",
      "<start> ban ki moon , minister of foreign affairs and trade , wednesday tried to dodge criticism by a top u . s . lawmaker who accused seoul of taking an apologetic attitude toward communist north korea . <end>\n",
      "북한 핵 시설에 선제 공격 않을 것\n",
      "<start> the korea times reports song min soon , deputy foreign minister and chief south korean delegate to the six party talks on north korea s nuclear arms programs , said that no symptoms have been found to back up recent speculations that the north may test an atomic weapon soon . <end>\n",
      "영한사전 약어표  한영사전 약어표\n",
      "<start> the prosecutors complained about the rejection and went looking for more grounds to add to the warrant application in order to convince the court that shin needs to be jailed ahead of a trial . <end>\n",
      "conservatism 보수주의 constitution 구조 구성\n",
      "<start> conservatism swept the country with the gnp and other conservative groups and independents , whose political orientations are almost identical with the governing party , expected to secure more than seats . <end>\n",
      "대통령이 방금 전 국립과학아카데미에서 행한 연설에서 나온 발언인데요\n",
      "<start> the department of health and human services has declared a public health emergency as a precautionary tool , to insure we have the resources we need at our disposal to respond quickly and effectively . <end>\n",
      "이는 한국인들이 고물가로 상당한 어려움을 겪고 있다는 것을 보여준다\n",
      "<start> korea s . percent consumer price increase rate last year ranked fifth among the member countries of the organization of economic cooperation and development or oecd , indicating that the koreans suffered considerable hardships from high prices . <end>\n",
      "come up with a consensus 합의를 이루다\n",
      "<start> republican john mccain was there in person earlier , saying he s confident congress can come up with a consensus by monday to stabilize the nation s financial markets while protecting taxpayers and homeowners , and resonates with los angeles woman who talked to knbc tv . <end>\n",
      "단어장 한미일 북한에 6자회담 복귀 촉구\n",
      "<start> the head negotiators from south korea , japan and the united states on the north korean nuclear issue met in seoul saturday , and again urged pyeongyang to return to the six party talks without preconditions . <end>\n",
      "영한사전 약어표  한영사전 약어표\n",
      "<start> if the memorandum of understanding mou on the u . s . visa waiver program for koreans is signed on the occasion of my visit , exchanges in the human resources field will take place he said . <end>\n",
      "consensus 일치 합의 여론\n",
      "<start> south korea and the united states reached a final consensus in more than half of the negotiation sectors during the eighth round of free trade agreement fta talks in seoul , which ended on monday . <end>\n",
      "한나라당 이 후보는 이러한 혐의를 부인해 왔다\n",
      "<start> grand national party gnp leaders sunday dismissed the rumor that kim kyung joon has a written contract purporting to show that its presidential nominee lee myung bak is a legitimate owner of the scandal ridden bbk and lke bank . <end>\n",
      "영한사전 약어표  한영사전 약어표\n",
      "<start> the new list excluded prisoners in the custody of the u . s . military in the central asian country as demanded by the kabul government , the source told the korea times on condition of anonymity . <end>\n",
      "자이툰 부대 깜짝 방문한 노 대통령200508\n",
      "<start> president roh moo hyun on wednesday paid a surprise visit to the zaytun unit in the northern iraqi town of irbil on his way back home from his european tour to encourage the south korean troops stationed there . <end>\n",
      "영한사전 약어표  한영사전 약어표\n",
      "<start> the action , which was also reported yesterday by major japanese news organizations and foreign media , marks the first time that japan has barred the import of korean made electronics , korea s major export item . <end>\n",
      "당시 신 자유주의 정당은 대통령 후보 경선을 위해 유권자들을 등록했었다\n",
      "<start> chung dong young s campaign has become the primary target of an ongoing police investigation into massive identity thefts that took place in august , when the new liberal political party registered voters for its presidential primary election . <end>\n",
      "이는 노무현 정권 초기의 외환 자유화와는 반대되는 정책이다\n",
      "<start> harking back to authoritarian regimes of the past , the roh moo hyun government is moving to control overseas remittances to prevent the drastic flow of foreign currencies out of the country , backpedaling on its commitment to foreign exchange liberalization . <end>\n",
      "예비의 준비의 예 a  course 예과\n",
      "<start> christopher hill , assistant secretary of state for east asian and pacific affairs , told a news conference in washington on tuesday that he had no concrete plans to visit pyongyang but there will be preparatory discussions among the countries working to end the north korean nuclear standoff . <end>\n",
      "Canucks 벤쿠버 커넉스NHL 서부컨퍼런스 북서부지구 아이스하키팀\n",
      "<start> it s the kind of transformation the big green energy spending in his stimulus plan is designed to support , but iowans might be forgiven for thinking there s another motive for today s visit <end>\n",
      "대부 공채 차관 예 domestic loan\n",
      "<start> the korea herald reports bad loans at domestic lenders shrank percent in the second quarter , quoting a financial supervisory service statement that ignited a rally yesterday among bank stocks . <end>\n",
      "telecommunication전기 통신 전자 통신\n",
      "<start> the implementation of internet portal television , or ip tv , is being delayed because fixed line operators and cable tv service providers are squabbling over whether the service is in the telecommunications or broadcasting realm . <end>\n",
      "영한사전 약어표  한영사전 약어표\n",
      "<start> he said after the afghan government s refusal to entertain the taliban demand regarding the prisoners swap , the two sides koreans and taliban engaged in ransom talks and the delay in release of the captives was caused because the taliban wanted guarantees and the korean side wanted scaling down of the demanded amount . <end>\n",
      "신 의장은 당 고위 간부들에게 의장직 사퇴 의사를 밝혔다\n",
      "<start> shin ki nam , leader of the uri party , is expected to officially announce his resignation from the party chairmanship thursday , taking responsibility for his father s pro japanese activities during the to colonial period , sources close to shin said . <end>\n",
      "ambition 야심 야망\n",
      "<start> south korean prime minister han duck soo was to meet with chinese president hu jintao in beijing tuesday for discussions on ending north korea s nuclear ambitions and other issues of mutual concern . <end>\n",
      "autonomy 자율성 자주성\n",
      "<start> lee dong kwan , spokesman of the team , told reporters that the next government will seek alternative legislation replacing the current newspaper law to give press companies more autonomy . <end>\n",
      "영한사전 약어표  한영사전 약어표\n",
      "<start> a month later , the united states also froze u . s . based assets of eight north korean firms on suspicions of illegal activities , including counterfeiting , laundering and proliferation of weapons of mass destruction . <end>\n",
      "administration 내각 행정부\n",
      "<start> romer , when pressed , says the administration is opposed to eliminating the tax deductions people get for private and company provided health care , but the idea has not been taken off the table . <end>\n",
      "평온한평화로운 상태로 회복시키다 평정진압 제압하다\n",
      "<start> marines in the third day of a battle to pacify the sunni muslim city of fallujah fired a rocket and dropped a pound , laser guided bomb on a mosque compound wednesday , and witnesses said dozens were killed . <end>\n",
      "ballot 무기명 투표 투표권 추첨\n",
      "<start> foreigners with permanent residency here will cast ballots in the upcoming local elections in may , exercising their voting rights for the first time to elect governors , mayors and council members . <end>\n",
      "즉 소형 은행들에 현금을 더 쏟아 부을 것입니다\n",
      "<start> treasury secretary tim geithner says the government will use financial bailout money being repaid by large banks to give additional capital infusions to smaller banks pour more cash into them . <end>\n",
      "안보리 결의 수준에 도달하기위한 연장선으로 이해해야 할 것이라고 밝혔다\n",
      "<start> security council resolution . seoul has not yet been informed of any u . s . plan to increase pressure on north korea , although it is possible washington will consider stepping up financial sanctions against pyongyang , a senior south korean official said yesterday . <end>\n",
      "팩스의 송신자는 김경준의 가족으로 되어 있었다\n",
      "<start> the sender of the fax was named family of kim kyung joon . her brother kim kyung joon was arrested sunday after being extradited from the u . s . to seoul , on charges of stock manipulation and embezzling corporate funds while running bbk and optional ventures korea . <end>\n",
      "영한사전 약어표  한영사전 약어표\n",
      "<start> the mission involves japanese vessels in the indian ocean providing refuelling and other logistical support to us military planes , and the us has made clear it sees these activities as vital . <end>\n",
      "영한사전 약어표  한영사전 약어표\n",
      "<start> targets for privatization include the korea expressway corp . , incheon international airport corp . , the korea airports corp . , korea housing guarantee , korea district heating , korea appraisal board , and power plant subsidiaries of korea electric power corp . <end>\n",
      "cross wind 옆바람비행기 진로 직각으로 부는 바람\n",
      "<start> their plane was taking off with a cross wind , and considering the fact that it looks like it , the entire airport , many parts of the airport are a sheet of ice , so it appears that the airplane slid off while taking off in a crosswind . <end>\n",
      "제대하다 해방하다 방출하다\n",
      "<start> the soldiers are scheduled to be discharged from military service in february , and most of them had planned to return to college after they completed their service in iraq by the end of the year . <end>\n",
      "가톨릭 교회가 정부의 사학법 개정안에 반대 입장을 표명했다\n",
      "<start> the catholic bishops conference of korea , speaking on behalf of two other church groups , said that they would refuse in any case to allow outside directors on the boards of catholic schools here , whatever the law required . <end>\n",
      "inadvisable 권할 수 없는\n",
      "<start> in a seminar hosted by the korean economic association in seoul , experts said that unless there is a wholesale restructuring of the country s fundamentals , it is inadvisable to push for expansion that exceeds national growth potential . <end>\n",
      "이에 일본의 관방장관은 일본정부가 중국정부에게 우려를 표시했다고 밝혔다\n",
      "<start> japan s chief cabinet secretary says tokyo expressed its concern to beijing . this is the latest salvo in a long running dispute between japan and china over oil and gas resources in the east china sea . <end>\n",
      "영한사전 약어표  한영사전 약어표\n",
      "<start> a minute s silence was held in the provincial capital banda aceh to mark the exact moment the first waves came ashore , and a siren then sounded , part of indonesia s new tsunami warning system . <end>\n",
      "news conference 기자회견\n",
      "<start> he s got a prime time news conference this evening , and he started out today by talking about swine flu and the new democratic senator who could help him get a health care plan through congress . <end>\n",
      "테러사건으로 인한 사망자 중에는 미국인 6명도 포함되어 있습니다\n",
      "<start> six americans are among the dead . nasa keeps endeavour in orbit high winds and storms and the forecast for the kennedy space center in florida force cancellation to the day s first opportunity to land . <end>\n",
      "motorist 자가용 운전자 자동차 여행자\n",
      "<start> rain in the east , some snow in the mid west and northern rockies pose travel troubles for motorists today the day millions of us are heading back home to close out the thanksgiving holiday weekend <end>\n",
      "국가 정보원 국가안전보장회의\n",
      "<start> heads of the foreign ministry , the national intelligence service , and the national security council , are facing pressure to take responsibility for the bungled handling of the kim case . <end>\n",
      "arrest 구인 구류 검거 체포 notify 을\n",
      "<start> a group of four north korean defectors tried to seek asylum by entering a south korean school in beijing on tuesday , but they were arrested on the school grounds by chinese security officers . <end>\n",
      "hypochondria 우울증\n",
      "<start> the government will provide health insurance coverage to those attempting suicide this year as the act is often done on impulse because of mental problems like depression or hypochondria . <end>\n",
      "peacekeeping 평화유지\n",
      "<start> yonhap news agency reports u . s . forces in korea on wednesday held a memorial service for a south korean service member killed a year ago while working on a u . s . led peacekeeping campaign in afghanistan . <end>\n",
      "약속에 의하여 만나기 만나는집합 장소\n",
      "<start> the rare meeting between the two key and most cynical players in the nuclear drama highlighted the flurry of bilateral meetings among the member countries that also include south korea , china , japan and russia . <end>\n",
      "refugee camp 난민 캠프 난민 수용소\n",
      "<start> pakistani officials say thousands of people have fled fighting in pakistan s swat valley in recent days , many of them packed into hastily erected camps supported by the un and the authorities . <end>\n",
      "빠른 페이스로 플레이 하게 되었는데 저는 그것을 매우 좋아해요\n",
      "<start> it makes you play at a fast pace , and you know , that s something i like to do very much you know , play at a fast pace and i was able to know to keep my composure out there , and know just play fast and know , and either get a basket or get it done . <end>\n",
      "appointment 임명 임용\n",
      "<start> in naming lim chai jin to succeed chung sang myong , whose two year term in the powerful post ends on november rd , roh dismissed demands from the grand nationals that they be consulted on personnel appointments . <end>\n",
      "국제원자력기구\n",
      "<start> seoul officials said yesterday that the international atomic energy agency informally notified a government delegation at iaea headquarters in vienna last week of its plan to send inspectors in the middle of december . <end>\n",
      "국제원자력기구IAEA\n",
      "<start> mohamed elbaradei , head of the international atomic energy agency said that seoul had recently acknowledged producing more than pounds of uranium metal in the s at three facilities it had kept secret from his agency . <end>\n",
      "preemptive 선매의 선제의 우선적인\n",
      "<start> north korea yesterday called a joint military exercise by south korea and the united states an act of war , saying it would take pre emptive action if necessary in spite of the year old cease fire treaty . <end>\n",
      "Hwang 한국분자세포생물학회 황박사 제명     200605\n",
      "<start> professor kang sung keun at seoul national university , one of hwang s lieutenants , sunday argued the embryonic cell batch featured in the u . s . journal , science , in , is the real thing . <end>\n",
      "community leader 지역사회 지도자 지역 유지\n",
      "<start> community leaders across the country are wondering who s going to help with the chicken supper , who s going to sponsor the memorial day parade , now that more than , general motors dealers are learning they re losing their franchises <end>\n",
      "Senate Majority Leader 상원 원내대표\n",
      "<start> putting some of that bailout money on wheels , in a letter to treasury secretary paulson , house speaker pelosi , and senate majority leader reid , are asking the bush administration to provide more aid to the struggling auto industry . <end>\n",
      "북한폭정의 전초기지 발언에 대해 미국에 사과 요구\n",
      "<start> north korea s leadership demanded an apology yesterday from the united states for labeling the communist state an outpost of tyranny , while at the same time saying its military was prepared to resume long range missile testing . <end>\n",
      "대통령 후보자의 지명\n",
      "<start> president george bush failed to mention korea while listing the names of its allies in his address to accept his nomination as the republican candidate for the next presidential election . <end>\n",
      "야후 2009 YBM시사닷컴\n",
      "<start> rumsfeld also reaffirmed in a letter to defense minister yoon kwang ung in mid august that washington wants to transfer operational control over south korean troops to the south korean military by when the relocation of u . s . bases is completed . <end>\n",
      "영한사전 약어표  한영사전 약어표\n",
      "<start> guerrillas assaulted nine police stations , overturning several , and battled u . s . and iraqi troops around bridges across the tigris river in the city , where a curfew was imposed a day earlier . <end>\n",
      "vacancy 공허 빈터 빈자리 결원 틈 방심\n",
      "<start> the blue house said yesterday that president roh moo hyun had quickly agreed to forward to the national assembly the names of five nominees to fill seats on the supreme court that will be vacant in july . <end>\n",
      "제1차 세계대전에 참전했던 미군 병사들을 추모하기\n",
      "<start> indeed he is , john , he is en route to new york right now to pay tribute to vets in a speech from the deck of an aircraft carrier that would be the uss intrepid , a world war ii era ship that s now a floating museum , john ? <end>\n",
      "indicted 고발 기소하다 prosecutor 검사\n",
      "<start> nine former and current employees of kia motors and related companies were indicted yesterday on charges of illegally transferring core automobile production technology to china , prosecutors said yesterday . <end>\n",
      "측근에따르면 김 전 대통령은 일요일날 폐렴 증세로 치료를 받았다\n",
      "<start> the korea times reports former president kim dae jung was discharged from his day stay at yonsei university s severance hospital in seoul , which he was admitted to for pneumonia like symptoms , sunday his aides said . <end>\n",
      "한편 기초단체장 선거 4곳 중 두 곳에선 무소속 후보가 당선됐다\n",
      "<start> of four local administrative chief posts available , two went to independents ha jong keun in changnyong , south kyongsang province , stronghold of the gnp , and chun wan joon in hwasun , south cholla province . <end>\n",
      "transaction 처리 취급 상거래 화해 계약 보고서\n",
      "<start> the transfers had been disguised as trade transactions it was not clear from the report if the money had been raised in korea or had been routed through this country in an attempt to disguise its origins . <end>\n",
      "영한사전 약어표  한영사전 약어표\n",
      "<start> defense lawyers say moussaoui s life should be spared because of his limited role in the attacks , evidence of mental illness , and because his execution would only fulfill his dream of martyrdom . <end>\n",
      "국제원자력기구\n",
      "<start> the ministry of science and technology said yesterday that a third team of inspectors from the international atomic energy agency will investigate facilities at the korea atomic energy research institute in daejeon from nov . <end>\n"
     ]
    }
   ],
   "source": [
    "for enc, dec in zip(enc_corpus_filtered, dec_corpus_filtered):\n",
    "    if len(dec) > 200: print(f\"{enc}\\n{dec}\")"
   ]
  },
  {
   "cell_type": "code",
   "execution_count": 207,
   "id": "0fa32a80",
   "metadata": {},
   "outputs": [],
   "source": [
    "enc_corpus = enc_corpus_filtered\n",
    "dec_corpus = dec_corpus_filtered\n",
    "\n",
    "enc_corpus_filtered = []\n",
    "dec_corpus_filtered = []\n",
    "\n",
    "for enc, dec in zip(enc_corpus, dec_corpus):\n",
    "    if len(dec) > 150: continue\n",
    "    enc_corpus_filtered.append(enc)\n",
    "    dec_corpus_filtered.append(dec)"
   ]
  },
  {
   "cell_type": "code",
   "execution_count": 208,
   "id": "e9e9ddc3",
   "metadata": {},
   "outputs": [
    {
     "data": {
      "text/plain": [
       "(23526, 23526)"
      ]
     },
     "execution_count": 208,
     "metadata": {},
     "output_type": "execute_result"
    }
   ],
   "source": [
    "len(enc_corpus_filtered), len(dec_corpus_filtered)"
   ]
  },
  {
   "cell_type": "code",
   "execution_count": 95,
   "id": "0ed74ef7",
   "metadata": {},
   "outputs": [],
   "source": [
    "postfix = \"07_rm_dot\""
   ]
  },
  {
   "cell_type": "code",
   "execution_count": 117,
   "id": "0787155c",
   "metadata": {},
   "outputs": [],
   "source": [
    "save_var(enc_corpus_filtered, f\"enc_corpus_{postfix}\")\n",
    "save_var(dec_corpus_filtered, f\"dec_corpus_{postfix}\")"
   ]
  },
  {
   "cell_type": "code",
   "execution_count": 118,
   "id": "15e0aa9e",
   "metadata": {},
   "outputs": [],
   "source": [
    "enc_corpus_filtered = load_var(f\"enc_corpus_{postfix}\")\n",
    "dec_corpus_filtered = load_var(f\"dec_corpus_{postfix}\")"
   ]
  },
  {
   "cell_type": "code",
   "execution_count": 209,
   "id": "dc09de8f",
   "metadata": {},
   "outputs": [
    {
     "data": {
      "text/plain": [
       "'<start> the u . s . had hundreds of years of commercial activity , while korea s had only a few . <end>'"
      ]
     },
     "execution_count": 209,
     "metadata": {},
     "output_type": "execute_result"
    }
   ],
   "source": [
    "dec_corpus_filtered[16]"
   ]
  },
  {
   "cell_type": "code",
   "execution_count": 170,
   "id": "ce38327f",
   "metadata": {},
   "outputs": [
    {
     "data": {
      "image/png": "[encoded data removed]",
      "text/plain": [
       "<Figure size 432x288 with 1 Axes>"
      ]
     },
     "metadata": {
      "needs_background": "light"
     },
     "output_type": "display_data"
    }
   ],
   "source": [
    "enc_length = show_length(enc_corpus_filtered)"
   ]
  },
  {
   "cell_type": "code",
   "execution_count": 171,
   "id": "6041cb25",
   "metadata": {},
   "outputs": [
    {
     "data": {
      "image/png": "[encoded data removed]",
      "text/plain": [
       "<Figure size 432x288 with 1 Axes>"
      ]
     },
     "metadata": {
      "needs_background": "light"
     },
     "output_type": "display_data"
    }
   ],
   "source": [
    "dec_length = show_length(dec_corpus_filtered)"
   ]
  },
  {
   "cell_type": "markdown",
   "id": "08b8d05f",
   "metadata": {},
   "source": [
    "# Step 3. 데이터 토큰화"
   ]
  },
  {
   "cell_type": "markdown",
   "id": "7a918629",
   "metadata": {},
   "source": [
    "> 앞서 정의한 tokenize() 함수를 사용해 데이터를 텐서로 변환하고 각각의 tokenizer를 얻으세요!    \n",
    "\n",
    "> 단어의 수는 실험을 통해 적당한 값을 맞춰주도록 합니다! (최소 10,000 이상!)    \n",
    "\n",
    "> ❗ 주의: 난이도에 비해 데이터가 많지 않아 훈련 데이터와 검증 데이터를 따로 나누지는 않습니다."
   ]
  },
  {
   "cell_type": "markdown",
   "id": "09da52e7",
   "metadata": {},
   "source": [
    "## mecab"
   ]
  },
  {
   "cell_type": "code",
   "execution_count": 9,
   "id": "9b1fb4a4",
   "metadata": {},
   "outputs": [],
   "source": [
    "def tokenize_ko_sentence(sentence, tokenizer, stopwords):\n",
    "    tokenized_sentence = tokenizer.morphs(sentence) # 토큰화\n",
    "    stopwords_removed_sentence = [word for word in tokenized_sentence if not word in stopwords] # 불용어 제거\n",
    "    return stopwords_removed_sentence"
   ]
  },
  {
   "cell_type": "code",
   "execution_count": 10,
   "id": "7a925399",
   "metadata": {},
   "outputs": [],
   "source": [
    "def get_stopwords_ko():\n",
    "    # 불용어 정의\n",
    "    stopwords = ['의','가','이','은','들','는','좀','잘','걍','과','도','를','으로','자','에','와','한','하다']\n",
    "    return stopwords"
   ]
  },
  {
   "cell_type": "code",
   "execution_count": 11,
   "id": "99e99a03",
   "metadata": {},
   "outputs": [],
   "source": [
    "def tokenize_ko(sentences, tokenizer):\n",
    "    stopwords = get_stopwords_ko()\n",
    "    tokenized_data = []\n",
    "    for sentence in tqdm(sentences):\n",
    "        tokenized_data.append(tokenize_ko_sentence(sentence, tokenizer, stopwords))\n",
    "    return tokenized_data"
   ]
  },
  {
   "cell_type": "code",
   "execution_count": 23,
   "id": "8c050eb9",
   "metadata": {},
   "outputs": [],
   "source": [
    "mecab = tag.Mecab()"
   ]
  },
  {
   "cell_type": "code",
   "execution_count": 100,
   "id": "41a734fa",
   "metadata": {},
   "outputs": [
    {
     "name": "stderr",
     "output_type": "stream",
     "text": [
      "100%|██████████| 23573/23573 [00:01<00:00, 18084.68it/s]\n"
     ]
    }
   ],
   "source": [
    "enc_corpus_tkn = tokenize_ko(sentences=enc_corpus_filtered, tokenizer=mecab)"
   ]
  },
  {
   "cell_type": "code",
   "execution_count": 101,
   "id": "0d1c2d14",
   "metadata": {},
   "outputs": [],
   "source": [
    "postfix = \"07_rm_dot\""
   ]
  },
  {
   "cell_type": "code",
   "execution_count": 102,
   "id": "56692dc9",
   "metadata": {},
   "outputs": [],
   "source": [
    "save_var(enc_corpus_tkn, f\"enc_corpus_{postfix}\")"
   ]
  },
  {
   "cell_type": "code",
   "execution_count": 103,
   "id": "e8c01c32",
   "metadata": {},
   "outputs": [],
   "source": [
    "enc_corpus_tkn = load_var(f\"enc_corpus_{postfix}\")"
   ]
  },
  {
   "cell_type": "code",
   "execution_count": 104,
   "id": "0f6ca44b",
   "metadata": {
    "scrolled": true
   },
   "outputs": [
    {
     "data": {
      "text/plain": [
       "(23573, 23573)"
      ]
     },
     "execution_count": 104,
     "metadata": {},
     "output_type": "execute_result"
    }
   ],
   "source": [
    "len(enc_corpus_tkn), len(dec_corpus_filtered)"
   ]
  },
  {
   "cell_type": "code",
   "execution_count": 119,
   "id": "1fae803d",
   "metadata": {
    "scrolled": true
   },
   "outputs": [
    {
     "name": "stdout",
     "output_type": "stream",
     "text": [
      "0: \t개인용 컴퓨터 사용의 상당 부분은 이것보다 뛰어날 수 있느냐 \n",
      "\t['개인', '용', '컴퓨터', '사용', '상당', '부분', '이것', '보다', '뛰어날', '수', '있', '느냐'] \n",
      "\t<start> much of personal computing is about can you top this ? <end>\n",
      "1: \t그러나 이것은 또한 책상도 필요로 하지 않는다 \n",
      "\t['그러나', '이것', '또한', '책상', '필요', '로', '하', '지', '않', '는다'] \n",
      "\t<start> like all optical mice , but it also doesn t need a desk <end>\n",
      "2: \t많은 인질들이 화학 가스의 영향으로 고통을 겪으며 병원으로 옮겨졌다 \n",
      "\t['많', '인질', '화학', '가스', '영향', '고통', '을', '겪', '으며', '병원', '옮겨졌', '다'] \n",
      "\t<start> many captives were taken to hospital suffering from the effects of the chemical <end>\n",
      "3: \t100여명의 사망자가 예상되는 베트남 빌딩 화재 \n",
      "\t['100', '여', '명', '사망자', '예상', '되', '베트남', '빌딩', '화재'] \n",
      "\t<start> at least people have been confirmed dead but that figure is expected to rise , possibly to over <end>\n",
      "4: \t그와 동시 에 노동 비용은 더욱 상승하고 있습니다 라고 말했다 \n",
      "\t['그', '동시', '노동', '비용', '더욱', '상승', '하', '고', '있', '습니다', '라고', '말', '했', '다'] \n",
      "\t<start> at the same time , labor costs are more and more <end>\n",
      "5: \t로보트 장치의 연간 판매액은 50억60억달러로 추산되고 있다 \n",
      "\t['로보트', '장치', '연간', '판매액', '50', '억', '60', '억', '달러', '로', '추산', '되', '고', '있', '다'] \n",
      "\t<start> annual sales of robot units are estimated at billion to billion <end>\n",
      "6: \t또 다른 60대의 로보트가 경비 일을 하고 있다 \n",
      "\t['또', '다른', '60', '대', '로보트', '경비', '일', '을', '하', '고', '있', '다'] \n",
      "\t<start> another robots work in surveillance <end>\n",
      "7: \t신랑 들러리가 포도주 잔을 들어 올린다 그리고는 술주정을 늘어놓는다 \n",
      "\t['신랑', '들러리', '포도주', '잔', '을', '어', '올린다', '그리고', '술주정', '을', '늘어놓', '는다'] \n",
      "\t<start> the best man raises his wine glass and out comes a drunken diatribe <end>\n",
      "8: \t다른 4명은 아직도 실종된 상태이다 \n",
      "\t['다른', '4', '명', '아직', '실종', '된', '상태', '다'] \n",
      "\t<start> four others are still missing <end>\n",
      "9: \t연구가 시작될 때에 참가자들의 나이는 40세에서 75세 사이였다 \n",
      "\t['연구', '시작', '될', '때', '참가자', '나이', '40', '세', '에서', '75', '세', '사이', '였', '다'] \n",
      "\t<start> participants were ages to at the outset <end>\n",
      "10: \t결과적으로 1700명의 참가자들에게서 심장 질환이 진단되었다 \n",
      "\t['결과', '적', '1700', '명', '참가자', '에게서', '심장', '질환', '진단', '되', '었', '다'] \n",
      "\t<start> heart disease was ultimately diagnosed in , participants <end>\n",
      "11: \t라고 미국 심장 협회 대변인인 제럴드 플레처 박사가 말했다 \n",
      "\t['라고', '미국', '심장', '협회', '대변인', '인', '제럴드', '플레처', '박사', '말', '했', '다'] \n",
      "\t<start> gerald fletcher , an american heart association spokesman <end>\n",
      "12: \t북한이 핵무기를 개발했다고 처음으로 밝혔다 \n",
      "\t['북한', '핵무기', '개발', '했', '다고', '처음', '밝혔', '다'] \n",
      "\t<start> it has developed a nuclear weapon <end>\n",
      "13: \t최인원은 배드민턴 게임을 완벽하게 하고 싶어한다 \n",
      "\t['최', '인원', '배드민턴', '게임', '을', '완벽', '하', '게', '하', '고', '싶', '어', '한다'] \n",
      "\t<start> choi in won wants to perfect his badminton game <end>\n",
      "14: \t김소현은 그저 잠을 많이 자려 한다 \n",
      "\t['김소현', '그저', '잠', '을', '많이', '자려', '한다'] \n",
      "\t<start> kim so hyon would just sleep a lot <end>\n",
      "15: \t그러나 한국인들은 생산성이 그들보다 각기 62 45나 더 낮다 \n",
      "\t['그러나', '한국인', '생산', '성', '그', '보다', '각기', '62', '45', '나', '더', '낮', '다'] \n",
      "\t<start> but they re also and less productive , respectively <end>\n",
      "16: \t미국은 상업 활동의 역사가 수백년이지만 한국은 얼마 되지 않습니다 \n",
      "\t['미국', '상업', '활동', '역사', '수백', '년', '지만', '한국', '얼마', '되', '지', '않', '습니다'] \n",
      "\t<start> the u s had hundreds of years of commercial activity , while korea s had only a few <end>\n",
      "17: \t선례가 하나 있다 \n",
      "\t['선례', '하나', '있', '다'] \n",
      "\t<start> there is a precedent <end>\n",
      "18: \t왜 이렇게 어려운 일을 서둘러 성취하려 하는가 \n",
      "\t['왜', '이렇게', '어려운', '일', '을', '서둘러', '성취', '하', '려', '하', '는가'] \n",
      "\t<start> why the hurry to accomplish such a herculean feat ? <end>\n",
      "19: \t정부는 이 조치가 한국이 선진국임을 내보이는 방법이라고 말한다 \n",
      "\t['정부', '조치', '한국', '선진국', '임', '을', '내보이', '방법', '라고', '말', '한다'] \n",
      "\t<start> the government says the move is a way to show that south korea is a developed nation <end>\n",
      "20: \t많은 어려운 문제 중에는 휴일 문제가 있다 \n",
      "\t['많', '어려운', '문제', '중', '휴일', '문제', '있', '다'] \n",
      "\t<start> among the many thorny issues is holidays <end>\n",
      "21: \t토목 기사인 최인웅은 우리는 나태해지거나 긴장을 풀 여유가 없습니다 \n",
      "\t['토목', '기사', '인', '최인', '웅', '우리', '나태', '해', '지', '거나', '긴장', '을', '풀', '여유', '없', '습니다'] \n",
      "\t<start> we just can t afford to be lazy or relaxed , said choi in woong , a civil engineer <end>\n"
     ]
    }
   ],
   "source": [
    "for index, (enc, enc_mecab, dec) in enumerate(zip(enc_corpus_filtered, enc_corpus_tkn, dec_corpus_filtered)):\n",
    "    print(f\"{index}: \\t{enc} \\n\\t{enc_mecab} \\n\\t{dec}\")\n",
    "    if index > 20: break"
   ]
  },
  {
   "cell_type": "markdown",
   "id": "23082e2c",
   "metadata": {},
   "source": [
    "## word2vec"
   ]
  },
  {
   "cell_type": "code",
   "execution_count": 25,
   "id": "b4ea6ba4",
   "metadata": {},
   "outputs": [],
   "source": [
    "from gensim.models import Word2Vec"
   ]
  },
  {
   "cell_type": "markdown",
   "id": "163f1301",
   "metadata": {},
   "source": [
    "### enc."
   ]
  },
  {
   "cell_type": "code",
   "execution_count": 131,
   "id": "41226874",
   "metadata": {},
   "outputs": [],
   "source": [
    "enc_w2v = Word2Vec(sentences = enc_corpus_tkn, \n",
    "               vector_size = 50, \n",
    "               window = 5, min_count = 5, workers = 4, sg = 0)"
   ]
  },
  {
   "cell_type": "code",
   "execution_count": 132,
   "id": "d1aa449b",
   "metadata": {},
   "outputs": [
    {
     "data": {
      "text/plain": [
       "'07_rm_dot'"
      ]
     },
     "execution_count": 132,
     "metadata": {},
     "output_type": "execute_result"
    }
   ],
   "source": [
    "postfix"
   ]
  },
  {
   "cell_type": "code",
   "execution_count": 133,
   "id": "54508167",
   "metadata": {},
   "outputs": [],
   "source": [
    "enc_w2v.save(f\"enc_corpus_{postfix}.w2v\")"
   ]
  },
  {
   "cell_type": "code",
   "execution_count": 94,
   "id": "daa09c9b",
   "metadata": {},
   "outputs": [
    {
     "data": {
      "text/plain": [
       "(4135, 50)"
      ]
     },
     "execution_count": 94,
     "metadata": {},
     "output_type": "execute_result"
    }
   ],
   "source": [
    "enc_w2v.wv.vectors.shape"
   ]
  },
  {
   "cell_type": "code",
   "execution_count": 134,
   "id": "f9b2d73b",
   "metadata": {},
   "outputs": [],
   "source": [
    "enc_w2v = Word2Vec.load(f\"enc_corpus_{postfix}.w2v\")"
   ]
  },
  {
   "cell_type": "code",
   "execution_count": 135,
   "id": "5318e551",
   "metadata": {},
   "outputs": [
    {
     "name": "stdout",
     "output_type": "stream",
     "text": [
      "[('시장', 0.9908114075660706), ('회사', 0.9851050972938538), ('장', 0.9849457740783691), ('과정', 0.983531653881073), ('시위', 0.9834348559379578), ('이미', 0.9826364517211914), ('관광객', 0.9825882911682129), ('로마', 0.9825136065483093), ('율', 0.9815678000450134), ('계', 0.9811376333236694)]\n"
     ]
    }
   ],
   "source": [
    "print(enc_w2v.wv.most_similar(\"도시\"))"
   ]
  },
  {
   "cell_type": "markdown",
   "id": "6c286e98",
   "metadata": {},
   "source": [
    "### dec."
   ]
  },
  {
   "cell_type": "code",
   "execution_count": 136,
   "id": "04a1143f",
   "metadata": {},
   "outputs": [],
   "source": [
    "dec_corpus_split = [sentence.split() for sentence in dec_corpus_filtered]"
   ]
  },
  {
   "cell_type": "code",
   "execution_count": 137,
   "id": "fca30d44",
   "metadata": {},
   "outputs": [],
   "source": [
    "dec_w2v = Word2Vec(sentences = dec_corpus_split, \n",
    "                   vector_size = 50, \n",
    "                   window = 5, min_count = 5, workers = 4, sg = 0)"
   ]
  },
  {
   "cell_type": "code",
   "execution_count": 138,
   "id": "b2e22d70",
   "metadata": {},
   "outputs": [],
   "source": [
    "dec_w2v.save(f\"dec_corpus_{postfix}.w2v\")"
   ]
  },
  {
   "cell_type": "code",
   "execution_count": 139,
   "id": "c33814b5",
   "metadata": {},
   "outputs": [],
   "source": [
    "dec_w2v = Word2Vec.load(f\"dec_corpus_{postfix}.w2v\")"
   ]
  },
  {
   "cell_type": "code",
   "execution_count": 141,
   "id": "ede7fb8d",
   "metadata": {},
   "outputs": [
    {
     "name": "stdout",
     "output_type": "stream",
     "text": [
      "[('body', 0.9772177934646606), ('son', 0.971909761428833), ('late', 0.9709904193878174), ('remains', 0.9650716781616211), ('head', 0.9634805917739868), ('web', 0.9630990028381348), ('team', 0.9624633193016052), ('stops', 0.9618635177612305), ('night', 0.9614982008934021), ('state', 0.9611568450927734)]\n"
     ]
    }
   ],
   "source": [
    "print(dec_w2v.wv.most_similar(\"top\"))"
   ]
  },
  {
   "cell_type": "markdown",
   "id": "ff189111",
   "metadata": {},
   "source": [
    "## tokenizer, embedding matrix"
   ]
  },
  {
   "cell_type": "code",
   "execution_count": 12,
   "id": "43d10a48",
   "metadata": {},
   "outputs": [],
   "source": [
    "def get_tokenizer(corpus):\n",
    "    print(len(corpus))\n",
    "    tokenizer = tf.keras.preprocessing.text.Tokenizer(filters='')\n",
    "    tokenizer.fit_on_texts(corpus)\n",
    "    return tokenizer"
   ]
  },
  {
   "cell_type": "code",
   "execution_count": 13,
   "id": "1e44cdf3",
   "metadata": {},
   "outputs": [],
   "source": [
    "def get_embedding_matrix(corpus, tokenizer, model_w2v, embedding_dim=300):\n",
    "    vocab_size = len(tokenizer.word_index) + 1\n",
    "    embedding_matrix = np.zeros((vocab_size, embedding_dim))\n",
    "    for word, i in tokenizer.word_index.items():\n",
    "        if word in model_w2v.wv:\n",
    "            embedding_matrix[i] = model_w2v.wv[word]\n",
    "    return embedding_matrix"
   ]
  },
  {
   "cell_type": "code",
   "execution_count": 210,
   "id": "784c304e",
   "metadata": {},
   "outputs": [
    {
     "name": "stdout",
     "output_type": "stream",
     "text": [
      "23526\n"
     ]
    }
   ],
   "source": [
    "enc_tokenizer = get_tokenizer(enc_corpus_filtered)"
   ]
  },
  {
   "cell_type": "code",
   "execution_count": 176,
   "id": "829ce7eb",
   "metadata": {},
   "outputs": [],
   "source": [
    "enc_embedding_matrix = get_embedding_matrix(enc_corpus_tkn, \n",
    "                                        tokenizer=enc_tokenizer, \n",
    "                                        model_w2v=enc_w2v, \n",
    "                                        embedding_dim=50)"
   ]
  },
  {
   "cell_type": "code",
   "execution_count": 211,
   "id": "8906703a",
   "metadata": {},
   "outputs": [
    {
     "name": "stdout",
     "output_type": "stream",
     "text": [
      "23526\n"
     ]
    }
   ],
   "source": [
    "dec_tokenizer = get_tokenizer(dec_corpus_filtered)"
   ]
  },
  {
   "cell_type": "code",
   "execution_count": 178,
   "id": "b80d4818",
   "metadata": {},
   "outputs": [],
   "source": [
    "dec_embedding_matrix = get_embedding_matrix(dec_corpus_filtered, \n",
    "                                        tokenizer=dec_tokenizer, \n",
    "                                        model_w2v=dec_w2v, \n",
    "                                        embedding_dim=50)"
   ]
  },
  {
   "cell_type": "markdown",
   "id": "5b7cbf7e",
   "metadata": {},
   "source": [
    "## encoder/decoder tensor"
   ]
  },
  {
   "cell_type": "code",
   "execution_count": 14,
   "id": "ffa49320",
   "metadata": {},
   "outputs": [],
   "source": [
    "def get_tensor(corpus, tokenizer):\n",
    "    tensor = tokenizer.texts_to_sequences(corpus)\n",
    "    tensor = tf.keras.preprocessing.sequence.pad_sequences(tensor, padding='post')\n",
    "    return tensor"
   ]
  },
  {
   "cell_type": "code",
   "execution_count": 212,
   "id": "01924279",
   "metadata": {
    "scrolled": true
   },
   "outputs": [],
   "source": [
    "enc_tensor = get_tensor(enc_corpus_filtered, enc_tokenizer)\n",
    "dec_tensor = get_tensor(dec_corpus_filtered, dec_tokenizer)"
   ]
  },
  {
   "cell_type": "code",
   "execution_count": 213,
   "id": "66e7c8d1",
   "metadata": {},
   "outputs": [
    {
     "data": {
      "text/plain": [
       "((23526, 12), (23526, 34))"
      ]
     },
     "execution_count": 213,
     "metadata": {},
     "output_type": "execute_result"
    }
   ],
   "source": [
    "enc_tensor.shape, dec_tensor.shape"
   ]
  },
  {
   "cell_type": "code",
   "execution_count": 146,
   "id": "98e629b7",
   "metadata": {},
   "outputs": [],
   "source": [
    "save_var(enc_tokenizer, f\"enc_tokenizer_{postfix}\")\n",
    "save_var(enc_tensor, f\"enc_tensor_{postfix}\")\n",
    "\n",
    "save_var(dec_tokenizer, f\"dec_tokenizer_{postfix}\")\n",
    "save_var(dec_tensor, f\"dec_tensor_{postfix}\")"
   ]
  },
  {
   "cell_type": "code",
   "execution_count": 172,
   "id": "0dec1f34",
   "metadata": {},
   "outputs": [
    {
     "data": {
      "text/plain": [
       "'08_rm_w2v_ep03'"
      ]
     },
     "execution_count": 172,
     "metadata": {},
     "output_type": "execute_result"
    }
   ],
   "source": [
    "postfix"
   ]
  },
  {
   "cell_type": "code",
   "execution_count": 173,
   "id": "54a376cd",
   "metadata": {},
   "outputs": [],
   "source": [
    "postfix = \"07_rm_dot\""
   ]
  },
  {
   "cell_type": "code",
   "execution_count": 174,
   "id": "90bdc7a3",
   "metadata": {},
   "outputs": [],
   "source": [
    "enc_tokenizer = load_var(f\"enc_tokenizer_{postfix}\")\n",
    "enc_tensor = load_var(f\"enc_tensor_{postfix}\")\n",
    "\n",
    "dec_tokenizer = load_var(f\"dec_tokenizer_{postfix}\")\n",
    "dec_tensor = load_var(f\"dec_tensor_{postfix}\")"
   ]
  },
  {
   "cell_type": "markdown",
   "id": "7c518ad2",
   "metadata": {},
   "source": [
    "# Step 4. 모델 설계"
   ]
  },
  {
   "cell_type": "markdown",
   "id": "8637ff52",
   "metadata": {},
   "source": [
    "> 한국어를 영어로 잘 번역해 줄 멋진 Attention 기반 Seq2seq 모델을 설계하세요! \n",
    "\n",
    "> 앞서 만든 모델에 Dropout 모듈을 추가하면 성능이 더 좋아집니다! \n",
    "\n",
    "> Embedding Size와 Hidden Size는 실험을 통해 적당한 값을 맞춰 주도록 합니다!"
   ]
  },
  {
   "cell_type": "markdown",
   "id": "db9df223",
   "metadata": {},
   "source": [
    "## attention, encoder, decoder"
   ]
  },
  {
   "cell_type": "code",
   "execution_count": 16,
   "id": "ebc05c74",
   "metadata": {},
   "outputs": [],
   "source": [
    "class BahdanauAttention(tf.keras.layers.Layer):\n",
    "    def __init__(self, units):\n",
    "        super(BahdanauAttention, self).__init__()\n",
    "        self.w_dec = tf.keras.layers.Dense(units)\n",
    "        self.w_enc = tf.keras.layers.Dense(units)\n",
    "        self.w_com = tf.keras.layers.Dense(1)\n",
    "    \n",
    "    def call(self, h_enc, h_dec):\n",
    "        # h_enc shape: [batch x length x units]\n",
    "        # h_dec shape: [batch x units]\n",
    "\n",
    "        h_enc = self.w_enc(h_enc)\n",
    "        h_dec = tf.expand_dims(h_dec, 1)\n",
    "        h_dec = self.w_dec(h_dec)\n",
    "\n",
    "        score = self.w_com(tf.nn.tanh(h_dec + h_enc))\n",
    "        \n",
    "        attn = tf.nn.softmax(score, axis=1)\n",
    "\n",
    "        context_vec = attn * h_enc\n",
    "        context_vec = tf.reduce_sum(context_vec, axis=1)\n",
    "\n",
    "        return context_vec, attn"
   ]
  },
  {
   "cell_type": "code",
   "execution_count": 64,
   "id": "56f11ea2",
   "metadata": {},
   "outputs": [],
   "source": [
    "class LuongAttention(tf.keras.layers.Layer):\n",
    "    def __init__(self, units):\n",
    "        super(LuongAttention, self).__init__()\n",
    "        self.W_combine = tf.keras.layers.Dense(units)\n",
    "\n",
    "    def call(self, H_encoder, H_decoder):\n",
    "        print(\"[ H_encoder ] Shape:\", H_encoder.shape)\n",
    "\n",
    "        WH = self.W_combine(H_encoder)\n",
    "        print(\"[ W_encoder X H_encoder ] Shape:\", WH.shape)\n",
    "\n",
    "        H_decoder = tf.expand_dims(H_decoder, 1)\n",
    "        alignment = tf.matmul(WH, tf.transpose(H_decoder, [0, 2, 1]))\n",
    "        print(\"[ Score_alignment ] Shape:\", alignment.shape)\n",
    "\n",
    "        attention_weights = tf.nn.softmax(alignment, axis=1)\n",
    "        print(\"\\n최종 Weight:\\n\", attention_weights.numpy())\n",
    "\n",
    "        attention_weights = tf.squeeze(attention_weights, axis=-1)\n",
    "        context_vector = tf.matmul(attention_weights, H_encoder)\n",
    "\n",
    "        return context_vector, attention_weights\n"
   ]
  },
  {
   "cell_type": "code",
   "execution_count": 217,
   "id": "85c15429",
   "metadata": {},
   "outputs": [],
   "source": [
    "class Encoder(tf.keras.Model):\n",
    "    def __init__(self, vocab_size, embedding_dim, enc_units, embedding_matrix=None):\n",
    "        super(Encoder, self).__init__()\n",
    "        \n",
    "        self.enc_units = enc_units\n",
    "        self.embedding = tf.keras.layers.Embedding(vocab_size, embedding_dim)\n",
    "#         self.embedding = tf.keras.layers.Embedding(\n",
    "#             input_dim=vocab_size,\n",
    "#             output_dim=embedding_dim,\n",
    "#             embeddings_initializer=tf.keras.initializers.Constant(embedding_matrix),\n",
    "#             trainable=True)\n",
    "        self.gru = tf.keras.layers.GRU(enc_units,\n",
    "                                       return_sequences=True)\n",
    "        \n",
    "    def call(self, x):\n",
    "        out = self.embedding(x)\n",
    "        out = self.gru(out)\n",
    "        \n",
    "        return out"
   ]
  },
  {
   "cell_type": "code",
   "execution_count": 218,
   "id": "5e92c2e6",
   "metadata": {},
   "outputs": [],
   "source": [
    "class Decoder(tf.keras.Model):\n",
    "    def __init__(self, vocab_size, embedding_dim, dec_units, embedding_matrix=None):\n",
    "        super(Decoder, self).__init__()\n",
    "        self.dec_units = dec_units\n",
    "        self.embedding = tf.keras.layers.Embedding(vocab_size, embedding_dim)\n",
    "#         self.embedding = tf.keras.layers.Embedding(\n",
    "#             input_dim=vocab_size,\n",
    "#             output_dim=embedding_dim,\n",
    "#             embeddings_initializer=tf.keras.initializers.Constant(embedding_matrix),\n",
    "#             trainable=True)\n",
    "        self.gru = tf.keras.layers.GRU(dec_units,\n",
    "                                       return_sequences=True,\n",
    "                                       return_state=True)\n",
    "        self.fc = tf.keras.layers.Dense(vocab_size)\n",
    "\n",
    "        self.attention = BahdanauAttention(self.dec_units)\n",
    "        #self.attention = LuongAttention(self.dec_units)\n",
    "\n",
    "    def call(self, x, h_dec, enc_out):\n",
    "        context_vec, attn = self.attention(enc_out, h_dec)\n",
    "\n",
    "        out = self.embedding(x)\n",
    "        out = tf.concat([tf.expand_dims(context_vec, 1), out], axis=-1)\n",
    "        \n",
    "        out, h_dec = self.gru(out)\n",
    "        out = tf.reshape(out, (-1, out.shape[2]))\n",
    "        out = self.fc(out)\n",
    "\n",
    "        return out, h_dec, attn"
   ]
  },
  {
   "cell_type": "markdown",
   "id": "62a7d5e6",
   "metadata": {},
   "source": [
    "## build model"
   ]
  },
  {
   "cell_type": "code",
   "execution_count": 219,
   "id": "fc1e4913",
   "metadata": {},
   "outputs": [
    {
     "name": "stdout",
     "output_type": "stream",
     "text": [
      "Encoder Output: (64, 50, 1024)\n",
      "Decoder Output: (64, 15496)\n",
      "Decoder Hidden State: (64, 1024)\n",
      "Attention: (64, 50, 1)\n"
     ]
    }
   ],
   "source": [
    "# 코드를 실행하세요.\n",
    "\n",
    "BATCH_SIZE     = 64\n",
    "SRC_VOCAB_SIZE = len(enc_tokenizer.index_word) + 1\n",
    "TGT_VOCAB_SIZE = len(dec_tokenizer.index_word) + 1\n",
    "\n",
    "units         = 1024\n",
    "embedding_dim = 512\n",
    "# embedding_dim = 50\n",
    "\n",
    "encoder = Encoder(SRC_VOCAB_SIZE, embedding_dim, units)\n",
    "decoder = Decoder(TGT_VOCAB_SIZE, embedding_dim, units)\n",
    "# encoder = Encoder(SRC_VOCAB_SIZE, embedding_dim, units, enc_embedding_matrix)\n",
    "# decoder = Decoder(TGT_VOCAB_SIZE, embedding_dim, units, dec_embedding_matrix)\n",
    "\n",
    "# sample input\n",
    "# sequence_len = 30\n",
    "sequence_len = 50\n",
    "\n",
    "sample_enc = tf.random.uniform((BATCH_SIZE, sequence_len))\n",
    "sample_output = encoder(sample_enc)\n",
    "\n",
    "print ('Encoder Output:', sample_output.shape)\n",
    "\n",
    "sample_state = tf.random.uniform((BATCH_SIZE, units))\n",
    "\n",
    "sample_logits, h_dec, attn = decoder(tf.random.uniform((BATCH_SIZE, 1)),\n",
    "                                     sample_state, sample_output)\n",
    "\n",
    "print ('Decoder Output:', sample_logits.shape)\n",
    "print ('Decoder Hidden State:', h_dec.shape)\n",
    "print ('Attention:', attn.shape)"
   ]
  },
  {
   "cell_type": "markdown",
   "id": "516f67b7",
   "metadata": {},
   "source": [
    "## optimizer, loss"
   ]
  },
  {
   "cell_type": "code",
   "execution_count": 220,
   "id": "914ff0fc",
   "metadata": {},
   "outputs": [],
   "source": [
    "optimizer = tf.keras.optimizers.Adam()\n",
    "loss_object = tf.keras.losses.SparseCategoricalCrossentropy(\n",
    "    from_logits=True, reduction='none')\n",
    "\n",
    "def loss_function(real, pred):\n",
    "    mask = tf.math.logical_not(tf.math.equal(real, 0))\n",
    "    loss = loss_object(real, pred)\n",
    "    \n",
    "    mask = tf.cast(mask, dtype=loss.dtype)\n",
    "    loss *= mask\n",
    "    \n",
    "    return tf.reduce_mean(loss)\n"
   ]
  },
  {
   "cell_type": "markdown",
   "id": "c7486b31",
   "metadata": {},
   "source": [
    "## train_step"
   ]
  },
  {
   "cell_type": "code",
   "execution_count": 221,
   "id": "6a699512",
   "metadata": {},
   "outputs": [],
   "source": [
    "@tf.function\n",
    "def train_step(src, tgt, encoder, decoder, optimizer, dec_tok):\n",
    "    bsz = src.shape[0]\n",
    "    loss = 0\n",
    "\n",
    "    with tf.GradientTape() as tape:\n",
    "        enc_out = encoder(src)\n",
    "        h_dec = enc_out[:, -1]\n",
    "        \n",
    "        dec_src = tf.expand_dims([dec_tok.word_index['<start>']] * bsz, 1)\n",
    "\n",
    "        for t in range(1, tgt.shape[1]):\n",
    "            pred, h_dec, _ = decoder(dec_src, h_dec, enc_out)\n",
    "\n",
    "            loss += loss_function(tgt[:, t], pred)\n",
    "            dec_src = tf.expand_dims(tgt[:, t], 1)\n",
    "        \n",
    "    batch_loss = (loss / int(tgt.shape[1]))\n",
    "\n",
    "    variables = encoder.trainable_variables + decoder.trainable_variables\n",
    "    gradients = tape.gradient(loss, variables)\n",
    "    optimizer.apply_gradients(zip(gradients, variables))\n",
    "    \n",
    "    return batch_loss"
   ]
  },
  {
   "cell_type": "markdown",
   "id": "a8e1acdb",
   "metadata": {},
   "source": [
    "# Step 5. 훈련하기"
   ]
  },
  {
   "cell_type": "markdown",
   "id": "9ef909f9",
   "metadata": {},
   "source": [
    "> 훈련엔 위에서 사용한 코드를 그대로 사용하되, eval_step() 부분이 없음에 유의합니다! \n",
    "\n",
    "> 매 스텝 아래의 예문에 대한 번역을 생성하여 본인이 생각하기에 가장 멋지게 번역한 Case를 제출하세요!   \n",
    "> (Attention Map을 시각화해보는 것도 재밌을 거예요!)\n",
    "\n",
    "> ❕ 참고: 데이터의 난이도가 높은 편이므로 생각만큼 결과가 잘 안나올 수 있습니다."
   ]
  },
  {
   "cell_type": "markdown",
   "id": "b857b611",
   "metadata": {},
   "source": [
    "## 예문 ##\n",
    "K1) 오바마는 대통령이다.  \n",
    "K2) 시민들은 도시 속에 산다.  \n",
    "K3) 커피는 필요 없다.  \n",
    "K4) 일곱 명의 사망자가 발생했다.  \n",
    "\n",
    "## 제출 ##\n",
    "E1) obama is the president . <end>  \n",
    "E2) people are victims of the city . <end>  \n",
    "E2) the price is not enough . <end>  \n",
    "E2) seven people have died . <end>  "
   ]
  },
  {
   "cell_type": "markdown",
   "id": "c5120a93",
   "metadata": {},
   "source": [
    "## train"
   ]
  },
  {
   "cell_type": "code",
   "execution_count": 186,
   "id": "81831383",
   "metadata": {},
   "outputs": [],
   "source": [
    "def train_epoch(epochs, enc_tensor, dec_tensor, encoder, decoder, \n",
    "                optimizer, dec_tokenizer, batch_size):\n",
    "\n",
    "    history = []\n",
    "\n",
    "    for epoch in range(epochs):\n",
    "        total_loss = 0\n",
    "\n",
    "        idx_list = list(range(0, enc_tensor.shape[0], batch_size))\n",
    "        random.shuffle(idx_list)\n",
    "        t = tqdm(idx_list, desc=f\"Epoch {epoch+1}\", position=0, leave=True)\n",
    "\n",
    "        for (batch, idx) in enumerate(t):\n",
    "            batch_loss = train_step(enc_tensor[idx:idx+batch_size],\n",
    "                                    dec_tensor[idx:idx+batch_size],\n",
    "                                    encoder,\n",
    "                                    decoder,\n",
    "                                    optimizer,\n",
    "                                    dec_tokenizer)\n",
    "\n",
    "            total_loss += batch_loss\n",
    "            t.set_postfix_str(f\"Loss: {total_loss.numpy() / (batch + 1):.4f}\")\n",
    "\n",
    "        history.append(total_loss)\n",
    "\n",
    "    return history"
   ]
  },
  {
   "cell_type": "code",
   "execution_count": 222,
   "id": "0a555cf9",
   "metadata": {},
   "outputs": [
    {
     "name": "stderr",
     "output_type": "stream",
     "text": [
      "Epoch 1: 100%|██████████| 46/46 [01:47<00:00,  2.33s/it, Loss: 2.4483]\n",
      "Epoch 2: 100%|██████████| 46/46 [00:55<00:00,  1.20s/it, Loss: 2.2633]\n",
      "Epoch 3: 100%|██████████| 46/46 [00:55<00:00,  1.21s/it, Loss: 2.1573]\n",
      "Epoch 4: 100%|██████████| 46/46 [00:56<00:00,  1.22s/it, Loss: 1.9304]\n",
      "Epoch 5: 100%|██████████| 46/46 [00:56<00:00,  1.22s/it, Loss: 1.7805]\n",
      "Epoch 6: 100%|██████████| 46/46 [00:56<00:00,  1.23s/it, Loss: 1.6920]\n",
      "Epoch 7: 100%|██████████| 46/46 [00:56<00:00,  1.22s/it, Loss: 1.6184]\n",
      "Epoch 8: 100%|██████████| 46/46 [00:56<00:00,  1.22s/it, Loss: 1.5369]\n",
      "Epoch 9: 100%|██████████| 46/46 [00:56<00:00,  1.23s/it, Loss: 1.4839]\n",
      "Epoch 10: 100%|██████████| 46/46 [00:56<00:00,  1.22s/it, Loss: 1.4395]\n"
     ]
    }
   ],
   "source": [
    "BATCH_SIZE = 512\n",
    "EPOCHS = 10\n",
    "history = train_epoch(EPOCHS, \n",
    "                      enc_tensor, dec_tensor, \n",
    "                      encoder, decoder, \n",
    "                      optimizer, \n",
    "                      dec_tokenizer, \n",
    "                      BATCH_SIZE)"
   ]
  },
  {
   "cell_type": "code",
   "execution_count": 223,
   "id": "d025cb81",
   "metadata": {},
   "outputs": [],
   "source": [
    "postfix = \"08_no-w2v_ep10\""
   ]
  },
  {
   "cell_type": "code",
   "execution_count": null,
   "id": "2de47e57",
   "metadata": {},
   "outputs": [],
   "source": [
    "encoder.save(f\"encoder_{postfix}\", save_format=\"tf\")\n",
    "decoder.save(f\"decoder_{postfix}\", save_format=\"tf\")"
   ]
  },
  {
   "cell_type": "code",
   "execution_count": 224,
   "id": "0dc4d1e9",
   "metadata": {},
   "outputs": [],
   "source": [
    "encoder.save_weights(f\"encoder_{postfix}.ckpt\")\n",
    "decoder.save_weights(f\"decoder_{postfix}.ckpt\")"
   ]
  },
  {
   "cell_type": "code",
   "execution_count": 43,
   "id": "29fddbe7",
   "metadata": {},
   "outputs": [],
   "source": [
    "histories = {}"
   ]
  },
  {
   "cell_type": "code",
   "execution_count": 225,
   "id": "28736d4a",
   "metadata": {},
   "outputs": [],
   "source": [
    "histories[postfix] = history"
   ]
  },
  {
   "cell_type": "code",
   "execution_count": 226,
   "id": "87f5d820",
   "metadata": {},
   "outputs": [],
   "source": [
    "save_var(histories, \"histories\")"
   ]
  },
  {
   "cell_type": "markdown",
   "id": "d44e6cf3",
   "metadata": {},
   "source": [
    "## evaluate"
   ]
  },
  {
   "cell_type": "code",
   "execution_count": 48,
   "id": "b6a44fa0",
   "metadata": {},
   "outputs": [],
   "source": [
    "def evaluate_preprocess_tkn(sentence):\n",
    "    sentence = preprocess_sentence(sentence, clean_ko)\n",
    "    print(sentence)\n",
    "    sentence = tokenize_ko_sentence(sentence, mecab, get_stopwords_ko())\n",
    "    print(sentence)\n",
    "    inputs = enc_tokenizer.texts_to_sequences([sentence])\n",
    "    print(inputs)\n",
    "    inputs = tf.keras.preprocessing.sequence.pad_sequences(inputs,\n",
    "                                                           maxlen=enc_tensor.shape[-1],\n",
    "                                                           padding='post')\n",
    "    print(inputs.shape, inputs)\n",
    "    return inputs"
   ]
  },
  {
   "cell_type": "code",
   "execution_count": 49,
   "id": "757e820f",
   "metadata": {},
   "outputs": [],
   "source": [
    "def evaluate_preprocess(sentence):\n",
    "    sentence = preprocess_sentence(sentence, clean_ko)\n",
    "    print(sentence)\n",
    "    inputs = enc_tokenizer.texts_to_sequences([sentence.split()])\n",
    "    print(inputs)\n",
    "    inputs = tf.keras.preprocessing.sequence.pad_sequences(inputs,\n",
    "                                                           maxlen=enc_tensor.shape[-1],\n",
    "                                                           padding='post')\n",
    "    print(inputs.shape, inputs)\n",
    "    return inputs"
   ]
  },
  {
   "cell_type": "code",
   "execution_count": 50,
   "id": "d93ee2cd",
   "metadata": {},
   "outputs": [],
   "source": [
    "def evaluate(sentence, encoder, decoder, preprocess_func):\n",
    "    attention = np.zeros((dec_tensor.shape[-1], enc_tensor.shape[-1]))\n",
    "    \n",
    "    inputs = preprocess_func(sentence)\n",
    "\n",
    "    result = ''\n",
    "\n",
    "    enc_out = encoder(inputs)\n",
    "\n",
    "    dec_hidden = enc_out[:, -1]\n",
    "    dec_input = tf.expand_dims([dec_tokenizer.word_index['<start>']], 0)\n",
    "\n",
    "    for t in range(dec_tensor.shape[-1]):\n",
    "        predictions, dec_hidden, attention_weights = decoder(dec_input,\n",
    "                                                             dec_hidden,\n",
    "                                                             enc_out)\n",
    "\n",
    "        attention_weights = tf.reshape(attention_weights, (-1, ))\n",
    "        attention[t] = attention_weights.numpy()\n",
    "\n",
    "        predicted_id = tf.argmax(tf.math.softmax(predictions, axis=-1)[0]).numpy()\n",
    "\n",
    "        result += dec_tokenizer.index_word[predicted_id] + ' '\n",
    "\n",
    "        if dec_tokenizer.index_word[predicted_id] == '<end>':\n",
    "            return result, sentence, attention\n",
    "\n",
    "        dec_input = tf.expand_dims([predicted_id], 0)\n",
    "\n",
    "    return result, sentence, attention"
   ]
  },
  {
   "cell_type": "code",
   "execution_count": 51,
   "id": "b0fd43cd",
   "metadata": {},
   "outputs": [],
   "source": [
    "def plot_attention(attention, sentence, predicted_sentence):\n",
    "    fig = plt.figure(figsize=(4,4))\n",
    "    ax = fig.add_subplot(1, 1, 1)\n",
    "    ax.matshow(attention, cmap='viridis')\n",
    "\n",
    "    plt.rc('font', family='NanumGothic')\n",
    "    fontdict = {'fontsize': 14}\n",
    "\n",
    "    ax.set_xticklabels([''] + sentence, fontdict=fontdict, rotation=90)\n",
    "    ax.set_yticklabels([''] + predicted_sentence, fontdict=fontdict)\n",
    "\n",
    "    ax.xaxis.set_major_locator(ticker.MultipleLocator(1))\n",
    "    ax.yaxis.set_major_locator(ticker.MultipleLocator(1))\n",
    "\n",
    "    plt.show()"
   ]
  },
  {
   "cell_type": "code",
   "execution_count": 52,
   "id": "dca8a871",
   "metadata": {},
   "outputs": [],
   "source": [
    "def translate(sentence, encoder, decoder, preprocess_func):\n",
    "    result, sentence, attention = evaluate(sentence, encoder, decoder, preprocess_func)\n",
    "\n",
    "    print('Input: %s' % (sentence))\n",
    "    print('Predicted translation: {}'.format(result))\n",
    "    \n",
    "    attention = attention[:len(result.split()), :len(sentence.split())]\n",
    "    plot_attention(attention, sentence.split(), result.split(' '))"
   ]
  },
  {
   "cell_type": "code",
   "execution_count": 53,
   "id": "b8f345be",
   "metadata": {},
   "outputs": [],
   "source": [
    "def translate_tkn(sentence, encoder, decoder, preprocess_func):\n",
    "    result, sentence, attention = evaluate(sentence, encoder, decoder, preprocess_func)\n",
    "\n",
    "    print('Input: %s' % (sentence))\n",
    "    print('Predicted translation: {}'.format(result))\n",
    "    \n",
    "    attention = attention[:len(result.split()), :len(sentence.split())]\n",
    "    plot_attention(attention, sentence.split(), result.split(' '))"
   ]
  },
  {
   "cell_type": "code",
   "execution_count": 54,
   "id": "5aa87466",
   "metadata": {},
   "outputs": [],
   "source": [
    "def test_translate(sentences):\n",
    "    for sentence in sentences:\n",
    "        translate(sentence, encoder, decoder, evaluate_preprocess)"
   ]
  },
  {
   "cell_type": "code",
   "execution_count": 55,
   "id": "d4242f04",
   "metadata": {},
   "outputs": [],
   "source": [
    "def test_translate_tkn(sentences):\n",
    "    for sentence in sentences:\n",
    "        translate_tkn(sentence, encoder, decoder, evaluate_preprocess_tkn)"
   ]
  },
  {
   "cell_type": "code",
   "execution_count": 56,
   "id": "cfd3a8f8",
   "metadata": {},
   "outputs": [],
   "source": [
    "test_sentences = [\n",
    "    \"오바마는 대통령이다.\",\n",
    "    \"시민들은 도시 속에 산다.\",\n",
    "    \"커피는 필요 없다.\",\n",
    "    \"일곱 명의 사망자가 발생했다.\",\n",
    "]"
   ]
  },
  {
   "cell_type": "markdown",
   "id": "be21e4e3",
   "metadata": {},
   "source": [
    "## 시각화 - Loss"
   ]
  },
  {
   "cell_type": "code",
   "execution_count": 253,
   "id": "0a1cab40",
   "metadata": {},
   "outputs": [],
   "source": [
    "loss = []\n",
    "for item in histories[postfix]:\n",
    "    loss.append(item.numpy())"
   ]
  },
  {
   "cell_type": "code",
   "execution_count": 256,
   "id": "84c9cab3",
   "metadata": {},
   "outputs": [],
   "source": [
    "loss_value = np.array(loss)"
   ]
  },
  {
   "cell_type": "code",
   "execution_count": 269,
   "id": "f131ef23",
   "metadata": {},
   "outputs": [],
   "source": [
    "res = loss_value / round(enc_tensor.shape[0] / BATCH_SIZE)"
   ]
  },
  {
   "cell_type": "code",
   "execution_count": 272,
   "id": "43db399f",
   "metadata": {},
   "outputs": [
    {
     "data": {
      "image/png": "[encoded data removed]",
      "text/plain": [
       "<Figure size 432x288 with 1 Axes>"
      ]
     },
     "metadata": {
      "needs_background": "light"
     },
     "output_type": "display_data"
    }
   ],
   "source": [
    "plt.plot(res)\n",
    "plt.xlabel(\"Epoch\")\n",
    "plt.ylabel(\"Loss\")\n",
    "plt.show()"
   ]
  },
  {
   "cell_type": "markdown",
   "id": "ed7ef335",
   "metadata": {},
   "source": [
    "## 번역 테스트"
   ]
  },
  {
   "cell_type": "markdown",
   "id": "e851f70a",
   "metadata": {},
   "source": [
    "### 첫번째 시도 - 기본 구성"
   ]
  },
  {
   "cell_type": "code",
   "execution_count": 110,
   "id": "3d7ba07d",
   "metadata": {
    "scrolled": true
   },
   "outputs": [
    {
     "name": "stdout",
     "output_type": "stream",
     "text": [
      "Input: 오바마는 대통령이다\n",
      "Predicted translation: korea to lopez , too . <end> \n"
     ]
    },
    {
     "name": "stderr",
     "output_type": "stream",
     "text": [
      "/tmp/ipykernel_37/3492739089.py:9: UserWarning: FixedFormatter should only be used together with FixedLocator\n",
      "  ax.set_xticklabels([''] + sentence, fontdict=fontdict, rotation=90)\n",
      "/tmp/ipykernel_37/3492739089.py:10: UserWarning: FixedFormatter should only be used together with FixedLocator\n",
      "  ax.set_yticklabels([''] + predicted_sentence, fontdict=fontdict)\n"
     ]
    },
    {
     "data": {
      "image/png": "[encoded data removed]",
      "text/plain": [
       "<Figure size 288x288 with 1 Axes>"
      ]
     },
     "metadata": {
      "needs_background": "light"
     },
     "output_type": "display_data"
    },
    {
     "name": "stdout",
     "output_type": "stream",
     "text": [
      "Input: 시민들은 도시 속에 산다\n",
      "Predicted translation: they could be reduced <end> \n"
     ]
    },
    {
     "data": {
      "image/png": "[encoded data removed]",
      "text/plain": [
       "<Figure size 288x288 with 1 Axes>"
      ]
     },
     "metadata": {
      "needs_background": "light"
     },
     "output_type": "display_data"
    },
    {
     "name": "stdout",
     "output_type": "stream",
     "text": [
      "Input: 커피는 필요 없다\n",
      "Predicted translation: living in a cage in hong kong <end> \n"
     ]
    },
    {
     "data": {
      "image/png": "[encoded data removed]",
      "text/plain": [
       "<Figure size 288x288 with 1 Axes>"
      ]
     },
     "metadata": {
      "needs_background": "light"
     },
     "output_type": "display_data"
    },
    {
     "name": "stdout",
     "output_type": "stream",
     "text": [
      "Input: 일곱 명의 사망자가 발생했다\n",
      "Predicted translation: it s a lot of american classic . <end> \n"
     ]
    },
    {
     "data": {
      "image/png": "[encoded data removed]",
      "text/plain": [
       "<Figure size 288x288 with 1 Axes>"
      ]
     },
     "metadata": {
      "needs_background": "light"
     },
     "output_type": "display_data"
    }
   ],
   "source": [
    "test_translate(test_sentences)"
   ]
  },
  {
   "cell_type": "markdown",
   "id": "79278c2d",
   "metadata": {},
   "source": [
    "> 첫번째 시도, 기본 구성  \n",
    "> 전혀... 말도 안되는 번역이다."
   ]
  },
  {
   "cell_type": "markdown",
   "id": "c5f8d112",
   "metadata": {},
   "source": [
    "### 두번째 시도 - mecab 으로 한글 토큰화"
   ]
  },
  {
   "cell_type": "code",
   "execution_count": 206,
   "id": "6ed0d55b",
   "metadata": {
    "scrolled": true
   },
   "outputs": [
    {
     "name": "stdout",
     "output_type": "stream",
     "text": [
      "오바마는 대통령이다\n",
      "['오바마', '대통령', '다']\n",
      "[[301, 81, 1]]\n",
      "(1, 12) [[301  81   1   0   0   0   0   0   0   0   0   0]]\n",
      "Input: 오바마는 대통령이다.\n",
      "Predicted translation: the flu ? <end> \n"
     ]
    },
    {
     "name": "stderr",
     "output_type": "stream",
     "text": [
      "/tmp/ipykernel_37/3492739089.py:9: UserWarning: FixedFormatter should only be used together with FixedLocator\n",
      "  ax.set_xticklabels([''] + sentence, fontdict=fontdict, rotation=90)\n",
      "/tmp/ipykernel_37/3492739089.py:10: UserWarning: FixedFormatter should only be used together with FixedLocator\n",
      "  ax.set_yticklabels([''] + predicted_sentence, fontdict=fontdict)\n"
     ]
    },
    {
     "data": {
      "image/png": "[encoded data removed]",
      "text/plain": [
       "<Figure size 288x288 with 1 Axes>"
      ]
     },
     "metadata": {
      "needs_background": "light"
     },
     "output_type": "display_data"
    },
    {
     "name": "stdout",
     "output_type": "stream",
     "text": [
      "시민들은 도시 속에 산다\n",
      "['시민', '도시', '속', '산다']\n",
      "[[1123, 323, 420]]\n",
      "(1, 12) [[1123  323  420    0    0    0    0    0    0    0    0    0]]\n",
      "Input: 시민들은 도시 속에 산다.\n",
      "Predicted translation: the flu ? . . . . . . . . . . . . \n"
     ]
    },
    {
     "data": {
      "image/png": "[encoded data removed]",
      "text/plain": [
       "<Figure size 288x288 with 1 Axes>"
      ]
     },
     "metadata": {
      "needs_background": "light"
     },
     "output_type": "display_data"
    },
    {
     "name": "stdout",
     "output_type": "stream",
     "text": [
      "커피는 필요 없다\n",
      "['커피', '필요', '없', '다']\n",
      "[[1296, 219, 32, 1]]\n",
      "(1, 12) [[1296  219   32    1    0    0    0    0    0    0    0    0]]\n",
      "Input: 커피는 필요 없다.\n",
      "Predicted translation: the flu ? . . . . . . . . . . . . \n"
     ]
    },
    {
     "data": {
      "image/png": "[encoded data removed]",
      "text/plain": [
       "<Figure size 288x288 with 1 Axes>"
      ]
     },
     "metadata": {
      "needs_background": "light"
     },
     "output_type": "display_data"
    },
    {
     "name": "stdout",
     "output_type": "stream",
     "text": [
      "일곱 명의 사망자가 발생했다\n",
      "['일곱', '명', '사망자', '발생', '했', '다']\n",
      "[[6995, 15, 360, 122, 3, 1]]\n",
      "(1, 12) [[6995   15  360  122    3    1    0    0    0    0    0    0]]\n",
      "Input: 일곱 명의 사망자가 발생했다.\n",
      "Predicted translation: the flu ? <end> \n"
     ]
    },
    {
     "data": {
      "image/png": "[encoded data removed]",
      "text/plain": [
       "<Figure size 288x288 with 1 Axes>"
      ]
     },
     "metadata": {
      "needs_background": "light"
     },
     "output_type": "display_data"
    }
   ],
   "source": [
    "test_translate_tkn(test_sentences)"
   ]
  },
  {
   "cell_type": "markdown",
   "id": "d27de5ff",
   "metadata": {},
   "source": [
    "> mecab 으로 토큰화.  \n",
    "> 기본 구성보다 더 엉망이다."
   ]
  },
  {
   "cell_type": "markdown",
   "id": "6df7cc0c",
   "metadata": {},
   "source": [
    "### 세번째 시도 - 길이 조정"
   ]
  },
  {
   "cell_type": "code",
   "execution_count": 244,
   "id": "55fdd632",
   "metadata": {
    "scrolled": true
   },
   "outputs": [
    {
     "name": "stdout",
     "output_type": "stream",
     "text": [
      "오바마는 대통령이다\n",
      "['오바마', '대통령', '다']\n",
      "[[301, 81, 1]]\n",
      "(1, 12) [[301  81   1   0   0   0   0   0   0   0   0   0]]\n",
      "Input: 오바마는 대통령이다.\n",
      "Predicted translation: songdo to host g prep meetin . . . <end> \n"
     ]
    },
    {
     "name": "stderr",
     "output_type": "stream",
     "text": [
      "/tmp/ipykernel_37/3492739089.py:9: UserWarning: FixedFormatter should only be used together with FixedLocator\n",
      "  ax.set_xticklabels([''] + sentence, fontdict=fontdict, rotation=90)\n",
      "/tmp/ipykernel_37/3492739089.py:10: UserWarning: FixedFormatter should only be used together with FixedLocator\n",
      "  ax.set_yticklabels([''] + predicted_sentence, fontdict=fontdict)\n"
     ]
    },
    {
     "data": {
      "image/png": "[encoded data removed]",
      "text/plain": [
       "<Figure size 288x288 with 1 Axes>"
      ]
     },
     "metadata": {
      "needs_background": "light"
     },
     "output_type": "display_data"
    },
    {
     "name": "stdout",
     "output_type": "stream",
     "text": [
      "시민들은 도시 속에 산다\n",
      "['시민', '도시', '속', '산다']\n",
      "[[1120, 323, 420]]\n",
      "(1, 12) [[1120  323  420    0    0    0    0    0    0    0    0    0]]\n",
      "Input: 시민들은 도시 속에 산다.\n",
      "Predicted translation: the dow is not sold to go . <end> \n"
     ]
    },
    {
     "data": {
      "image/png": "[encoded data removed]",
      "text/plain": [
       "<Figure size 288x288 with 1 Axes>"
      ]
     },
     "metadata": {
      "needs_background": "light"
     },
     "output_type": "display_data"
    },
    {
     "name": "stdout",
     "output_type": "stream",
     "text": [
      "커피는 필요 없다\n",
      "['커피', '필요', '없', '다']\n",
      "[[1294, 219, 32, 1]]\n",
      "(1, 12) [[1294  219   32    1    0    0    0    0    0    0    0    0]]\n",
      "Input: 커피는 필요 없다.\n",
      "Predicted translation: flakey forecasters promise cash . . . <end> \n"
     ]
    },
    {
     "data": {
      "image/png": "[encoded data removed]",
      "text/plain": [
       "<Figure size 288x288 with 1 Axes>"
      ]
     },
     "metadata": {
      "needs_background": "light"
     },
     "output_type": "display_data"
    },
    {
     "name": "stdout",
     "output_type": "stream",
     "text": [
      "일곱 명의 사망자가 발생했다\n",
      "['일곱', '명', '사망자', '발생', '했', '다']\n",
      "[[6992, 15, 360, 122, 3, 1]]\n",
      "(1, 12) [[6992   15  360  122    3    1    0    0    0    0    0    0]]\n",
      "Input: 일곱 명의 사망자가 발생했다.\n",
      "Predicted translation: ban will thwart civil servants . . . <end> \n"
     ]
    },
    {
     "data": {
      "image/png": "[encoded data removed]",
      "text/plain": [
       "<Figure size 288x288 with 1 Axes>"
      ]
     },
     "metadata": {
      "needs_background": "light"
     },
     "output_type": "display_data"
    }
   ],
   "source": [
    "test_translate_tkn(test_sentences)"
   ]
  },
  {
   "cell_type": "markdown",
   "id": "1ccb2084",
   "metadata": {},
   "source": [
    "> mecab 토큰화  \n",
    "> 길이 1 미만 토큰 제거: 하나의 단어로 이루어진 문장들이, 그것도 중복된 데이터들이 많았다. 제거.  \n",
    "> 번역은 여전히 형편없지만, 두번째 시도처럼 이상한 결과는 보이지 않는다.  "
   ]
  },
  {
   "cell_type": "markdown",
   "id": "c528c761",
   "metadata": {},
   "source": [
    "### 네번째 시도 - 잘못된 전처리 수정"
   ]
  },
  {
   "cell_type": "code",
   "execution_count": 49,
   "id": "a963f69c",
   "metadata": {
    "scrolled": true
   },
   "outputs": [
    {
     "name": "stdout",
     "output_type": "stream",
     "text": [
      "오바마는 대통령이다\n",
      "['오바마', '대통령', '다']\n",
      "[[157, 110, 1]]\n",
      "(1, 21) [[157 110   1   0   0   0   0   0   0   0   0   0   0   0   0   0   0   0\n",
      "    0   0   0]]\n",
      "Input: 오바마는 대통령이다.\n",
      "Predicted translation: the government of the first house . <end> \n"
     ]
    },
    {
     "name": "stderr",
     "output_type": "stream",
     "text": [
      "/tmp/ipykernel_37/3492739089.py:9: UserWarning: FixedFormatter should only be used together with FixedLocator\n",
      "  ax.set_xticklabels([''] + sentence, fontdict=fontdict, rotation=90)\n",
      "/tmp/ipykernel_37/3492739089.py:10: UserWarning: FixedFormatter should only be used together with FixedLocator\n",
      "  ax.set_yticklabels([''] + predicted_sentence, fontdict=fontdict)\n"
     ]
    },
    {
     "data": {
      "image/png": "[encoded data removed]",
      "text/plain": [
       "<Figure size 288x288 with 1 Axes>"
      ]
     },
     "metadata": {
      "needs_background": "light"
     },
     "output_type": "display_data"
    },
    {
     "name": "stdout",
     "output_type": "stream",
     "text": [
      "시민들은 도시 속에 산다\n",
      "['시민', '도시', '속', '산다']\n",
      "[[1174, 330, 612]]\n",
      "(1, 21) [[1174  330  612    0    0    0    0    0    0    0    0    0    0    0\n",
      "     0    0    0    0    0    0    0]]\n",
      "Input: 시민들은 도시 속에 산다.\n",
      "Predicted translation: the ap s been been been been been been been been been been been been been been been been been been been been been been been been been been been been been been been \n"
     ]
    },
    {
     "data": {
      "image/png": "[encoded data removed]",
      "text/plain": [
       "<Figure size 288x288 with 1 Axes>"
      ]
     },
     "metadata": {
      "needs_background": "light"
     },
     "output_type": "display_data"
    },
    {
     "name": "stdout",
     "output_type": "stream",
     "text": [
      "커피는 필요 없다\n",
      "['커피', '필요', '없', '다']\n",
      "[[1482, 300, 93, 1]]\n",
      "(1, 21) [[1482  300   93    1    0    0    0    0    0    0    0    0    0    0\n",
      "     0    0    0    0    0    0    0]]\n",
      "Input: 커피는 필요 없다.\n",
      "Predicted translation: but the united states . <end> \n"
     ]
    },
    {
     "data": {
      "image/png": "[encoded data removed]",
      "text/plain": [
       "<Figure size 288x288 with 1 Axes>"
      ]
     },
     "metadata": {
      "needs_background": "light"
     },
     "output_type": "display_data"
    },
    {
     "name": "stdout",
     "output_type": "stream",
     "text": [
      "일곱 명의 사망자가 발생했다\n",
      "['일곱', '명', '사망자', '발생', '했', '다']\n",
      "[[6559, 18, 414, 189, 4, 1]]\n",
      "(1, 21) [[6559   18  414  189    4    1    0    0    0    0    0    0    0    0\n",
      "     0    0    0    0    0    0    0]]\n",
      "Input: 일곱 명의 사망자가 발생했다.\n",
      "Predicted translation: the two states . <end> \n"
     ]
    },
    {
     "data": {
      "image/png": "[encoded data removed]",
      "text/plain": [
       "<Figure size 288x288 with 1 Axes>"
      ]
     },
     "metadata": {
      "needs_background": "light"
     },
     "output_type": "display_data"
    }
   ],
   "source": [
    "test_translate_tkn(test_sentences)"
   ]
  },
  {
   "cell_type": "markdown",
   "id": "9815d8c7",
   "metadata": {},
   "source": [
    "> 잘못된 전처리 수정  \n",
    "> 더 나은 결과를 기대했으나, 형편없는 결과가 나온다.  "
   ]
  },
  {
   "cell_type": "markdown",
   "id": "7cb893a6",
   "metadata": {},
   "source": [
    "### 다섯번째 시도 - 추가 학습"
   ]
  },
  {
   "cell_type": "code",
   "execution_count": 66,
   "id": "c6c8241d",
   "metadata": {
    "scrolled": true
   },
   "outputs": [
    {
     "name": "stdout",
     "output_type": "stream",
     "text": [
      "오바마는 대통령이다\n",
      "['오바마', '대통령', '다']\n",
      "[[157, 110, 1]]\n",
      "(1, 21) [[157 110   1   0   0   0   0   0   0   0   0   0   0   0   0   0   0   0\n",
      "    0   0   0]]\n",
      "Input: 오바마는 대통령이다.\n",
      "Predicted translation: obama s . <end> \n"
     ]
    },
    {
     "name": "stderr",
     "output_type": "stream",
     "text": [
      "/tmp/ipykernel_37/3492739089.py:9: UserWarning: FixedFormatter should only be used together with FixedLocator\n",
      "  ax.set_xticklabels([''] + sentence, fontdict=fontdict, rotation=90)\n",
      "/tmp/ipykernel_37/3492739089.py:10: UserWarning: FixedFormatter should only be used together with FixedLocator\n",
      "  ax.set_yticklabels([''] + predicted_sentence, fontdict=fontdict)\n"
     ]
    },
    {
     "data": {
      "image/png": "[encoded data removed]",
      "text/plain": [
       "<Figure size 288x288 with 1 Axes>"
      ]
     },
     "metadata": {
      "needs_background": "light"
     },
     "output_type": "display_data"
    },
    {
     "name": "stdout",
     "output_type": "stream",
     "text": [
      "시민들은 도시 속에 산다\n",
      "['시민', '도시', '속', '산다']\n",
      "[[1174, 330, 612]]\n",
      "(1, 21) [[1174  330  612    0    0    0    0    0    0    0    0    0    0    0\n",
      "     0    0    0    0    0    0    0]]\n",
      "Input: 시민들은 도시 속에 산다.\n",
      "Predicted translation: the unemployment of the ventilator in the ventilator in the ventilator in the ventilator in the ventilator in the ventilator in the ventilator in the ventilator in the ventilator in the ventilator in the \n"
     ]
    },
    {
     "data": {
      "image/png": "[encoded data removed]",
      "text/plain": [
       "<Figure size 288x288 with 1 Axes>"
      ]
     },
     "metadata": {
      "needs_background": "light"
     },
     "output_type": "display_data"
    },
    {
     "name": "stdout",
     "output_type": "stream",
     "text": [
      "커피는 필요 없다\n",
      "['커피', '필요', '없', '다']\n",
      "[[1482, 300, 93, 1]]\n",
      "(1, 21) [[1482  300   93    1    0    0    0    0    0    0    0    0    0    0\n",
      "     0    0    0    0    0    0    0]]\n",
      "Input: 커피는 필요 없다.\n",
      "Predicted translation: but the coffee is a lot of the coffee is a lot of the coffee is a lot of the coffee is a lot of the coffee is a lot of the coffee is \n"
     ]
    },
    {
     "data": {
      "image/png": "[encoded data removed]",
      "text/plain": [
       "<Figure size 288x288 with 1 Axes>"
      ]
     },
     "metadata": {
      "needs_background": "light"
     },
     "output_type": "display_data"
    },
    {
     "name": "stdout",
     "output_type": "stream",
     "text": [
      "일곱 명의 사망자가 발생했다\n",
      "['일곱', '명', '사망자', '발생', '했', '다']\n",
      "[[6559, 18, 414, 189, 4, 1]]\n",
      "(1, 21) [[6559   18  414  189    4    1    0    0    0    0    0    0    0    0\n",
      "     0    0    0    0    0    0    0]]\n",
      "Input: 일곱 명의 사망자가 발생했다.\n",
      "Predicted translation: the ministry said . <end> \n"
     ]
    },
    {
     "data": {
      "image/png": "[encoded data removed]",
      "text/plain": [
       "<Figure size 288x288 with 1 Axes>"
      ]
     },
     "metadata": {
      "needs_background": "light"
     },
     "output_type": "display_data"
    }
   ],
   "source": [
    "test_translate_tkn(test_sentences)"
   ]
  },
  {
   "cell_type": "markdown",
   "id": "800fd920",
   "metadata": {},
   "source": [
    "> 10 epoch 더 학습  \n",
    "> 아.... 왜 이러는걸까...   "
   ]
  },
  {
   "cell_type": "markdown",
   "id": "794f6719",
   "metadata": {},
   "source": [
    "### 여섯번째 시도 - word2vec embedding"
   ]
  },
  {
   "cell_type": "code",
   "execution_count": 188,
   "id": "cf6472b6",
   "metadata": {
    "scrolled": true
   },
   "outputs": [
    {
     "name": "stdout",
     "output_type": "stream",
     "text": [
      "오바마는 대통령이다\n",
      "['오바마', '대통령', '다']\n",
      "[[157, 110, 1]]\n",
      "(1, 21) [[157 110   1   0   0   0   0   0   0   0   0   0   0   0   0   0   0   0\n",
      "    0   0   0]]\n",
      "Input: 오바마는 대통령이다.\n",
      "Predicted translation: the president roh moo hyun s a president bush s a president bush s a president bush s a president bush s a president bush s a president bush s a president bush s \n"
     ]
    },
    {
     "name": "stderr",
     "output_type": "stream",
     "text": [
      "/tmp/ipykernel_37/3492739089.py:9: UserWarning: FixedFormatter should only be used together with FixedLocator\n",
      "  ax.set_xticklabels([''] + sentence, fontdict=fontdict, rotation=90)\n",
      "/tmp/ipykernel_37/3492739089.py:10: UserWarning: FixedFormatter should only be used together with FixedLocator\n",
      "  ax.set_yticklabels([''] + predicted_sentence, fontdict=fontdict)\n"
     ]
    },
    {
     "data": {
      "image/png": "[encoded data removed]",
      "text/plain": [
       "<Figure size 288x288 with 1 Axes>"
      ]
     },
     "metadata": {
      "needs_background": "light"
     },
     "output_type": "display_data"
    },
    {
     "name": "stdout",
     "output_type": "stream",
     "text": [
      "시민들은 도시 속에 산다\n",
      "['시민', '도시', '속', '산다']\n",
      "[[1174, 330, 612]]\n",
      "(1, 21) [[1174  330  612    0    0    0    0    0    0    0    0    0    0    0\n",
      "     0    0    0    0    0    0    0]]\n",
      "Input: 시민들은 도시 속에 산다.\n",
      "Predicted translation: the couple of the way . <end> \n"
     ]
    },
    {
     "data": {
      "image/png": "[encoded data removed]",
      "text/plain": [
       "<Figure size 288x288 with 1 Axes>"
      ]
     },
     "metadata": {
      "needs_background": "light"
     },
     "output_type": "display_data"
    },
    {
     "name": "stdout",
     "output_type": "stream",
     "text": [
      "커피는 필요 없다\n",
      "['커피', '필요', '없', '다']\n",
      "[[1482, 300, 93, 1]]\n",
      "(1, 21) [[1482  300   93    1    0    0    0    0    0    0    0    0    0    0\n",
      "     0    0    0    0    0    0    0]]\n",
      "Input: 커피는 필요 없다.\n",
      "Predicted translation: the baby is a little thing . <end> \n"
     ]
    },
    {
     "data": {
      "image/png": "[encoded data removed]",
      "text/plain": [
       "<Figure size 288x288 with 1 Axes>"
      ]
     },
     "metadata": {
      "needs_background": "light"
     },
     "output_type": "display_data"
    },
    {
     "name": "stdout",
     "output_type": "stream",
     "text": [
      "일곱 명의 사망자가 발생했다\n",
      "['일곱', '명', '사망자', '발생', '했', '다']\n",
      "[[6559, 18, 414, 189, 4, 1]]\n",
      "(1, 21) [[6559   18  414  189    4    1    0    0    0    0    0    0    0    0\n",
      "     0    0    0    0    0    0    0]]\n",
      "Input: 일곱 명의 사망자가 발생했다.\n",
      "Predicted translation: the police said . <end> \n"
     ]
    },
    {
     "data": {
      "image/png": "[encoded data removed]",
      "text/plain": [
       "<Figure size 288x288 with 1 Axes>"
      ]
     },
     "metadata": {
      "needs_background": "light"
     },
     "output_type": "display_data"
    }
   ],
   "source": [
    "test_translate_tkn(test_sentences)"
   ]
  },
  {
   "cell_type": "markdown",
   "id": "264b699a",
   "metadata": {},
   "source": [
    "> 이것 역시 결과 형편없긴 한데, 웃기다.  \n",
    "> '대통령'이 나왔다고, the president roh moo hyun s a president bush  \n",
    "> 나머지 번역들은 엉뚱하다."
   ]
  },
  {
   "cell_type": "markdown",
   "id": "90d2f8af",
   "metadata": {},
   "source": [
    "> "
   ]
  }
 ],
 "metadata": {
  "kernelspec": {
   "display_name": "Python 3 (ipykernel)",
   "language": "python",
   "name": "python3"
  },
  "language_info": {
   "codemirror_mode": {
    "name": "ipython",
    "version": 3
   },
   "file_extension": ".py",
   "mimetype": "text/x-python",
   "name": "python",
   "nbconvert_exporter": "python",
   "pygments_lexer": "ipython3",
   "version": "3.11.0"
  }
 },
 "nbformat": 4,
 "nbformat_minor": 5
}
